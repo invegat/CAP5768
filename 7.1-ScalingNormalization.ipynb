{
 "cells": [
  {
   "cell_type": "code",
   "execution_count": null,
   "metadata": {},
   "outputs": [],
   "source": [
    "## Why you should normalize..."
   ]
  },
  {
   "cell_type": "code",
   "execution_count": null,
   "metadata": {},
   "outputs": [],
   "source": [
    "import numpy as np\n",
    "import seaborn\n",
    "import matplotlib.pyplot as plt\n",
    "from sklearn.cluster import KMeans\n",
    "\n",
    "rnorm = np.random.randn\n",
    "\n",
    "x = np.concatenate([rnorm(500), rnorm(500) + 5])\n",
    "y = rnorm(1000) * 10  "
   ]
  },
  {
   "cell_type": "code",
   "execution_count": null,
   "metadata": {},
   "outputs": [],
   "source": [
    "fig, axes = plt.subplots(1, 3)\n",
    "\n",
    "axes[0].scatter(x, y)\n",
    "axes[0].set_title('Raw Data') #  (note different axes scales)\n",
    "km = KMeans(2)\n",
    "\n",
    "clusters = km.fit_predict(np.array([x, y]).T)\n",
    "axes[1].scatter(x, y, c=clusters, cmap='bwr')\n",
    "axes[1].set_title('Basic K-means')\n",
    "\n",
    "clusters = km.fit_predict(np.array([x, y / 10]).T)\n",
    "axes[2].scatter(x, y, c=clusters, cmap='bwr')\n",
    "axes[2].set_title('Scaled K-means')"
   ]
  },
  {
   "cell_type": "code",
   "execution_count": null,
   "metadata": {},
   "outputs": [],
   "source": [
    "import pandas as pd\n",
    "df = pd.DataFrame({'x':x, 'y':y})"
   ]
  },
  {
   "cell_type": "markdown",
   "metadata": {},
   "source": [
    "# Minmax scaling"
   ]
  },
  {
   "cell_type": "markdown",
   "metadata": {},
   "source": [
    "Transform a feature (column) by scaling each feature to a given range [min, max] (default [0,1]).\n",
    "For axis = 0, the transformation is given by:\n",
    "    X_std = (X - X.min(axis=0)) / (X.max(axis=0) - X.min(axis=0))\n",
    "    X_scaled = X_std * (max - min) + min"
   ]
  },
  {
   "cell_type": "markdown",
   "metadata": {},
   "source": [
    "# Normalize: unit norm rows"
   ]
  },
  {
   "cell_type": "markdown",
   "metadata": {},
   "source": [
    "Example of normalize\n",
    "X = [[ 1., -1.,  2.],\n",
    "     [ 2.,  0.,  0.],\n",
    "     [ 0.,  1., -1.]]\n",
    "X_normalized = preprocessing.normalize(X, norm='l2')\n",
    "X_normalized = [[ 0.40..., -0.40...,  0.81...],\n",
    "       [ 1.  ...,  0.  ...,  0.  ...],\n",
    "       [ 0.  ...,  0.70..., -0.70...]])"
   ]
  },
  {
   "cell_type": "code",
   "execution_count": null,
   "metadata": {},
   "outputs": [],
   "source": [
    "from sklearn.preprocessing import minmax_scale\n",
    "df2 = pd.DataFrame(minmax_scale(df))\n",
    "from sklearn.preprocessing import normalize\n",
    "df3 = pd.DataFrame(normalize(df))\n",
    "# df2.describe()\n",
    "# df3.describe()\n",
    "# df2['x']"
   ]
  },
  {
   "cell_type": "code",
   "execution_count": null,
   "metadata": {},
   "outputs": [],
   "source": [
    "import matplotlib.pyplot as plt\n",
    "clusters = km.fit_predict(np.array([df2[0], df2[1]]).T)\n",
    "plt.scatter(df2[0], df2[1], c=clusters, cmap='bwr')"
   ]
  },
  {
   "cell_type": "code",
   "execution_count": null,
   "metadata": {},
   "outputs": [],
   "source": [
    "from sklearn.preprocessing import Normalizer\n",
    "df3 = pd.DataFrame(normalize(df))\n",
    "clusters = km.fit_predict(np.array([df3[0], df3[1]]).T)\n",
    "plt.scatter(df3[0], df3[1], c=clusters, cmap='bwr')"
   ]
  },
  {
   "cell_type": "markdown",
   "metadata": {},
   "source": [
    "StandardScaler: z = (x - u) / s"
   ]
  },
  {
   "cell_type": "code",
   "execution_count": null,
   "metadata": {},
   "outputs": [],
   "source": [
    "from sklearn.preprocessing import StandardScaler, OneHotEncoder\n",
    "df4 = StandardScaler(df)\n",
    "# clusters = km.fit_predict(np.array([df4[0], df4[1]]).T)\n",
    "# plt.scatter(df4[0], df4[1], c=clusters, cmap='bwr')\n",
    "df4"
   ]
  },
  {
   "cell_type": "code",
   "execution_count": null,
   "metadata": {},
   "outputs": [],
   "source": []
  }
 ],
 "metadata": {
  "kernelspec": {
   "display_name": "Python 3",
   "language": "python",
   "name": "python3"
  },
  "language_info": {
   "codemirror_mode": {
    "name": "ipython",
    "version": 3
   },
   "file_extension": ".py",
   "mimetype": "text/x-python",
   "name": "python",
   "nbconvert_exporter": "python",
   "pygments_lexer": "ipython3",
   "version": "3.8.3"
  }
 },
 "nbformat": 4,
 "nbformat_minor": 4
}
