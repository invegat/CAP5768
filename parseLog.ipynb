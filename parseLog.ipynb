{
 "cells": [
  {
   "cell_type": "code",
   "execution_count": 274,
   "id": "47c82717",
   "metadata": {},
   "outputs": [],
   "source": [
    "import re\n",
    "from collections import namedtuple\n",
    "import matplotlib.pyplot as plt\n",
    "import pandas as pd\n",
    "import io\n",
    "from matplotlib.pyplot import figure"
   ]
  },
  {
   "cell_type": "code",
   "execution_count": 305,
   "id": "280a8440",
   "metadata": {},
   "outputs": [
    {
     "name": "stdout",
     "output_type": "stream",
     "text": [
      " Volume in drive C has no label.\n",
      " Volume Serial Number is 0446-5F4D\n",
      "\n",
      " Directory of c:\\Users\\camar\\Downloads\\CAP5768\n",
      "\n",
      "11/29/2022  05:15 AM    <DIR>          .\n",
      "11/29/2022  05:15 AM    <DIR>          ..\n",
      "11/29/2022  04:06 AM    <DIR>          .ipynb_checkpoints\n",
      "10/13/2022  06:05 PM             2,908 2.5-DataFrames.ipynb\n",
      "10/13/2022  06:02 PM             3,069 2.6-Files.ipynb\n",
      "10/13/2022  06:02 PM           352,718 2.7-Python_for_Data_Science.ipynb\n",
      "10/13/2022  05:16 PM             3,072 5.1-simplePlots.ipynb\n",
      "10/13/2022  05:16 PM             8,919 5.2-morePlots.ipynb\n",
      "10/13/2022  05:16 PM             4,094 5.3-MDCPS-Grades-2017.ipynb\n",
      "10/13/2022  05:16 PM            35,974 5.4-barPlotWithErrorBars.ipynb\n",
      "10/13/2022  05:17 PM             3,331 6.1-DiscDistr.ipynb\n",
      "10/13/2022  05:17 PM             4,078 6.2-ContDistr.ipynb\n",
      "10/13/2022  05:17 PM             3,135 6.3-LawOfLargeNumbers.ipynb\n",
      "10/13/2022  05:05 PM             4,382 7.1-ScalingNormalization.ipynb\n",
      "10/13/2022  05:08 PM             3,594 7.2-DimRed.ipynb\n",
      "10/13/2022  04:42 PM             4,666 8.1-makingMaps-unemply.ipynb\n",
      "11/28/2022  11:57 AM            43,902 avp.png\n",
      "11/20/2022  12:34 PM    <DIR>          data\n",
      "11/25/2022  11:36 PM            10,160 getClosingsStocks.ipynb\n",
      "11/29/2022  04:12 AM            17,126 logfile.txt\n",
      "11/27/2022  12:53 PM            18,960 logfile2.txt\n",
      "11/28/2022  11:55 AM            21,981 logfileAll.log\n",
      "11/29/2022  05:15 AM            79,252 parseLog.ipynb\n",
      "09/05/2022  03:21 PM    <DIR>          pivottabler\n",
      "11/23/2022  03:55 PM            13,235 Specificity.docx\n",
      "11/28/2022  05:29 AM            26,567 stockOptionPicker.ipynb\n",
      "11/19/2022  12:39 PM            25,402 stockPicker.ipynb\n",
      "11/29/2022  04:16 AM               589 Untitled.ipynb\n",
      "10/13/2022  03:41 PM            21,178 X4.1-TextAnalytics.ipynb\n",
      "11/23/2022  04:11 PM        10,706,378 X5-NetworkAnalysisPageRank.pdf\n",
      "              25 File(s)     11,418,670 bytes\n",
      "               5 Dir(s)  720,378,847,232 bytes free\n"
     ]
    }
   ],
   "source": [
    "!dir"
   ]
  },
  {
   "cell_type": "code",
   "execution_count": 275,
   "id": "15536fa5",
   "metadata": {},
   "outputs": [],
   "source": [
    "stocks = [\"AAPL\", \"MSFT\", \"AMZN\", \"TSLA\", \"GOOGL\", \"GOOG\", \"NVDA\", \"BRK.B\", \"META\",\"UNH\" ]"
   ]
  },
  {
   "cell_type": "code",
   "execution_count": 276,
   "id": "5eb931e0",
   "metadata": {},
   "outputs": [],
   "source": [
    "Call = namedtuple('Call', ['index', 'name', 'ratio'])\n",
    "Put = namedtuple('Put', ['index', 'name', 'ratio'])"
   ]
  },
  {
   "cell_type": "code",
   "execution_count": 308,
   "id": "5ea27bc2",
   "metadata": {},
   "outputs": [
    {
     "data": {
      "text/plain": [
       "'0016  m: 12.425220000000015  baseValue: 9.517969999999998  2022-11-29 07:24:51.036109  11143 seconds'"
      ]
     },
     "execution_count": 308,
     "metadata": {},
     "output_type": "execute_result"
    }
   ],
   "source": [
    "with open(\"logfile.txt\", \"rt\") as F:\n",
    "    log = F.read()\n",
    "log[-100:]"
   ]
  },
  {
   "cell_type": "code",
   "execution_count": 297,
   "id": "4adb3a10",
   "metadata": {},
   "outputs": [
    {
     "name": "stdout",
     "output_type": "stream",
     "text": [
      "9\n"
     ]
    }
   ],
   "source": [
    "# buying call deltab: 1.0257443944980111  stock: nvda\n",
    "cd = r\"\"\"\n",
    "buying call fraction: (\\d.\\d+)\\s+stock\\:\\s+(\\w+)\n",
    "aDayIndes\\s+\\d+\\s+weekDay (\\w+)\\s+Date (\\d{4}-\\d{2}-\\d{2})\\s+00:00:00\n",
    "\"\"\"\n",
    "cd = r\"\"\"\n",
    "^buying call fraction\\: (\\d.\\d+)\\s+stock\\:\\s+(\\w+)\n",
    "\"\"\"\n",
    "cd = r\"^buying call fraction\\: (\\d.\\d+)\\s+stock\\:\\s+([\\w\\.]+)\"\n",
    "\n",
    "callsre = re.findall(cd, log, flags=re.M)\n",
    "print(len(callsre))"
   ]
  },
  {
   "cell_type": "code",
   "execution_count": 298,
   "id": "4c3e4eed",
   "metadata": {},
   "outputs": [
    {
     "name": "stdout",
     "output_type": "stream",
     "text": [
      "4\n"
     ]
    }
   ],
   "source": [
    "putsre = re.findall(r'buying put fraction\\: (-\\d\\.\\d+)\\s+stock\\:\\s+(\\w+)', log, flags=re.M)\n",
    "print(len(putsre))"
   ]
  },
  {
   "cell_type": "code",
   "execution_count": 299,
   "id": "cdd04063",
   "metadata": {},
   "outputs": [
    {
     "name": "stdout",
     "output_type": "stream",
     "text": [
      "GOOG\n",
      "0.05597574220580266\n",
      "UNH\n",
      "0.07876569626573582\n",
      "GOOG\n",
      "0.05597574220580266\n",
      "UNH\n",
      "0.07876569626573582\n",
      "BRK.B\n",
      "0.03960088754501291\n",
      "UNH\n",
      "0.08025847177881922\n",
      "BRK.B\n",
      "0.03960088754501291\n",
      "NVDA\n",
      "0.05424301151630015\n",
      "NVDA\n",
      "0.05424301151630015\n"
     ]
    }
   ],
   "source": [
    "calls = []\n",
    "for call in callsre:\n",
    "    ratio = call[0]\n",
    "    stock = call[1].upper()\n",
    "    calls.append(Call(stocks.index(stock), stock, ratio))\n",
    "    print(stock)\n",
    "    print(ratio)"
   ]
  },
  {
   "cell_type": "code",
   "execution_count": 300,
   "id": "a8e72f0d",
   "metadata": {},
   "outputs": [
    {
     "name": "stdout",
     "output_type": "stream",
     "text": [
      "UNH\n",
      "-0.08709502767081972\n",
      "UNH\n",
      "-0.09351293910667745\n",
      "UNH\n",
      "-0.09351293910667745\n",
      "UNH\n",
      "-0.09351293910667745\n"
     ]
    }
   ],
   "source": [
    "puts = []\n",
    "for put in putsre:\n",
    "    ratio = put[0]\n",
    "    stock = put[1].upper()\n",
    "    puts.append(Put(stocks.index(stock), stock, ratio))\n",
    "    print(stock)\n",
    "    print(ratio)    "
   ]
  },
  {
   "cell_type": "code",
   "execution_count": 203,
   "id": "bdf1fb60",
   "metadata": {},
   "outputs": [
    {
     "name": "stdout",
     "output_type": "stream",
     "text": [
      "[Call(index=1, name='MSFT', ratio='0.05016684169814885'), Call(index=1, name='MSFT', ratio='0.05016684169814885')]\n"
     ]
    }
   ],
   "source": [
    "print(calls)"
   ]
  },
  {
   "cell_type": "code",
   "execution_count": 204,
   "id": "5c1ca5ca",
   "metadata": {},
   "outputs": [],
   "source": [
    "\n",
    "# Friday option expire 0th td\n",
    "# call sb.dataframe.iloc[-] Volume               0.211958\n",
    "# Date      2022-10-21 00:00:00\n",
    "# Close                 0.12466\n",
    "# Name: 24, dtype: object\n",
    "# td SevenDay(index=7, count=360, price=0.1196, dayIndex=1228, cost=0.9568, call=True)\n",
    "# call net = 0.8647999999999983\n"
   ]
  },
  {
   "cell_type": "code",
   "execution_count": 301,
   "id": "918cb82b",
   "metadata": {},
   "outputs": [],
   "source": [
    "s  = r\"\"\"Friday option expire \\dth td\n",
    "(put|call) sb.dataframe.iloc\\[\\-1?\\] Volume\\s+\\d\\.\\d+\n",
    "Date\\s+(\\d{4}-\\d{2}-\\d{2}) 00\\:00\\:00\n",
    "Close\\s+(\\d\\.\\d+)\n",
    "Name: \\d+, dtype: object\n",
    "td SevenDay\\(index=(\\d), count=(\\d+), price=(\\d\\.\\d+), predictedPrice=(\\d\\.\\d+), dayIndex=(\\d+), cost=(\\d\\.\\d+), call=(True|False)\\)\n",
    "(put|call)\\s+((net\\s*=\\s+(-?\\d+\\.\\d+))|(failed\\,\\s+loss=\\s+(\\d\\.\\d+)))\"\"\""
   ]
  },
  {
   "cell_type": "code",
   "execution_count": 302,
   "id": "8b97e089",
   "metadata": {},
   "outputs": [
    {
     "data": {
      "text/plain": [
       "'Friday option expire \\\\dth td\\n(put|call) sb.dataframe.iloc\\\\[\\\\-1?\\\\] Volume\\\\s+\\\\d\\\\.\\\\d+\\nDate\\\\s+(\\\\d{4}-\\\\d{2}-\\\\d{2}) 00\\\\:00\\\\:00\\nClose\\\\s+(\\\\d\\\\.\\\\d+)\\nName: \\\\d+, dtype: object\\ntd SevenDay\\\\(index=(\\\\d), count=(\\\\d+), price=(\\\\d\\\\.\\\\d+), predictedPrice=(\\\\d\\\\.\\\\d+), dayIndex=(\\\\d+), cost=(\\\\d\\\\.\\\\d+), call=(True|False)\\\\)\\n(put|call)\\\\s+((net\\\\s*=\\\\s+(-?\\\\d+\\\\.\\\\d+))|(failed\\\\,\\\\s+loss=\\\\s+(\\\\d\\\\.\\\\d+)))'"
      ]
     },
     "execution_count": 302,
     "metadata": {},
     "output_type": "execute_result"
    }
   ],
   "source": [
    "s"
   ]
  },
  {
   "cell_type": "code",
   "execution_count": 303,
   "id": "1bd46c57",
   "metadata": {},
   "outputs": [],
   "source": [
    "pat = re.compile(s, re.M)"
   ]
  },
  {
   "cell_type": "code",
   "execution_count": 304,
   "id": "349fdd1b",
   "metadata": {},
   "outputs": [
    {
     "name": "stdout",
     "output_type": "stream",
     "text": [
      "10\n"
     ]
    }
   ],
   "source": [
    "results = re.findall(pat, log)\n",
    "print(len(results))"
   ]
  },
  {
   "cell_type": "code",
   "execution_count": 209,
   "id": "369c85fa",
   "metadata": {},
   "outputs": [
    {
     "name": "stdout",
     "output_type": "stream",
     "text": [
      "('put', '2022-10-21', '0.10113', '3', '45', '0.09906000000000001', '0.09615224', '1228', '0.09906000000000001', 'False', 'put', 'failed, loss= 0.09906000000000001', '', '', 'failed, loss= 0.09906000000000001', '0.09906000000000001')\n"
     ]
    }
   ],
   "source": [
    "print(results[0])"
   ]
  },
  {
   "cell_type": "code",
   "execution_count": 210,
   "id": "3bb9fc4c",
   "metadata": {
    "scrolled": true
   },
   "outputs": [
    {
     "name": "stdout",
     "output_type": "stream",
     "text": [
      "('put', '2022-10-21', '0.10113', '3', '45', '0.09906000000000001', '0.09615224', '1228', '0.09906000000000001', 'False', 'put', 'failed, loss= 0.09906000000000001', '', '', 'failed, loss= 0.09906000000000001', '0.09906000000000001')\n",
      "('put', '2022-10-21', '0.14727', '1', '45', '0.14299', '0.13778895', '1228', '0.14299', 'False', 'put', 'failed, loss= 0.14299', '', '', 'failed, loss= 0.14299', '0.14299')\n",
      "('put', '2022-10-21', '0.13001', '6', '45', '0.13029', '0.12509628', '1228', '0.13029', 'False', 'put', 'net =  -0.11768999999999988', 'net =  -0.11768999999999988', '-0.11768999999999988', '', '')\n",
      "('call', '2022-10-21', '0.24212', '2', '45', '0.23424', '0.24599108', '1228', '0.23424', 'True', 'call', 'net = 0.12035999999999991', 'net = 0.12035999999999991', '0.12035999999999991', '', '')\n",
      "('put', '2022-10-21', '0.10113', '3', '45', '0.09906000000000001', '0.09615224', '1228', '0.09906000000000001', 'False', 'put', 'failed, loss= 0.09906000000000001', '', '', 'failed, loss= 0.09906000000000001', '0.09906000000000001')\n",
      "('put', '2022-10-21', '0.14727', '1', '45', '0.14299', '0.13778895', '1228', '0.14299', 'False', 'put', 'failed, loss= 0.14299', '', '', 'failed, loss= 0.14299', '0.14299')\n",
      "('put', '2022-10-21', '0.13001', '6', '45', '0.13029', '0.12509628', '1228', '0.13029', 'False', 'put', 'net =  -0.11768999999999988', 'net =  -0.11768999999999988', '-0.11768999999999988', '', '')\n",
      "('call', '2022-10-21', '0.24212', '2', '45', '0.23424', '0.24599108', '1228', '0.23424', 'True', 'call', 'net = 0.12035999999999991', 'net = 0.12035999999999991', '0.12035999999999991', '', '')\n",
      "('put', '2022-10-28', '0.55124', '8', '45', '0.52088', '0.5061469', '1233', '0.52088', 'False', 'put', 'failed, loss= 0.52088', '', '', 'failed, loss= 0.52088', '0.52088')\n",
      "('put', '2022-10-28', '0.15574', '1', '45', '0.14339', '0.13778123', '1233', '0.14339', 'False', 'put', 'failed, loss= 0.14339', '', '', 'failed, loss= 0.14339', '0.14339')\n",
      "('put', '2022-10-28', '0.09658', '4', '45', '0.10053', '0.09602234', '1233', '0.10053', 'False', 'put', 'net =  0.0772199999999998', 'net =  0.0772199999999998', '0.0772199999999998', '', '')\n",
      "('put', '2022-10-28', '0.13834', '9', '45', '0.12193999999999999', '0.115547806', '1233', '0.12193999999999999', 'False', 'put', 'failed, loss= 0.12193999999999999', '', '', 'failed, loss= 0.12193999999999999', '0.12193999999999999')\n",
      "('put', '2022-11-04', '0.14156', '9', '45', '0.13176', '0.12568808', '1238', '0.13176', 'False', 'put', 'failed, loss= 0.13176', '', '', 'failed, loss= 0.13176', '0.13176')\n",
      "('put', '2022-11-04', '0.20747', '5', '45', '0.22509', '0.21432611', '1238', '0.22509', 'False', 'put', 'net =  0.567810000000001', 'net =  0.567810000000001', '0.567810000000001', '', '')\n",
      "('put', '2022-11-04', '0.22139', '2', '45', '0.22675', '0.21258083', '1238', '0.22675', 'False', 'put', 'net =  0.014450000000001406', 'net =  0.014450000000001406', '0.014450000000001406', '', '')\n",
      "('put', '2022-11-04', '0.09079', '6', '45', '0.09794', '0.09144998', '1238', '0.09794', 'False', 'put', 'net =  0.22380999999999954', 'net =  0.22380999999999954', '0.22380999999999954', '', '')\n",
      "('put', '2022-11-04', '0.14156', '9', '45', '0.13176', '0.12568808', '1238', '0.13176', 'False', 'put', 'failed, loss= 0.13176', '', '', 'failed, loss= 0.13176', '0.13176')\n",
      "('put', '2022-11-04', '0.20747', '5', '45', '0.22509', '0.21432611', '1238', '0.22509', 'False', 'put', 'net =  0.567810000000001', 'net =  0.567810000000001', '0.567810000000001', '', '')\n",
      "('put', '2022-11-11', '0.24711', '2', '45', '0.21425', '0.20716017', '1243', '0.21425', 'False', 'put', 'failed, loss= 0.21425', '', '', 'failed, loss= 0.21425', '0.21425')\n",
      "('put', '2022-11-11', '0.30972', '7', '45', '0.28385000000000005', '0.26578704', '1243', '0.28385000000000005', 'False', 'put', 'failed, loss= 0.28385000000000005', '', '', 'failed, loss= 0.28385000000000005', '0.28385000000000005')\n",
      "('put', '2022-11-11', '0.24711', '2', '45', '0.21425', '0.20716017', '1243', '0.21425', 'False', 'put', 'failed, loss= 0.21425', '', '', 'failed, loss= 0.21425', '0.21425')\n",
      "('call', '2022-11-18', '0.31076', '7', '45', '0.30319999999999997', '0.31114435', '1248', '0.30319999999999997', 'True', 'call', 'net = 0.03700000000000053', 'net = 0.03700000000000053', '0.03700000000000053', '', '')\n",
      "('put', '2022-11-18', '0.53', '8', '45', '0.5441699999999999', '0.5001876', '1248', '0.5441699999999999', 'False', 'put', 'net =  0.09347999999999579', 'net =  0.09347999999999579', '0.09347999999999579', '', '')\n"
     ]
    }
   ],
   "source": [
    "for result in results:\n",
    "    print(result)"
   ]
  },
  {
   "cell_type": "code",
   "execution_count": 261,
   "id": "3eebd05f",
   "metadata": {},
   "outputs": [],
   "source": [
    "df = pd.DataFrame(results, columns=['type', 'date', 'current price', 'index', 'count', 'price', 'predicted price',\n",
    "                                   'dayIndex', 'cost', 'call', 'A','net', 'B', 'C', 'D', 'E' ])\n",
    "df.drop(['A','B', 'C', 'D', 'E'], axis=1, inplace=True)"
   ]
  },
  {
   "cell_type": "code",
   "execution_count": 265,
   "id": "cbcf3df3",
   "metadata": {
    "scrolled": false
   },
   "outputs": [
    {
     "data": {
      "text/html": [
       "<div>\n",
       "<style scoped>\n",
       "    .dataframe tbody tr th:only-of-type {\n",
       "        vertical-align: middle;\n",
       "    }\n",
       "\n",
       "    .dataframe tbody tr th {\n",
       "        vertical-align: top;\n",
       "    }\n",
       "\n",
       "    .dataframe thead th {\n",
       "        text-align: right;\n",
       "    }\n",
       "</style>\n",
       "<table border=\"1\" class=\"dataframe\">\n",
       "  <thead>\n",
       "    <tr style=\"text-align: right;\">\n",
       "      <th></th>\n",
       "      <th>type</th>\n",
       "      <th>date</th>\n",
       "      <th>current price</th>\n",
       "      <th>index</th>\n",
       "      <th>count</th>\n",
       "      <th>price</th>\n",
       "      <th>predicted price</th>\n",
       "      <th>dayIndex</th>\n",
       "      <th>cost</th>\n",
       "      <th>call</th>\n",
       "      <th>net</th>\n",
       "    </tr>\n",
       "  </thead>\n",
       "  <tbody>\n",
       "    <tr>\n",
       "      <th>0</th>\n",
       "      <td>put</td>\n",
       "      <td>2022-10-21</td>\n",
       "      <td>0.10113</td>\n",
       "      <td>3</td>\n",
       "      <td>45</td>\n",
       "      <td>0.09906000000000001</td>\n",
       "      <td>0.09615224</td>\n",
       "      <td>1228</td>\n",
       "      <td>0.09906000000000001</td>\n",
       "      <td>False</td>\n",
       "      <td>-0.09906</td>\n",
       "    </tr>\n",
       "    <tr>\n",
       "      <th>1</th>\n",
       "      <td>put</td>\n",
       "      <td>2022-10-21</td>\n",
       "      <td>0.14727</td>\n",
       "      <td>1</td>\n",
       "      <td>45</td>\n",
       "      <td>0.14299</td>\n",
       "      <td>0.13778895</td>\n",
       "      <td>1228</td>\n",
       "      <td>0.14299</td>\n",
       "      <td>False</td>\n",
       "      <td>-0.14299</td>\n",
       "    </tr>\n",
       "    <tr>\n",
       "      <th>2</th>\n",
       "      <td>put</td>\n",
       "      <td>2022-10-21</td>\n",
       "      <td>0.13001</td>\n",
       "      <td>6</td>\n",
       "      <td>45</td>\n",
       "      <td>0.13029</td>\n",
       "      <td>0.12509628</td>\n",
       "      <td>1228</td>\n",
       "      <td>0.13029</td>\n",
       "      <td>False</td>\n",
       "      <td>-0.11769</td>\n",
       "    </tr>\n",
       "    <tr>\n",
       "      <th>3</th>\n",
       "      <td>call</td>\n",
       "      <td>2022-10-21</td>\n",
       "      <td>0.24212</td>\n",
       "      <td>2</td>\n",
       "      <td>45</td>\n",
       "      <td>0.23424</td>\n",
       "      <td>0.24599108</td>\n",
       "      <td>1228</td>\n",
       "      <td>0.23424</td>\n",
       "      <td>True</td>\n",
       "      <td>0.12036</td>\n",
       "    </tr>\n",
       "    <tr>\n",
       "      <th>4</th>\n",
       "      <td>put</td>\n",
       "      <td>2022-10-21</td>\n",
       "      <td>0.10113</td>\n",
       "      <td>3</td>\n",
       "      <td>45</td>\n",
       "      <td>0.09906000000000001</td>\n",
       "      <td>0.09615224</td>\n",
       "      <td>1228</td>\n",
       "      <td>0.09906000000000001</td>\n",
       "      <td>False</td>\n",
       "      <td>-0.09906</td>\n",
       "    </tr>\n",
       "  </tbody>\n",
       "</table>\n",
       "</div>"
      ],
      "text/plain": [
       "   type        date current price index count                price  \\\n",
       "0   put  2022-10-21       0.10113     3    45  0.09906000000000001   \n",
       "1   put  2022-10-21       0.14727     1    45              0.14299   \n",
       "2   put  2022-10-21       0.13001     6    45              0.13029   \n",
       "3  call  2022-10-21       0.24212     2    45              0.23424   \n",
       "4   put  2022-10-21       0.10113     3    45  0.09906000000000001   \n",
       "\n",
       "  predicted price dayIndex                 cost   call      net  \n",
       "0      0.09615224     1228  0.09906000000000001  False -0.09906  \n",
       "1      0.13778895     1228              0.14299  False -0.14299  \n",
       "2      0.12509628     1228              0.13029  False -0.11769  \n",
       "3      0.24599108     1228              0.23424   True  0.12036  \n",
       "4      0.09615224     1228  0.09906000000000001  False -0.09906  "
      ]
     },
     "execution_count": 265,
     "metadata": {},
     "output_type": "execute_result"
    }
   ],
   "source": [
    "df.head()"
   ]
  },
  {
   "cell_type": "code",
   "execution_count": 224,
   "id": "417bb9c4",
   "metadata": {},
   "outputs": [
    {
     "name": "stdout",
     "output_type": "stream",
     "text": [
      "0.0990600\n"
     ]
    }
   ],
   "source": [
    "print(re.search(r'failed\\, loss\\s*=\\s*(-?\\d\\.\\d+)', 'failed, loss= 0.0990600')[1])"
   ]
  },
  {
   "cell_type": "code",
   "execution_count": 252,
   "id": "da7e444b",
   "metadata": {},
   "outputs": [
    {
     "name": "stdout",
     "output_type": "stream",
     "text": [
      "re.compile('(failed\\\\, loss|net)\\\\s*=\\\\s*(-?\\\\d\\\\.\\\\d+)')\n",
      "-0.117689999\n"
     ]
    }
   ],
   "source": [
    "pat = re.compile(r'(failed\\, loss|net)\\s*=\\s*(-?\\d\\.\\d+)')\n",
    "print(pat)\n",
    "m = re.search(pat,'net = -0.117689999')\n",
    "print(float(m[2]))"
   ]
  },
  {
   "cell_type": "code",
   "execution_count": 263,
   "id": "245c2715",
   "metadata": {},
   "outputs": [],
   "source": [
    "def netMap(net):\n",
    "#     print('net',net)\n",
    "    m = re.search(pat, net)\n",
    "    if m[1] == \"failed, loss\":\n",
    "        return -float(m[2])\n",
    "    return float(m[2])"
   ]
  },
  {
   "cell_type": "code",
   "execution_count": 264,
   "id": "984d0f50",
   "metadata": {},
   "outputs": [],
   "source": [
    "df.net = df.net.map(netMap)"
   ]
  },
  {
   "cell_type": "code",
   "execution_count": 270,
   "id": "8e7011e7",
   "metadata": {},
   "outputs": [
    {
     "data": {
      "text/plain": [
       "-0.6592600000000008"
      ]
     },
     "execution_count": 270,
     "metadata": {},
     "output_type": "execute_result"
    }
   ],
   "source": [
    "df.net.sum()"
   ]
  },
  {
   "cell_type": "code",
   "execution_count": 186,
   "id": "7a824948",
   "metadata": {},
   "outputs": [],
   "source": [
    "df['date'] = pd.to_datetime(df['date'])"
   ]
  },
  {
   "cell_type": "code",
   "execution_count": 273,
   "id": "e0a47400",
   "metadata": {},
   "outputs": [
    {
     "name": "stdout",
     "output_type": "stream",
     "text": [
      "-0.9369800000000013\n"
     ]
    }
   ],
   "source": [
    "print(df.loc[df.type == 'put', 'net'].sum())"
   ]
  },
  {
   "cell_type": "code",
   "execution_count": 212,
   "id": "b42b3411",
   "metadata": {},
   "outputs": [
    {
     "data": {
      "image/png": "[encoded data removed]",
      "text/plain": [
       "<Figure size 960x480 with 1 Axes>"
      ]
     },
     "metadata": {},
     "output_type": "display_data"
    }
   ],
   "source": [
    "figure(figsize=(12, 6), dpi=80)\n",
    "plt.plot(df.date, df['current price'], label='current price')\n",
    "plt.plot(df.date, df['predicted price'], label='predicted price')\n",
    "plt.legend()\n",
    "plt.show()"
   ]
  },
  {
   "cell_type": "code",
   "execution_count": null,
   "id": "0ce4706f",
   "metadata": {},
   "outputs": [],
   "source": []
  }
 ],
 "metadata": {
  "kernelspec": {
   "display_name": "Python 3 (ipykernel)",
   "language": "python",
   "name": "python3"
  },
  "language_info": {
   "codemirror_mode": {
    "name": "ipython",
    "version": 3
   },
   "file_extension": ".py",
   "mimetype": "text/x-python",
   "name": "python",
   "nbconvert_exporter": "python",
   "pygments_lexer": "ipython3",
   "version": "3.9.10"
  }
 },
 "nbformat": 4,
 "nbformat_minor": 5
}
