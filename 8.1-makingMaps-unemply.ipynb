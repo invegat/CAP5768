{
 "cells": [
  {
   "cell_type": "code",
   "execution_count": null,
   "metadata": {},
   "outputs": [],
   "source": [
    "import pandas as pd\n",
    "import csv\n",
    "from bs4 import BeautifulSoup"
   ]
  },
  {
   "cell_type": "code",
   "execution_count": null,
   "metadata": {},
   "outputs": [],
   "source": [
    "# You may need this if beautfulsoup is not installed\n",
    "# !pip install beautifulsoup4"
   ]
  },
  {
   "cell_type": "code",
   "execution_count": null,
   "metadata": {},
   "outputs": [],
   "source": [
    "input_svg_filepath = './data/counties.svg' # USA_Counties_with_FIPS_and_names\n",
    "output_svg_filepath = './data/Unemployment_Map.svg'\n",
    "unemployment_datapath = './data/unemployment09.csv'"
   ]
  },
  {
   "cell_type": "code",
   "execution_count": null,
   "metadata": {},
   "outputs": [],
   "source": [
    "# Read in unemployment rates\n",
    "unemployment = {}\n",
    "reader = csv.reader(open(unemployment_datapath), delimiter=\",\")\n",
    "for row in reader:\n",
    "    try:\n",
    "        full_fips = row[1] + row[2]\n",
    "        rate = float( row[8].strip() )\n",
    "        unemployment[full_fips] = rate\n",
    "    except:\n",
    "        pass"
   ]
  },
  {
   "cell_type": "code",
   "execution_count": null,
   "metadata": {},
   "outputs": [],
   "source": [
    "# Load the SVG map\n",
    "svg = open(input_svg_filepath, 'r').read()"
   ]
  },
  {
   "cell_type": "code",
   "execution_count": null,
   "metadata": {},
   "outputs": [],
   "source": [
    "# Load into Beautiful Soup\n",
    "soup = BeautifulSoup(svg, selfClosingTags=['defs','sodipodi:namedview'])"
   ]
  },
  {
   "cell_type": "code",
   "execution_count": null,
   "metadata": {},
   "outputs": [],
   "source": [
    "# Find counties\n",
    "paths = soup.findAll('path')"
   ]
  },
  {
   "cell_type": "code",
   "execution_count": null,
   "metadata": {},
   "outputs": [],
   "source": [
    "# Map colors\n",
    "colors = [\"#F1EEF6\", \"#D4B9DA\", \"#C994C7\", \"#DF65B0\", \"#DD1C77\", \"#980043\"]"
   ]
  },
  {
   "cell_type": "code",
   "execution_count": null,
   "metadata": {},
   "outputs": [],
   "source": [
    "# County style\n",
    "path_style = 'font-size:12px;fill-rule:nonzero;stroke:#FFFFFF;stroke-opacity:1;stroke-width:0.1;stroke-miterlimit:4;stroke-dasharray:none;stroke-linecap:butt;marker-start:none;stroke-linejoin:bevel;fill:'"
   ]
  },
  {
   "cell_type": "code",
   "execution_count": null,
   "metadata": {},
   "outputs": [],
   "source": [
    "df = pd.read_csv(unemployment_datapath, header=None, dtype=str)\n",
    "df.loc[:, 'FIPS'] = 'FIPS_' + df.loc[:, 1] + df.loc[:, 2]\n",
    "df"
   ]
  },
  {
   "cell_type": "code",
   "execution_count": null,
   "metadata": {},
   "outputs": [],
   "source": [
    "unemployment_mapping = dict(zip(df.loc[:, 'FIPS'], df.loc[:, 8].astype(float)))"
   ]
  },
  {
   "cell_type": "code",
   "execution_count": null,
   "metadata": {},
   "outputs": [],
   "source": [
    "# Color the counties based on unemployment rate\n",
    "for p in paths:     \n",
    "    if p['id'] not in [\"State_Lines\", \"separator\"]:\n",
    "        # pass\n",
    "        try:\n",
    "            rate = unemployment_mapping[p['id']]\n",
    "        except KeyError as err:\n",
    "            pass             \n",
    "        if rate > 10:\n",
    "            color_class = 5\n",
    "        elif rate > 8:\n",
    "            color_class = 4\n",
    "        elif rate > 6:\n",
    "            color_class = 3\n",
    "        elif rate > 4:\n",
    "            color_class = 2\n",
    "        elif rate > 2:\n",
    "            color_class = 1\n",
    "        else:\n",
    "            color_class = 0\n",
    "        color = colors[color_class]\n",
    "        p['style'] = path_style + color"
   ]
  },
  {
   "cell_type": "code",
   "execution_count": null,
   "metadata": {},
   "outputs": [],
   "source": [
    "# Output map\n",
    "f = open(output_svg_filepath, \"w\")\n",
    "f.write(soup.prettify())\n",
    "f.close()\n",
    "# print(soup.prettify())"
   ]
  },
  {
   "cell_type": "code",
   "execution_count": null,
   "metadata": {},
   "outputs": [],
   "source": []
  }
 ],
 "metadata": {
  "kernelspec": {
   "display_name": "Python 3",
   "language": "python",
   "name": "python3"
  },
  "language_info": {
   "codemirror_mode": {
    "name": "ipython",
    "version": 3
   },
   "file_extension": ".py",
   "mimetype": "text/x-python",
   "name": "python",
   "nbconvert_exporter": "python",
   "pygments_lexer": "ipython3",
   "version": "3.8.3"
  }
 },
 "nbformat": 4,
 "nbformat_minor": 4
}
