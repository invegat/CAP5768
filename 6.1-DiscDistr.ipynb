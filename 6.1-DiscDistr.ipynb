{
 "cells": [
  {
   "cell_type": "code",
   "execution_count": null,
   "metadata": {},
   "outputs": [],
   "source": [
    "import matplotlib.pyplot as plt\n",
    "import numpy as np"
   ]
  },
  {
   "cell_type": "code",
   "execution_count": null,
   "metadata": {},
   "outputs": [],
   "source": [
    "##Discrete Distributions"
   ]
  },
  {
   "cell_type": "code",
   "execution_count": null,
   "metadata": {},
   "outputs": [],
   "source": [
    "np.random.seed(20000101)"
   ]
  },
  {
   "cell_type": "code",
   "execution_count": null,
   "metadata": {},
   "outputs": [],
   "source": [
    "low, high, size = -6, 3, 100\n",
    "dfUni = np.random.randint(-6, 3, 100) # np.random.random_integers(low, high, size)\n",
    "dfUni"
   ]
  },
  {
   "cell_type": "code",
   "execution_count": null,
   "metadata": {},
   "outputs": [],
   "source": [
    "count, bins, ignored = plt.hist(dfUni, 10)\n",
    "plt.plot(bins, np.ones_like(bins), linewidth=2, color='r')\n",
    "plt.show()"
   ]
  },
  {
   "cell_type": "code",
   "execution_count": null,
   "metadata": {},
   "outputs": [],
   "source": [
    "n, p, size = 10, .5, 10000  # number of trials, probability of each trial\n",
    "dfBinom = np.random.binomial(n, p, size)\n",
    "count, bins, ignored = plt.hist(dfBinom, 15)\n",
    "plt.plot(bins, np.ones_like(bins), linewidth=2, color='r')\n",
    "plt.show()"
   ]
  },
  {
   "cell_type": "code",
   "execution_count": null,
   "metadata": {},
   "outputs": [],
   "source": [
    "# The Poisson distribution is the limit of the binomial distribution for large N.\n",
    "n, size = 5, 10000 # n = number of events in a fixed time interval >= 0\n",
    "dfPoisson = np.random.poisson(n, size)\n",
    "count, bins, ignored = plt.hist(dfPoisson, 15, density=True)\n",
    "plt.show()"
   ]
  },
  {
   "cell_type": "code",
   "execution_count": null,
   "metadata": {},
   "outputs": [],
   "source": [
    "# Bernoulli trials are experiments with one of two outcomes: success or failure (e.g. coin toss)\n",
    "# Geometric distribution models the number of trials that must be run in order to achieve success. \n",
    "# It is therefore supported on the positive integers, k = 1, 2, ....\n",
    "\n",
    "p, size = 0.35, 10000 # n = number of events in a fixed time interval >= 0\n",
    "dfGeom = np.random.geometric(p, size)\n",
    "count, bins, ignored = plt.hist(dfGeom, 15)\n",
    "plt.show()"
   ]
  },
  {
   "cell_type": "code",
   "execution_count": null,
   "metadata": {},
   "outputs": [],
   "source": [
    "# Models number of trials for n successes\n",
    "n, p, size = 2, .1, 100000  # number of trials, probability of each trial\n",
    "dfNegBinom = np.random.negative_binomial(n, p, size)\n",
    "count, bins, ignored = plt.hist(dfNegBinom, 15)\n",
    "plt.plot(bins, np.ones_like(bins), linewidth=2, color='r')\n",
    "plt.show()"
   ]
  }
 ],
 "metadata": {
  "kernelspec": {
   "display_name": "Python 3",
   "language": "python",
   "name": "python3"
  },
  "language_info": {
   "codemirror_mode": {
    "name": "ipython",
    "version": 3
   },
   "file_extension": ".py",
   "mimetype": "text/x-python",
   "name": "python",
   "nbconvert_exporter": "python",
   "pygments_lexer": "ipython3",
   "version": "3.8.3"
  }
 },
 "nbformat": 4,
 "nbformat_minor": 4
}
