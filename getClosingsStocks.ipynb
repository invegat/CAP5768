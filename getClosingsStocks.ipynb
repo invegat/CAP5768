{
 "cells": [
  {
   "cell_type": "code",
   "execution_count": 26,
   "id": "b9410059",
   "metadata": {},
   "outputs": [],
   "source": [
    "from selenium import webdriver\n",
    "from selenium.webdriver.common.keys import Keys\n",
    "from selenium.webdriver.common.by import By\n",
    "from selenium.webdriver.support.ui import WebDriverWait\n",
    "from selenium.webdriver.support import expected_conditions as EC\n",
    "from time import sleep\n",
    "import os\n",
    "import shutil\n",
    "import glob\n",
    "import re\n",
    "import pandas as pd\n",
    "import os"
   ]
  },
  {
   "cell_type": "code",
   "execution_count": 27,
   "id": "4963f1ad",
   "metadata": {},
   "outputs": [],
   "source": [
    "driver = webdriver.Firefox()"
   ]
  },
  {
   "cell_type": "code",
   "execution_count": 28,
   "id": "16087cd2",
   "metadata": {},
   "outputs": [],
   "source": [
    "driver.get(\"https://www.nasdaq.com/market-activity/stocks/\")"
   ]
  },
  {
   "cell_type": "code",
   "execution_count": 29,
   "id": "9ab7de8a",
   "metadata": {},
   "outputs": [],
   "source": [
    "stocks = [\"AAPL\", \"MSFT\", \"AMZN\", \"TSLA\", \"GOOGL\", \"GOOG\", \"NVDA\", \"BRK.B\", \"META\",\"UNH\" ]"
   ]
  },
  {
   "cell_type": "code",
   "execution_count": 31,
   "id": "ad961c60",
   "metadata": {},
   "outputs": [],
   "source": [
    "# os.chdir(\"Downloads/CAP5768/Data/raw\")\n",
    "os.chdir(\"..\")"
   ]
  },
  {
   "cell_type": "code",
   "execution_count": 32,
   "id": "fad18f7e",
   "metadata": {},
   "outputs": [],
   "source": [
    "wait = WebDriverWait(driver, 10)"
   ]
  },
  {
   "cell_type": "code",
   "execution_count": 33,
   "id": "32a9a381",
   "metadata": {},
   "outputs": [],
   "source": [
    "for stock in stocks:\n",
    "    stock = stock.lower()\n",
    "    try :\n",
    "        ssbox = driver.find_element(By.ID, \"find-symbol-input\")\n",
    "    except:\n",
    "        ssbox =  driver.find_element(By.ID, \"find-symbol-input-dark\")\n",
    "    ssbox.send_keys(stock)\n",
    "    ssbox.send_keys(Keys.RETURN)\n",
    "    url = \"/market-activity/stocks/\" + stock + \"/historical\"\n",
    "    wait.until(EC.visibility_of_element_located((By.XPATH,'//a[@href=\"'+url+'\"]')))\n",
    "    historical = driver.find_element(By.XPATH,'//a[@href=\"'+url+'\"]')               \n",
    "    historical.click()\n",
    "    sleep(5)\n",
    "    WebDriverWait(driver, 60).until(EC.visibility_of_element_located((By.XPATH,\"//button[@data-value='y5']\")))\n",
    "    fiveY = driver.find_element(By.XPATH,\"//button[@data-value='y5']\")\n",
    "    fiveY.click()\n",
    "    wait.until(EC.visibility_of_element_located((By.XPATH,\"//button[@class='historical-data__controls-button--download historical-download']\")))\n",
    "    download = driver.find_element(By.XPATH,\"//button[@class='historical-data__controls-button--download historical-download']\")\n",
    "    driver.execute_script(\"arguments[0].click();\", download)\n",
    "    sleep(5)\n",
    "    list_of_files = glob.glob('c:\\\\Users\\\\camar\\\\Downloads\\\\*.csv')\n",
    "    latest_file = max(list_of_files, key=os.path.getctime)\n",
    "    shutil.move(latest_file, './' + stock + '.csv' )\n",
    "    driver.get(\"https://www.nasdaq.com/market-activity/stocks/\")"
   ]
  },
  {
   "cell_type": "code",
   "execution_count": 8,
   "id": "d1b3dd6a",
   "metadata": {},
   "outputs": [],
   "source": [
    "# driver.close()"
   ]
  },
  {
   "cell_type": "code",
   "execution_count": 22,
   "id": "ba7c7ad2",
   "metadata": {},
   "outputs": [
    {
     "ename": "FileNotFoundError",
     "evalue": "[WinError 3] The system cannot find the path specified: 'Downloads/CAP5768/Data/raw/yahoo'",
     "output_type": "error",
     "traceback": [
      "\u001b[1;31m---------------------------------------------------------------------------\u001b[0m",
      "\u001b[1;31mFileNotFoundError\u001b[0m                         Traceback (most recent call last)",
      "Cell \u001b[1;32mIn [22], line 1\u001b[0m\n\u001b[1;32m----> 1\u001b[0m \u001b[43mos\u001b[49m\u001b[38;5;241;43m.\u001b[39;49m\u001b[43mchdir\u001b[49m\u001b[43m(\u001b[49m\u001b[38;5;124;43m\"\u001b[39;49m\u001b[38;5;124;43mDownloads/CAP5768/Data/raw/yahoo\u001b[39;49m\u001b[38;5;124;43m\"\u001b[39;49m\u001b[43m)\u001b[49m\n",
      "\u001b[1;31mFileNotFoundError\u001b[0m: [WinError 3] The system cannot find the path specified: 'Downloads/CAP5768/Data/raw/yahoo'"
     ]
    }
   ],
   "source": [
    "os.chdir(\"Downloads/CAP5768/Data/raw/yahoo\")"
   ]
  },
  {
   "cell_type": "code",
   "execution_count": 17,
   "id": "0e83a33d",
   "metadata": {},
   "outputs": [
    {
     "name": "stdout",
     "output_type": "stream",
     "text": [
      "AAPL\n",
      "MSFT\n",
      "AMZN\n",
      "TSLA\n",
      "GOOGL\n",
      "GOOG\n",
      "NVDA\n",
      "BRK.B\n",
      "META\n",
      "UNH\n"
     ]
    }
   ],
   "source": [
    "for stock in stocks:\n",
    "    print(stock.upper())\n",
    "    driver.get(f'https://finance.yahoo.com/quote/{stock}/history')\n",
    "    wait.until(EC.visibility_of_element_located((By.XPATH,'//a[@download=\"'+stock.upper()+'.csv\"]')))\n",
    "    historical = driver.find_element(By.XPATH,'//a[@download=\"' + stock.upper() + '.csv\"]') \n",
    "    historical.click()\n",
    "    sleep(5)                                                  "
   ]
  },
  {
   "cell_type": "code",
   "execution_count": 34,
   "id": "fce2385b",
   "metadata": {
    "scrolled": true
   },
   "outputs": [],
   "source": [
    "driver.close()"
   ]
  },
  {
   "cell_type": "code",
   "execution_count": 38,
   "id": "b810d930",
   "metadata": {
    "scrolled": true
   },
   "outputs": [
    {
     "name": "stdout",
     "output_type": "stream",
     "text": [
      " Volume in drive C has no label.\n",
      " Volume Serial Number is 0446-5F4D\n",
      "\n",
      " Directory of c:\\Users\\camar\\Downloads\\CAP5768\\Data\\raw\\yahoo\n",
      "\n",
      "11/25/2022  06:53 PM    <DIR>          .\n",
      "11/25/2022  06:53 PM    <DIR>          ..\n",
      "11/25/2022  06:23 PM            19,008 AAPL.csv\n",
      "11/25/2022  06:24 PM            18,893 AMZN.csv\n",
      "11/25/2022  06:47 PM            18,691 BRK.B.csv\n",
      "11/25/2022  06:33 PM             1,094 geckodriver.log\n",
      "11/25/2022  06:24 PM            18,769 GOOG.csv\n",
      "11/25/2022  06:24 PM            18,752 GOOGL.csv\n",
      "11/25/2022  06:25 PM            18,904 META.csv\n",
      "11/25/2022  06:23 PM            18,940 MSFT.csv\n",
      "11/25/2022  06:24 PM            18,942 NVDA.csv\n",
      "11/25/2022  06:24 PM            18,982 TSLA.csv\n",
      "11/25/2022  06:25 PM            18,690 UNH.csv\n",
      "              11 File(s)        189,665 bytes\n",
      "               2 Dir(s)  713,531,572,224 bytes free\n"
     ]
    }
   ],
   "source": [
    "!dir"
   ]
  },
  {
   "cell_type": "code",
   "execution_count": 37,
   "id": "5075e61e",
   "metadata": {},
   "outputs": [],
   "source": [
    "os.chdir('yahoo')"
   ]
  },
  {
   "cell_type": "code",
   "execution_count": 52,
   "id": "4c47e7f9",
   "metadata": {},
   "outputs": [],
   "source": [
    "for stock in stocks:\n",
    "    df = pd.read_csv(stock + '.csv')\n",
    "    df = df[['Date', 'Close', 'Volume', 'Open', 'High', 'Low']]\n",
    "    df = df.rename(columns={'Close': 'Close/Last'})\n",
    "    df['Close/Last'] = df['Close/Last'].map(lambda x: f'${x}')\n",
    "    df['Open'] = df['Open'].map(lambda x: f'${x}')\n",
    "    df['High'] = df['High'].map(lambda x: f'${x}')\n",
    "    df['Low'] = df['Low'].map(lambda x: f'${x}')\n",
    "    last = df.iloc[-1:]\n",
    "    df = pd.read_csv(\"../\" + stock + '.csv')\n",
    "    df = pd.concat([last, df])\n",
    "    df.to_csv(\"../\" + stock + \".csv\", index=False, mode=\"w\")\n",
    "        \n",
    "        \n",
    "    \n",
    "    \n",
    "    "
   ]
  },
  {
   "cell_type": "code",
   "execution_count": 9,
   "id": "6f3f22c3",
   "metadata": {},
   "outputs": [
    {
     "ename": "IndentationError",
     "evalue": "expected an indented block (3867873855.py, line 1)",
     "output_type": "error",
     "traceback": [
      "\u001b[1;36m  Cell \u001b[1;32mIn [9], line 1\u001b[1;36m\u001b[0m\n\u001b[1;33m    with open(\"stocks.csv\", \"wt\") as outFile:\u001b[0m\n\u001b[1;37m                                             ^\u001b[0m\n\u001b[1;31mIndentationError\u001b[0m\u001b[1;31m:\u001b[0m expected an indented block\n"
     ]
    }
   ],
   "source": [
    "with open(\"stocks.csv\", \"wt\") as outFile:"
   ]
  },
  {
   "cell_type": "code",
   "execution_count": null,
   "id": "5070c9b2",
   "metadata": {},
   "outputs": [],
   "source": [
    "list_of_files = glob.glob('c:\\\\Users\\\\camar\\\\Downloads\\\\CAP5768\\\\data\\\\raw\\\\*.csv')"
   ]
  },
  {
   "cell_type": "code",
   "execution_count": null,
   "id": "b9300366",
   "metadata": {},
   "outputs": [],
   "source": [
    "with open(\"stocks.csv\", \"wt\") as outFile:\n",
    "    for csv in list_of_files:\n",
    "        with open(csv,\"rt\") as inFile:\n",
    "            data = inFile.read()\n",
    "            matches = re.findall(r\"(\\d{2}/\\d{2}/\\d{4})\\,\\$(\\d+\\.?\\d?\\d?)\", data)\n",
    "            name = os.path.basename(csv)[0:-4]\n",
    "            outFile.write(name + \"\\n\")\n",
    "            for match in matches:\n",
    "                outFile.write(f\"{match[0]}, {match[1]}\") \n",
    "                outFile.write(\"\\n\")"
   ]
  },
  {
   "cell_type": "code",
   "execution_count": null,
   "id": "0f16bfe8",
   "metadata": {},
   "outputs": [],
   "source": []
  }
 ],
 "metadata": {
  "kernelspec": {
   "display_name": "Python 3 (ipykernel)",
   "language": "python",
   "name": "python3"
  },
  "language_info": {
   "codemirror_mode": {
    "name": "ipython",
    "version": 3
   },
   "file_extension": ".py",
   "mimetype": "text/x-python",
   "name": "python",
   "nbconvert_exporter": "python",
   "pygments_lexer": "ipython3",
   "version": "3.9.10"
  }
 },
 "nbformat": 4,
 "nbformat_minor": 5
}
