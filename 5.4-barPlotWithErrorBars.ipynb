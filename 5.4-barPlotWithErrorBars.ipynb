{
 "cells": [
  {
   "cell_type": "code",
   "execution_count": 1,
   "metadata": {},
   "outputs": [],
   "source": [
    "# Draw bar charts with error bars\n",
    "import pandas as pd\n",
    "import matplotlib as mpl\n",
    "import matplotlib.pyplot as plt\n",
    "import numpy as np"
   ]
  },
  {
   "cell_type": "code",
   "execution_count": 2,
   "metadata": {},
   "outputs": [],
   "source": [
    "# Enter raw data\n",
    "aluminum = np.array([6.4e-5 , 3.01e-5 , 2.36e-5, 3.0e-5, 7.0e-5, 4.5e-5, 3.8e-5, 4.2e-5, 2.62e-5, 3.6e-5])\n",
    "copper = np.array([4.5e-5 , 1.97e-5 , 1.6e-5, 1.97e-5, 4.0e-5, 2.4e-5, 1.9e-5, 2.41e-5 , 1.85e-5, 3.3e-5 ])\n",
    "steel = np.array([3.3e-5 , 1.2e-5 , 0.9e-5, 1.2e-5, 1.3e-5, 1.6e-5, 1.4e-5, 1.58e-5, 1.32e-5 , 2.1e-5])"
   ]
  },
  {
   "cell_type": "code",
   "execution_count": 3,
   "metadata": {},
   "outputs": [],
   "source": [
    "# Calculate the average\n",
    "Aluminum_mean = np.mean(aluminum)\n",
    "Copper_mean = np.mean(copper)\n",
    "Steel_mean = np.mean(steel)"
   ]
  },
  {
   "cell_type": "code",
   "execution_count": 4,
   "metadata": {},
   "outputs": [],
   "source": [
    "# Calculate the standard deviation\n",
    "aluminum_std = np.std(aluminum)\n",
    "copper_std = np.std(copper)\n",
    "steel_std = np.std(steel)"
   ]
  },
  {
   "cell_type": "code",
   "execution_count": 5,
   "metadata": {},
   "outputs": [],
   "source": [
    "# Create lists for the plot\n",
    "materials = ['Aluminum', 'Copper', 'Steel']\n",
    "x_pos = np.arange(len(materials))\n",
    "CTEs = [Aluminum_mean, Copper_mean, Steel_mean]\n",
    "error = [aluminum_std, copper_std, steel_std]"
   ]
  },
  {
   "cell_type": "code",
   "execution_count": 6,
   "metadata": {},
   "outputs": [
    {
     "data": {
      "image/png": "[encoded data removed]",
      "text/plain": [
       "<Figure size 432x288 with 1 Axes>"
      ]
     },
     "metadata": {
      "needs_background": "light"
     },
     "output_type": "display_data"
    }
   ],
   "source": [
    "# First create figure object fig and axis object in figure called ax using matplotlib's plt.subplots()\n",
    "fig, ax = plt.subplots()\n",
    "\n",
    "# Everything in plot added to ax (axis) object. \n",
    "# Next we put a bar chart on our ax (axis) with the ax.bar() method.\n",
    "# ax.bar() method is passed:\n",
    "# x_pos -- array with the count of the number of bars.\n",
    "# CTEs -- array which contains the means or heights of the bars.\n",
    "# yerr=error sets the heights of the error bars and the standard deviations.\n",
    "# keyword arguments (align='center', alpha=0.5, ecolor='black', capsize=10) styles the plot.\n",
    "# label on y-axis with title \"Coefficient of thermal expansion (°C-1)\" using ax.set_ylabel. \n",
    "# ax.set_xticks() to feed in our number list to set the bars as numbers 1, 2, 3. \n",
    "# Then add labels to these numbered bars with ax.set_ticklabels(). \n",
    "# ax.set_title() and ax.yaxis.grid(True) adds a title and horizontal grid lines.\n",
    "ax.bar(x_pos, CTEs, yerr=error, align='center', alpha=0.5, ecolor='black', capsize=10)\n",
    "ax.set_ylabel('Coefficient of Thermal Expansion ($\\degree C^{-1}$)')\n",
    "ax.set_xticks(x_pos)\n",
    "ax.set_xticklabels(materials)\n",
    "ax.set_title('Coefficent of Thermal Expansion (CTE) of Three Metals')\n",
    "ax.yaxis.grid(True)\n",
    "\n",
    "# Save the figure and show\n",
    "plt.tight_layout()\n",
    "plt.savefig('bar_plot_with_error_bars.png')\n",
    "plt.show()"
   ]
  },
  {
   "cell_type": "code",
   "execution_count": 7,
   "metadata": {},
   "outputs": [
    {
     "data": {
      "text/html": [
       "<div>\n",
       "<style scoped>\n",
       "    .dataframe tbody tr th:only-of-type {\n",
       "        vertical-align: middle;\n",
       "    }\n",
       "\n",
       "    .dataframe tbody tr th {\n",
       "        vertical-align: top;\n",
       "    }\n",
       "\n",
       "    .dataframe thead th {\n",
       "        text-align: right;\n",
       "    }\n",
       "</style>\n",
       "<table border=\"1\" class=\"dataframe\">\n",
       "  <thead>\n",
       "    <tr style=\"text-align: right;\">\n",
       "      <th></th>\n",
       "      <th>Aluminum</th>\n",
       "      <th>Copper</th>\n",
       "      <th>Steel</th>\n",
       "    </tr>\n",
       "  </thead>\n",
       "  <tbody>\n",
       "    <tr>\n",
       "      <th>0</th>\n",
       "      <td>0.000064</td>\n",
       "      <td>0.000030</td>\n",
       "      <td>0.000023</td>\n",
       "    </tr>\n",
       "    <tr>\n",
       "      <th>1</th>\n",
       "      <td>0.000045</td>\n",
       "      <td>0.000017</td>\n",
       "      <td>0.000016</td>\n",
       "    </tr>\n",
       "    <tr>\n",
       "      <th>2</th>\n",
       "      <td>0.000033</td>\n",
       "      <td>0.000012</td>\n",
       "      <td>0.000009</td>\n",
       "    </tr>\n",
       "    <tr>\n",
       "      <th>3</th>\n",
       "      <td>0.000030</td>\n",
       "      <td>0.000070</td>\n",
       "      <td>0.000045</td>\n",
       "    </tr>\n",
       "    <tr>\n",
       "      <th>4</th>\n",
       "      <td>0.000020</td>\n",
       "      <td>0.000040</td>\n",
       "      <td>0.000024</td>\n",
       "    </tr>\n",
       "    <tr>\n",
       "      <th>5</th>\n",
       "      <td>0.000012</td>\n",
       "      <td>0.000013</td>\n",
       "      <td>0.000016</td>\n",
       "    </tr>\n",
       "    <tr>\n",
       "      <th>6</th>\n",
       "      <td>0.000038</td>\n",
       "      <td>0.000019</td>\n",
       "      <td>0.000014</td>\n",
       "    </tr>\n",
       "    <tr>\n",
       "      <th>7</th>\n",
       "      <td>0.000042</td>\n",
       "      <td>0.000024</td>\n",
       "      <td>0.000016</td>\n",
       "    </tr>\n",
       "    <tr>\n",
       "      <th>8</th>\n",
       "      <td>0.000026</td>\n",
       "      <td>0.000018</td>\n",
       "      <td>0.000013</td>\n",
       "    </tr>\n",
       "    <tr>\n",
       "      <th>9</th>\n",
       "      <td>0.000036</td>\n",
       "      <td>0.000033</td>\n",
       "      <td>0.000021</td>\n",
       "    </tr>\n",
       "  </tbody>\n",
       "</table>\n",
       "</div>"
      ],
      "text/plain": [
       "   Aluminum    Copper     Steel\n",
       "0  0.000064  0.000030  0.000023\n",
       "1  0.000045  0.000017  0.000016\n",
       "2  0.000033  0.000012  0.000009\n",
       "3  0.000030  0.000070  0.000045\n",
       "4  0.000020  0.000040  0.000024\n",
       "5  0.000012  0.000013  0.000016\n",
       "6  0.000038  0.000019  0.000014\n",
       "7  0.000042  0.000024  0.000016\n",
       "8  0.000026  0.000018  0.000013\n",
       "9  0.000036  0.000033  0.000021"
      ]
     },
     "execution_count": 7,
     "metadata": {},
     "output_type": "execute_result"
    }
   ],
   "source": [
    "# Let's redo the above plots after reading in data from a file\n",
    "df = pd.read_excel('Metal.xlsx')\n",
    "myDF = pd.DataFrame(df)\n",
    "myDF"
   ]
  },
  {
   "cell_type": "code",
   "execution_count": 8,
   "metadata": {},
   "outputs": [],
   "source": [
    "# Calculate the average\n",
    "Aluminum_mean = np.mean(np.array(myDF['Aluminum']))\n",
    "Copper_mean = np.mean(np.array(myDF['Copper']))\n",
    "Steel_mean = np.mean(np.array(myDF['Steel']))"
   ]
  },
  {
   "cell_type": "code",
   "execution_count": 9,
   "metadata": {},
   "outputs": [],
   "source": [
    "# Calculate the standard deviation\n",
    "aluminum_std = np.std(np.array(myDF['Aluminum']))\n",
    "copper_std = np.std(np.array(myDF['Copper']))\n",
    "steel_std = np.std(np.array(myDF['Steel']))"
   ]
  },
  {
   "cell_type": "code",
   "execution_count": 10,
   "metadata": {},
   "outputs": [],
   "source": [
    "# Create lists for the plot\n",
    "materials = ['Aluminum', 'Copper', 'Steel']\n",
    "x_pos = np.arange(len(materials))\n",
    "CTEs = [Aluminum_mean, Copper_mean, Steel_mean]\n",
    "error = [aluminum_std, copper_std, steel_std]"
   ]
  },
  {
   "cell_type": "code",
   "execution_count": 11,
   "metadata": {},
   "outputs": [
    {
     "data": {
      "image/png": "[encoded data removed]",
      "text/plain": [
       "<Figure size 432x288 with 1 Axes>"
      ]
     },
     "metadata": {
      "needs_background": "light"
     },
     "output_type": "display_data"
    }
   ],
   "source": [
    "# First create figure object fig and axis object in figure called ax using matplotlib's plt.subplots()\n",
    "fig, ax = plt.subplots()\n",
    "\n",
    "# Everything in plot added to ax (axis) object. \n",
    "# Next we put a bar chart on our ax (axis) with the ax.bar() method.\n",
    "# ax.bar() method is passed:\n",
    "# x_pos -- array with the count of the number of bars.\n",
    "# CTEs -- array which contains the means or heights of the bars.\n",
    "# yerr=error sets the heights of the error bars and the standard deviations.\n",
    "# keyword arguments (align='center', alpha=0.5, ecolor='black', capsize=10) styles the plot.\n",
    "# label on y-axis with title \"Coefficient of thermal expansion (°C-1)\" using ax.set_ylabel. \n",
    "# ax.set_xticks() to feed in our number list to set the bars as numbers 1, 2, 3. \n",
    "# Then add labels to these numbered bars with ax.set_ticklabels(). \n",
    "# ax.set_title() and ax.yaxis.grid(True) adds a title and horizontal grid lines.\n",
    "ax.bar(x_pos, CTEs, yerr=error, align='center', alpha=0.5, ecolor='black', capsize=10)\n",
    "ax.set_ylabel('Coefficient of Thermal Expansion ($\\degree C^{-1}$)')\n",
    "ax.set_xticks(x_pos)\n",
    "ax.set_xticklabels(materials)\n",
    "ax.set_title('Coefficent of Thermal Expansion (CTE) of Three Metals')\n",
    "ax.yaxis.grid(True)\n",
    "\n",
    "# Save the figure and show\n",
    "plt.tight_layout()\n",
    "plt.savefig('bar_plot_with_error_bars.png')\n",
    "plt.show()"
   ]
  },
  {
   "cell_type": "code",
   "execution_count": null,
   "metadata": {},
   "outputs": [],
   "source": []
  }
 ],
 "metadata": {
  "kernelspec": {
   "display_name": "Python 3",
   "language": "python",
   "name": "python3"
  },
  "language_info": {
   "codemirror_mode": {
    "name": "ipython",
    "version": 3
   },
   "file_extension": ".py",
   "mimetype": "text/x-python",
   "name": "python",
   "nbconvert_exporter": "python",
   "pygments_lexer": "ipython3",
   "version": "3.8.3"
  }
 },
 "nbformat": 4,
 "nbformat_minor": 2
}
