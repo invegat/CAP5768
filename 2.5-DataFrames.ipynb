{
 "cells": [
  {
   "cell_type": "code",
   "execution_count": null,
   "metadata": {},
   "outputs": [],
   "source": [
    "import pandas as pd\n",
    "df = pd.DataFrame({\"Gen\": [\"female\", \"female\", \"female\", \"female\", \"female\",\n",
    "                         \"male\", \"male\", \"male\", \"male\"],\n",
    "                   \"Prg\": [\"CS\", \"CS\", \"CS\", \"DS\", \"DS\",\n",
    "                         \"CS\", \"CS\", \"DS\", \"DS\"],\n",
    "                   \"Deg\": [\"MS\", \"PhD\", \"PhD\", \"MS\",\n",
    "                         \"MS\", \"PhD\", \"MS\", \"MS\", \"PhD\"],\n",
    "                   \"NumCourses\": [1, 7, 2, 5, 3, 2, 5, 3, 7]})\n",
    "df"
   ]
  },
  {
   "cell_type": "code",
   "execution_count": null,
   "metadata": {},
   "outputs": [],
   "source": [
    "# rows are indexed by \"index\"\n",
    "# columns are indexed by \"columns\"\n",
    "# entries are the \"sum\" of all D values\n",
    "tb = df.pivot_table('NumCourses', index=['Gen'],\n",
    "                    columns='Deg', aggfunc='count')\n",
    "tb"
   ]
  },
  {
   "cell_type": "code",
   "execution_count": null,
   "metadata": {},
   "outputs": [],
   "source": [
    "tb = df.pivot_table('NumCourses', index=['Gen', 'Prg'],\n",
    "                    columns='Deg', aggfunc='count')\n",
    "tb"
   ]
  },
  {
   "cell_type": "code",
   "execution_count": null,
   "metadata": {},
   "outputs": [],
   "source": [
    "tb = df.pivot_table('NumCourses', index=['Deg', 'Prg'],\n",
    "                    columns='Gen', aggfunc='mean')\n",
    "tb"
   ]
  },
  {
   "cell_type": "code",
   "execution_count": null,
   "metadata": {},
   "outputs": [],
   "source": [
    "tb = df.pivot_table('NumCourses', index=['Deg', 'Prg'],\n",
    "                    columns='Gen', aggfunc='sum')\n",
    "tb"
   ]
  },
  {
   "cell_type": "code",
   "execution_count": null,
   "metadata": {},
   "outputs": [],
   "source": [
    "tb = df.pivot_table('NumCourses', index=['Deg', 'Prg'],\n",
    "                    columns='Gen', aggfunc='sum', fill_value=0)\n",
    "tb"
   ]
  },
  {
   "cell_type": "code",
   "execution_count": null,
   "metadata": {},
   "outputs": [],
   "source": [
    "tb = df.pivot_table('NumCourses', index=['Deg', 'Prg'],\n",
    "                    columns='Gen', aggfunc='max')\n",
    "tb"
   ]
  },
  {
   "cell_type": "code",
   "execution_count": null,
   "metadata": {},
   "outputs": [],
   "source": []
  }
 ],
 "metadata": {
  "kernelspec": {
   "display_name": "Python 3",
   "language": "python",
   "name": "python3"
  },
  "language_info": {
   "codemirror_mode": {
    "name": "ipython",
    "version": 3
   },
   "file_extension": ".py",
   "mimetype": "text/x-python",
   "name": "python",
   "nbconvert_exporter": "python",
   "pygments_lexer": "ipython3",
   "version": "3.8.3"
  }
 },
 "nbformat": 4,
 "nbformat_minor": 2
}
