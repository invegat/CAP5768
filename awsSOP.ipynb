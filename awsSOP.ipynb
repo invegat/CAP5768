{
 "cells": [
  {
   "cell_type": "code",
   "execution_count": 2,
   "id": "d0776dc3-9121-4db4-80ed-3a3176c330ca",
   "metadata": {
    "tags": []
   },
   "outputs": [
    {
     "name": "stdout",
     "output_type": "stream",
     "text": [
      "2.6.2\n",
      "Num GPUs Available:  0\n",
      "Automatic pdb calling has been turned ON\n"
     ]
    }
   ],
   "source": [
    "import datetime\n",
    "import logging\n",
    "import pickle\n",
    "import os\n",
    "os.environ['TF_CPP_MIN_LOG_LEVEL'] = '3' \n",
    "# from absl import logging as aLogging\n",
    "# aLogging.set_verbosity(aLogging.ERROR)\n",
    "import pandas as pd\n",
    "import numpy as np\n",
    "import keras\n",
    "import tensorflow as tf\n",
    "tf.print(tf. __version__)\n",
    "from keras.layers import Dropout\n",
    "from keras.preprocessing.sequence import TimeseriesGenerator\n",
    "from collections import namedtuple\n",
    "import glob\n",
    "from sklearn.preprocessing import MinMaxScaler\n",
    "from keras.models import Sequential\n",
    "from keras.layers import LSTM, Dense, Activation\n",
    "from tensorflow import keras\n",
    "import math\n",
    "logging.getLogger(\"tensorflow\").setLevel(logging.ERROR)\n",
    "tf.get_logger().setLevel(tf.compat.v1.logging.FATAL)\n",
    "os.environ['TF_CPP_MIN_LOG_LEVEL'] = '3'  # FATAL\n",
    "tf.compat.v1.logging.set_verbosity(tf.compat.v1.logging.ERROR)\n",
    "logging.getLogger('tensorflow').setLevel(tf.compat.v1.logging.ERROR)\n",
    "tf.get_logger().setLevel('ERROR')\n",
    "print(\"Num GPUs Available: \", len(tf.config.list_physical_devices('GPU')))\n",
    "%pdb on\n",
    "import pdb"
   ]
  },
  {
   "cell_type": "code",
   "execution_count": 3,
   "id": "ed4f226c-6df1-44b5-9837-a51f8c181b90",
   "metadata": {
    "tags": []
   },
   "outputs": [
    {
     "name": "stdout",
     "output_type": "stream",
     "text": [
      "Requirement already satisfied: sklearn in /usr/local/lib/python3.8/site-packages (0.0)\n",
      "Requirement already satisfied: scikit-learn in /usr/local/lib/python3.8/site-packages (from sklearn) (0.24.2)\n",
      "Requirement already satisfied: scipy>=0.19.1 in /usr/local/lib/python3.8/site-packages (from scikit-learn->sklearn) (1.7.0)\n",
      "Requirement already satisfied: numpy>=1.13.3 in /usr/local/lib/python3.8/site-packages (from scikit-learn->sklearn) (1.19.5)\n",
      "Requirement already satisfied: joblib>=0.11 in /usr/local/lib/python3.8/site-packages (from scikit-learn->sklearn) (1.1.0)\n",
      "Requirement already satisfied: threadpoolctl>=2.0.0 in /usr/local/lib/python3.8/site-packages (from scikit-learn->sklearn) (3.0.0)\n",
      "\u001b[33mWARNING: Running pip as the 'root' user can result in broken permissions and conflicting behaviour with the system package manager. It is recommended to use a virtual environment instead: https://pip.pypa.io/warnings/venv\u001b[0m\n",
      "\u001b[33mWARNING: You are using pip version 21.3.1; however, version 22.3.1 is available.\n",
      "You should consider upgrading via the '/usr/local/bin/python3.8 -m pip install --upgrade pip' command.\u001b[0m\n"
     ]
    }
   ],
   "source": [
    "!pip install sklearn"
   ]
  },
  {
   "cell_type": "code",
   "execution_count": 3,
   "id": "88a747d7-a900-46a9-b3c9-5c5c48556ce7",
   "metadata": {
    "tags": []
   },
   "outputs": [
    {
     "name": "stdout",
     "output_type": "stream",
     "text": [
      "Keyring is skipped due to an exception: 'keyring.backends'\n",
      "Requirement already satisfied: pip in /opt/conda/lib/python3.7/site-packages (22.3.1)\n",
      "\u001b[33mWARNING: Running pip as the 'root' user can result in broken permissions and conflicting behaviour with the system package manager. It is recommended to use a virtual environment instead: https://pip.pypa.io/warnings/venv\u001b[0m\u001b[33m\n",
      "\u001b[0m"
     ]
    }
   ],
   "source": [
    "! pip install --upgrade pip"
   ]
  },
  {
   "cell_type": "code",
   "execution_count": 3,
   "id": "dd8656c7-b302-4979-9844-b7a4114b4284",
   "metadata": {
    "tags": []
   },
   "outputs": [],
   "source": [
    "Stock = namedtuple('Stock', ['name', 'owned', 'dataframe', 'model'])\n",
    "BuyStock = namedtuple('BuyStock', ['fraction', 'index', 'call', 'predictedPrice'])"
   ]
  },
  {
   "cell_type": "code",
   "execution_count": 4,
   "id": "02665270-6164-46b8-8725-0d4b2942d8af",
   "metadata": {
    "tags": []
   },
   "outputs": [
    {
     "name": "stdout",
     "output_type": "stream",
     "text": [
      "multiple 45\n"
     ]
    }
   ],
   "source": [
    "SevenDay = namedtuple('SevenDay', ['index', 'count', 'price', 'predictedPrice', 'dayIndex', 'cost',  'call'])\n",
    "multiple = 45\n",
    "print('multiple', multiple)"
   ]
  },
  {
   "cell_type": "code",
   "execution_count": 5,
   "id": "c5379052-cdd4-433e-8a7f-f3574111a5e9",
   "metadata": {
    "tags": []
   },
   "outputs": [
    {
     "name": "stdout",
     "output_type": "stream",
     "text": [
      "len(list_of_files) 10\n"
     ]
    }
   ],
   "source": [
    "list_of_files = glob.glob('CAP5768/data/raw/*.csv')\n",
    "print('len(list_of_files)', len(list_of_files))"
   ]
  },
  {
   "cell_type": "code",
   "execution_count": 6,
   "id": "780a8de0-844b-49a7-be53-d03578abb710",
   "metadata": {
    "tags": []
   },
   "outputs": [
    {
     "name": "stdout",
     "output_type": "stream",
     "text": [
      "-rw-r--r-- 1 root root 66633 Nov 30 05:18 CAP5768/data/raw/aapl.csv\n",
      "-rw-r--r-- 1 root root 68571 Nov 30 05:18 CAP5768/data/raw/amzn.csv\n",
      "-rw-r--r-- 1 root root 63604 Nov 30 05:18 CAP5768/data/raw/brk.b.csv\n",
      "-rw-r--r-- 1 root root 68119 Nov 30 05:18 CAP5768/data/raw/goog.csv\n",
      "-rw-r--r-- 1 root root 68147 Nov 30 05:18 CAP5768/data/raw/googl.csv\n",
      "-rw-r--r-- 1 root root 64869 Nov 30 05:18 CAP5768/data/raw/meta.csv\n",
      "-rw-r--r-- 1 root root 64484 Nov 30 05:18 CAP5768/data/raw/msft.csv\n",
      "-rw-r--r-- 1 root root 66900 Nov 30 05:18 CAP5768/data/raw/nvda.csv\n",
      "-rw-r--r-- 1 root root 70030 Nov 30 05:18 CAP5768/data/raw/tsla.csv\n",
      "-rw-r--r-- 1 root root 63406 Nov 30 05:18 CAP5768/data/raw/unh.csv\n"
     ]
    }
   ],
   "source": [
    "!ls -la CAP5768/data/raw/*.csv"
   ]
  },
  {
   "cell_type": "code",
   "execution_count": null,
   "id": "bc1d1e67-5cbd-40d4-b91b-ba233006de83",
   "metadata": {
    "tags": []
   },
   "outputs": [],
   "source": [
    "!pwd"
   ]
  },
  {
   "cell_type": "code",
   "execution_count": 6,
   "id": "71e13bb8-13f9-47ee-8c96-f52489b7b7cf",
   "metadata": {
    "tags": []
   },
   "outputs": [],
   "source": [
    "class Callback(tf.keras.callbacks.Callback):\n",
    "    def on_epoch_begin(self, epoch, logs=None):\n",
    "        return False\n",
    "    def on_epoch_end(self, epoch, logs=None):\n",
    "        return False\n",
    "    def on_batch_begin(self, batch, logs=None):\n",
    "        return False\n",
    "    def on_batch_end(self, batch, logs=None):\n",
    "        return False\n",
    "    def on_predict_batch_end(self, batch, logs=None):\n",
    "        return False\n",
    "    def on_predict_batch_begin(self, batch, logs=None):\n",
    "        return False\n",
    "    def on_train_begin(self, batch, logs=None):\n",
    "        return False\n",
    "    def on_train_end(self, batch, logs=None):\n",
    "        return False\n",
    "    def on_train_batch_begin(self, batch, logs=None):\n",
    "        return False\n",
    "    def on_train_batch_end(self, batch, logs=None):\n",
    "        return False\n",
    "    def on_test_begin(self, batch, logs=None):\n",
    "        return False\n",
    "    def on_test_end(self, batch, logs=None):\n",
    "        return False"
   ]
  },
  {
   "cell_type": "code",
   "execution_count": 7,
   "id": "26537365-f3b3-4406-ade0-80200f0ac6cf",
   "metadata": {
    "tags": []
   },
   "outputs": [
    {
     "name": "stdout",
     "output_type": "stream",
     "text": [
      "4\n"
     ]
    }
   ],
   "source": [
    "look_back = 1219  #1259\n",
    "stocks = [None,None,None,None,None,None,None,None,None,None]\n",
    "sevenDays = []\n",
    "activeDays = [False, False, False, True, True,False,False]\n",
    "testT = [1,2,3,4]\n",
    "print(testT[-1])"
   ]
  },
  {
   "cell_type": "code",
   "execution_count": 8,
   "id": "668a5511-a53f-4ff4-b4a4-8f9ef4777938",
   "metadata": {
    "tags": []
   },
   "outputs": [],
   "source": [
    "daysOfWeek = ['Monday', 'Tuesday', 'Wednesday', 'Thursday', 'Friday', 'Saturday', 'Sunday']\n",
    "bias = -0.004"
   ]
  },
  {
   "cell_type": "code",
   "execution_count": 9,
   "id": "95ddb890-7fb7-4101-87ba-efd3b1db0a9e",
   "metadata": {
    "tags": []
   },
   "outputs": [],
   "source": [
    "def predict(num_prediction, model, close_data):\n",
    "#     lb1 = look_back - 1\n",
    "#     prediction_list = close_data[-lb1:]\n",
    "    \n",
    "#     for _ in range(num_prediction):\n",
    "#         x = prediction_list[-lb1:]\n",
    "#         x = x.reshape((1, lb1, 2))\n",
    "#         m = model.predict(x)\n",
    "#         return m[0]\n",
    "        return model.predict(close_data)[0]"
   ]
  },
  {
   "cell_type": "code",
   "execution_count": 10,
   "id": "e538b6ac-640f-4dbc-bf18-f6adfca7e436",
   "metadata": {
    "tags": []
   },
   "outputs": [],
   "source": [
    "def printTransactions(m, k, d, stocks, dayIndex, aDayIndex):\n",
    "    global sevenDays\n",
    "#     print('aDayIndex', aDayIndex)\n",
    "    weekDay = stocks[0].dataframe.iloc[-1].Date.weekday()\n",
    "#     print('weekDay', weekDay)\n",
    "#     print('Date', stocks[0].dataframe.iloc[-1].Date)\n",
    "    print(f'aDayIndes {aDayIndex}     weekDay {daysOfWeek[weekDay]}   Date {stocks[0].dataframe.iloc[-1].Date}')\n",
    "#     print('k',k)\n",
    "#     print('d',d)\n",
    "    deltab = 0\n",
    "    deltabi = -1\n",
    "    # deltas = 999999999999999999\n",
    "    # deltasi = -1\n",
    "    delptab = 9999\n",
    "    delptabi = -1\n",
    "#     import pdb; pdb.set_trace()\n",
    "#     pdb.breakpoint()\n",
    "   \n",
    "#     model = Sequential()\n",
    "#     model.add(\n",
    "#         LSTM(10,\n",
    "#             activation='relu',\n",
    "#             input_shape=(look_back,1))\n",
    "#     )\n",
    "#     model.add(\n",
    "#         LSTM(10,\n",
    "#             activation='relu',\n",
    "#             input_shape=(look_back,1))\n",
    "#     )\n",
    "#     model.add(Dense(1))\n",
    "#     model.compile(optimizer='adam', loss='mse')\n",
    "\n",
    "    num_epochs = 25\n",
    "    buyStocks = []\n",
    "    for i in range(k):\n",
    "        stock = stocks[i]\n",
    "#         print('stock.model is None', stock.model is None, 'i', i, type(stock.model))\n",
    "        if stock.model is None:\n",
    "            opt = keras.optimizers.Adam(learning_rate=0.001)\n",
    "            model = Sequential()\n",
    "            model.add(LSTM(units=50,return_sequences=True,activation='relu',input_shape=(look_back-1, 2)))\n",
    "            model.add(Dropout(0.2))\n",
    "            model.add(LSTM(units=100,return_sequences=True,activation='relu'))\n",
    "            model.add(Dropout(0.2))\n",
    "#             model.add(LSTM(units=200,return_sequences=True,activation='relu'))\n",
    "#             model.add(Dropout(0.2))\n",
    "            model.add(LSTM(units=100,return_sequences=True,activation='relu'))\n",
    "            model.add(Dropout(0.2))\n",
    "            model.add(LSTM(units=50,activation='relu'))\n",
    "            model.add(Dropout(0.2))\n",
    "            model.add(Dense(units=10))\n",
    "            model.add(Activation('linear'))\n",
    "            model.compile(optimizer=opt,loss='mse', metrics=['mse']) \n",
    "        else:\n",
    "            model = stock.model\n",
    "            \n",
    "        print('name', stock.name)\n",
    "#         print('owned', stock.owned)\n",
    "#         eprint('prices', stock.prices)\n",
    "        df = stock.dataframe\n",
    "#         close_data = df['Close'].values\n",
    "        close_data = df[['Close', 'Volume']].values\n",
    "        y_close_data = df['Close'].values\n",
    "        y_close_data = y_close_data.reshape((-1,1))\n",
    "#         close_data = df['Close'].values\n",
    "#         print(f\"close_data.shape {close_data.shape}\")\n",
    "#         close_data = close_data.reshape((-1,1))  \n",
    "#         close_data = close_data.reshape((look_back + 1,2))  \n",
    "#         print('len(close_data[:-1])', len(close_data[:-1]))\n",
    "#         print('len(close_data[1:])', len(close_data[1:]))\n",
    "#         print('close_data.shape[0] - 1', close_data.shape[0] - 1)\n",
    "#         print(f\"after reshape close_data.shape {close_data.shape}\")\n",
    "#         print(f\"after reshape y_close_data.shape {y_close_data.shape}\")\n",
    "        train_generator = TimeseriesGenerator(close_data[:-1], y_close_data[1:], length=close_data.shape[0] - 2,\n",
    "                                              batch_size=20)\n",
    "#         dataset = tf.data.Dataset.from_tensor_slices(close_data[:-1], y_close_data[1:])        \n",
    "#         model.fit(x=close_data[:-1], y=y_close_data[1:], batch_size=20, epochs=num_epochs,callbacks=[Callback()], verbose=0)\n",
    "        model.fit(train_generator, epochs=num_epochs,callbacks=[Callback()], verbose=0)\n",
    "#         ?model        \n",
    "#         saver = model.fit.Saver()\n",
    "#         print('type(saver)',type(saver))\n",
    "        stock  = Stock(stock.name, stock.owned, stock.dataframe, model)\n",
    "        stocks[i] = stock\n",
    "        if not activeDays[weekDay] or ((aDayIndex - look_back) < 5):\n",
    "            continue  \n",
    "        if weekDay == 3: # Thursday            \n",
    "            pred1 = predict(1, model, close_data[-10,:])[-1]\n",
    "#         print(\"pred1\", pred1, 'stock.dataframe.iloc[-1].Close', stock.dataframe.iloc[-1].Close)\n",
    "            d = (pred1 - stock.dataframe.iloc[-1].Close) / stock.dataframe.iloc[-1].Close\n",
    "            d += bias\n",
    "#         print(f\"pred1 {pred1}  d {d}   stock.dataframe.tail(1).iloc[0].Close {stock.dataframe.tail(1).iloc[0].Close}\")\n",
    "            if d > 0.025:\n",
    "                buyStocks.append(BuyStock(d, i, True, pred1))\n",
    "            if d < -0.5:\n",
    "                buyStocks.append(BuyStock(d, i, False, pred1))\n",
    "#         if d > deltab and d > 0:\n",
    "#             deltab = d\n",
    "#             deltabi = i\n",
    "#         if d < delptab and d < 0:\n",
    "#             delptabl = d\n",
    "#             delptabli = i\n",
    "        # if d < deltas and stock.owned > 0 and d < 0:\n",
    "        #     deltas = d\n",
    "        #     deltasi = i\n",
    "         \n",
    "#     print(f\"deltab {deltab}  deltabi {deltabi}\")\n",
    "    if (aDayIndex - look_back) < 5:\n",
    "        return m\n",
    "    \n",
    "    # if deltasi == deltabi:\n",
    "    #     deltabi = -1 # sell\n",
    "    if weekDay == 4: # Friday  \n",
    "        done = []\n",
    "        for i, td in enumerate(sevenDays):\n",
    "            if aDayIndex == td.dayIndex + 6:\n",
    "                done.append(True)\n",
    "                print(f'Friday option expire {i}th td')\n",
    "                sb = stocks[td.index]\n",
    "                if td.call:\n",
    "                    print(\"call sb.dataframe.iloc[-]\", sb.dataframe.iloc[-1])\n",
    "                    print(\"td\", td)\n",
    "                    if sb.dataframe.iloc[-1].Close > td.price:\n",
    "                        plus =  td.count * (sb.dataframe.iloc[-1].Close - td.price)\n",
    "                        print('call net =', plus - td.cost)\n",
    "                        m += plus\n",
    "                    else:\n",
    "                        print('call failed, loss=', td.cost)\n",
    "\n",
    "                else:\n",
    "                    print(\"put sb.dataframe.iloc[-1]\", sb.dataframe.iloc[-1])\n",
    "                    print(\"td\", td)                \n",
    "                    if sb.dataframe.iloc[-1].Close < td.price:\n",
    "                        plus = td.count * (td.price - sb.dataframe.iloc[-1].Close)\n",
    "                        print('put net = ', plus - td.cost)\n",
    "                        m += plus\n",
    "                    else:\n",
    "                        print('put failed, loss=', td.cost)\n",
    "            else:\n",
    "                done.append(False)\n",
    "        sevenDays = [sevenDays[i] for i,v in enumerate(done) if not v]                \n",
    "       \n",
    "                              \n",
    "    if weekDay != 3: # Thursday\n",
    "        return m\n",
    "    \n",
    "    if len(buyStocks) > 0:\n",
    "        buyStocks = sorted(buyStocks, key=lambda x: abs(x.fraction))[:4]  # maximum of 4 stocks\n",
    "        toSpend = round(m * .125, 2)\n",
    "        done = False\n",
    "        while not done:            \n",
    "            for buyStock in buyStocks:\n",
    "                sb = stocks[buyStock.index]\n",
    "                cost = sb.dataframe.iloc[-1].Close\n",
    "                sharesb = multiple\n",
    "                if toSpend >= cost:\n",
    "                    print(f'buying {\"call\" if buyStock.call else \"put\"} fraction: {buyStock.fraction} stock: {sb.name}')\n",
    "                    sevenDays.append(SevenDay(buyStock.index, sharesb, sb.dataframe.iloc[-1].Close, buyStock.predictedPrice,\n",
    "                                              aDayIndex, cost, buyStock.call))\n",
    "                    toSpend -= cost\n",
    "                    m -= cost\n",
    "                else:\n",
    "                    done = True\n",
    "                    break\n",
    "    return m\n"
   ]
  },
  {
   "cell_type": "code",
   "execution_count": 11,
   "id": "2034a7b3-d6f1-474c-b877-067c7a11a4a5",
   "metadata": {
    "tags": []
   },
   "outputs": [],
   "source": [
    "def runDay(data, lookBack, dayIndex):\n",
    "#     print(f\"runDay start data[1].[2].shape {data[1][2].shape}\")\n",
    "#     lstocks = []\n",
    "#     try:\n",
    "#         with open('stocks.pkl', 'rb') as f:\n",
    "#             stocks = pickle.load(f)\n",
    "#     except:\n",
    "#         pass\n",
    "#         # for line in lines.split('\\n'):\n",
    "#         #     # eprint(f'line |{line}|')\n",
    "#         #     if len(line) > 4:\n",
    "#         #         sa = line.split()\n",
    "#         #         # eprint(f'line sa {sa}')\n",
    "#         #         stocks.append(Stock(sa[0], 0, list(map(float, sa[1:]))))\n",
    "\n",
    "    # eprint(len(stocks))\n",
    "    # eprint(stocks[0])\n",
    "\n",
    "    m,k,d = list(map(float, data[0].split()))\n",
    "    k = int(k)\n",
    "    d = int(d)\n",
    "    for di in range(k):\n",
    "        sa = data[di+1]\n",
    "        dataframe = sa[2]\n",
    "#         print(f\"runDay dataframe.shape {dataframe.shape}\")\n",
    "#         print('stock[di].model is None before', stocks[di].model is None, 'di', di, type(stocks[di].model))\n",
    "        stocks[di] = Stock(sa[0], int(sa[1]), dataframe, stocks[di].model)\n",
    "#         print('stock[di].model is None after', stocks[di].model is None, 'di', di, type(stocks[di].model))\n",
    "#     print('printTransactions')\n",
    "    m = printTransactions(m, k, d, stocks, lookBack, dayIndex)\n",
    "#     with open('stocks.pkl', 'wb') as f:\n",
    "#         pickle.dump(stocks, f)\n",
    "    return (m, stocks)"
   ]
  },
  {
   "cell_type": "code",
   "execution_count": 12,
   "id": "209f5dbd-1aa8-443f-b8df-2c6c673b86bd",
   "metadata": {
    "tags": []
   },
   "outputs": [
    {
     "name": "stdout",
     "output_type": "stream",
     "text": [
      "runDay\n",
      "aDayIndes 1219     weekDay Tuesday   Date 2022-10-04 00:00:00\n",
      "name amzn\n",
      "Extension horovod.torch has not been built: /usr/local/lib/python3.8/site-packages/horovod/torch/mpi_lib/_mpi_lib.cpython-38-x86_64-linux-gnu.so not found\n",
      "If this is not expected, reinstall Horovod with HOROVOD_WITH_PYTORCH=1 to debug the build error.\n",
      "Warning! MPI libs are missing, but python applications are still avaiable.\n",
      "[2022-12-01 06:19:59.574 tensorflow-2-6-cpu--ml-g4dn-xlarge-9f21f927d4a41ee7e7ffcbf71830:23 INFO utils.py:27] RULE_JOB_STOP_SIGNAL_FILENAME: None\n",
      "[2022-12-01 06:19:59.723 tensorflow-2-6-cpu--ml-g4dn-xlarge-9f21f927d4a41ee7e7ffcbf71830:23 INFO profiler_config_parser.py:111] Unable to find config at /opt/ml/input/config/profilerconfig.json. Profiler is disabled.\n",
      "name aapl\n",
      "name msft\n",
      "name googl\n",
      "name goog\n",
      "name tsla\n",
      "name meta\n",
      "name brk.b\n",
      "name unh\n",
      "name nvda\n"
     ]
    }
   ],
   "source": [
    "stockPrices = []\n",
    "data = []\n",
    "m = 10 # amount to spend each start\n",
    "k = 10 # number of stocks\n",
    "d = 0 # not used\n",
    "data = []\n",
    "data.append(f\"{m} {k} {d}\")\n",
    "scaler = MinMaxScaler(feature_range=(0, 0.999))\n",
    "for i, csv in enumerate(list_of_files):\n",
    "    name = os.path.basename(csv)[0:-4]\n",
    "    df = pd.read_csv(csv)\n",
    "    df['Date'] = pd.to_datetime(df['Date'])\n",
    "    df.set_axis(df['Date'])\n",
    "    df.drop(columns=['Open', 'High', 'Low'], inplace=True)\n",
    "    #,Volume,Open,High,Low\n",
    "#     breakpoint()\n",
    "    df.rename(columns={\"Close/Last\": \"Close\", \"Date\": \"Date\", \"Volume\": \"Volume\"}, inplace=True) \n",
    "    df['Close'] = pd.to_numeric(df['Close'].map(lambda x: x[1:])) / 1000\n",
    "    df['Volume'] = pd.to_numeric(df['Volume'])\n",
    "    dates = df.Date\n",
    "    closes = df.Close\n",
    "    scaled = scaler.fit_transform(df[['Volume']].values)\n",
    "    df = pd.DataFrame(scaled, index=df.index, columns=['Volume'])\n",
    "    df['Date'] = dates\n",
    "    df['Close'] = closes\n",
    "    df.sort_values(by='Date', inplace=True )\n",
    "    df.set_index('Date')\n",
    "#     print('df.iloc[0]', df.iloc[0])\n",
    "#     print('df.iloc[-1]', df.iloc[-1])\n",
    "    df.to_csv(\"CAP5768/data/sorted/\" + name + \".csv\")\n",
    "    \n",
    "#     df.info()\n",
    "    assert df.loc[df['Close'].idxmax()].Close <= 1\n",
    "    assert df.loc[df['Volume'].idxmax()].Volume <= 1\n",
    "\n",
    "    data.append((name,0,df.iloc[0:look_back + 1]))\n",
    "    stock = Stock(name, 0, df, None)\n",
    "#     print('stock.model is None', stock.model is None, 'i', i)\n",
    "    stocks[i] = stock\n",
    "    stockPrices.append(stock)\n",
    "print('runDay')    \n",
    "m, stocks = runDay(data, look_back, look_back)\n",
    "data.clear()\n",
    "# total = m + sum([k.owned * k.dataframe.iloc[look_back].Close for k in stocks])\n",
    "# print(f\"total: {total}  m: {m}\") \n",
    "# with open('stocks.pkl', 'wb') as f:\n",
    "#     pickle.dump(stocks, f)\n",
    "# with open('stockPrices.pkl', 'wb') as f:\n",
    "#     pickle.dump(stockPrices, f)    \n",
    "# with open('m.pkl', 'wb') as f:\n",
    "#     pickle.dump(m, f)        "
   ]
  },
  {
   "cell_type": "code",
   "execution_count": 22,
   "id": "1e3cd49a-c577-440a-9bb1-218d634adb7e",
   "metadata": {
    "tags": []
   },
   "outputs": [
    {
     "name": "stdout",
     "output_type": "stream",
     "text": [
      "0.09242\n",
      "0.09242\n",
      "10\n",
      "1219\n",
      "10\n",
      "0\n"
     ]
    }
   ],
   "source": [
    "global sevenDays\n",
    "stock = stockPrices[0]\n",
    "stock.dataframe.loc[0:5].Close\n",
    "stock.dataframe.iloc[-look_back:]\n",
    "stock.dataframe.tail(1).iloc[0].Close\n",
    "print(stock.dataframe.tail(1).iloc[0].Close)\n",
    "print(stock.dataframe.iloc[-1].Close)\n",
    "print(len(stockPrices))\n",
    "print(look_back)\n",
    "# print(max(stockPrices, key=lambda k: k.dataframe.shape[0]).dataframe.shape[0])\n",
    "# for dayIndex in range(look_back + 1, max(stockPrices, key=lambda k: k.dataframe.shape[0]).dataframe.shape[0]): \n",
    "#     print(dayIndex)\n",
    "print(len(stocks))\n",
    "data = []\n",
    "m = 10\n",
    "sevenDays = []\n",
    "print(len(sevenDays))"
   ]
  },
  {
   "cell_type": "code",
   "execution_count": 18,
   "id": "3a262209-39f1-43ae-a1ef-681d6adc7a2e",
   "metadata": {
    "tags": []
   },
   "outputs": [],
   "source": [
    "firstPrices = [(s.dataframe.iloc[look_back].Close, s.name) for s in stockPrices] \n",
    "baseM = 10\n",
    "baseStocks = []\n",
    "for o in firstPrices:\n",
    "    b = math.floor(1/o[0] + .35)\n",
    "    baseM -= b * o[0]\n",
    "    baseStocks.append(Stock(o[1], b, None, None))"
   ]
  },
  {
   "cell_type": "code",
   "execution_count": 19,
   "id": "54169c36-59d2-4e8e-84c8-a8414aa29539",
   "metadata": {
    "tags": []
   },
   "outputs": [],
   "source": [
    " def getBaseValue():\n",
    "    return baseM + \\\n",
    "        sum([[s.dataframe.iloc[-1].Close * stock.owned for s in stocks if s.name == stock.name][0] \n",
    "             for stock in baseStocks])"
   ]
  },
  {
   "cell_type": "code",
   "execution_count": 20,
   "id": "8f7fbdff-16cc-441a-aecb-cfa1c32da6e9",
   "metadata": {
    "tags": []
   },
   "outputs": [],
   "source": [
    "def checkForNegative(stocks):\n",
    "    if len([k for k in stocks if k.owned * k.dataframe.iloc[-1].Close < 0]) > 0:\n",
    "        print(f\"Negative Stock! {[(k, k.owned, k.dataframe.iloc[-1]) for k in stocks if k.owned * k.dataframe.iloc[-1].Close < 0]}\")"
   ]
  },
  {
   "cell_type": "code",
   "execution_count": null,
   "id": "16e25b23-409c-4886-9e51-dbc4704aea1b",
   "metadata": {
    "tags": []
   },
   "outputs": [
    {
     "name": "stdout",
     "output_type": "stream",
     "text": [
      "aDayIndes 1220     weekDay Wednesday   Date 2022-10-05 00:00:00\n",
      "name amzn\n",
      "name aapl\n",
      "name msft\n",
      "name googl\n",
      "name goog\n",
      "name tsla\n",
      "name meta\n",
      "name brk.b\n",
      "name unh\n",
      "name nvda\n",
      "m: 10.0  baseValue: 9.96199  dayIndex: 1220   2022-11-30 23:35:03.019513  321 seconds\n",
      "aDayIndes 1221     weekDay Thursday   Date 2022-10-06 00:00:00\n",
      "name amzn\n",
      "name aapl\n",
      "name msft\n",
      "name googl\n",
      "name goog\n",
      "name tsla\n",
      "name meta\n",
      "name brk.b\n",
      "name unh\n",
      "name nvda\n",
      "m: 10.0  baseValue: 9.89981  dayIndex: 1221   2022-11-30 23:40:56.375847  674 seconds\n",
      "aDayIndes 1222     weekDay Friday   Date 2022-10-07 00:00:00\n",
      "name amzn\n",
      "name aapl\n",
      "name msft\n",
      "name googl\n",
      "name goog\n",
      "name tsla\n",
      "name meta\n",
      "name brk.b\n",
      "name unh\n",
      "name nvda\n",
      "m: 10.0  baseValue: 9.488480000000003  dayIndex: 1222   2022-11-30 23:47:20.787105  1058 seconds\n",
      "aDayIndes 1223     weekDay Monday   Date 2022-10-10 00:00:00\n",
      "name amzn\n",
      "name aapl\n",
      "name msft\n",
      "name googl\n",
      "name goog\n",
      "name tsla\n",
      "name meta\n",
      "name brk.b\n",
      "name unh\n",
      "name nvda\n",
      "m: 10.0  baseValue: 9.402120000000002  dayIndex: 1223   2022-11-30 23:53:35.566851  1433 seconds\n",
      "aDayIndes 1224     weekDay Tuesday   Date 2022-10-11 00:00:00\n",
      "name amzn\n",
      "name aapl\n",
      "name msft\n",
      "name googl\n",
      "name goog\n",
      "name tsla\n",
      "name meta\n",
      "name brk.b\n",
      "name unh\n",
      "name nvda\n",
      "m: 10.0  baseValue: 9.286170000000002  dayIndex: 1224   2022-11-30 23:58:57.220988  1755 seconds\n",
      "aDayIndes 1225     weekDay Wednesday   Date 2022-10-12 00:00:00\n",
      "name amzn\n",
      "name aapl\n",
      "name msft\n",
      "name googl\n",
      "name goog\n",
      "name tsla\n",
      "name meta\n",
      "name brk.b\n",
      "name unh\n",
      "name nvda\n",
      "m: 10.0  baseValue: 9.2749  dayIndex: 1225   2022-12-01 00:05:01.951714  2120 seconds\n",
      "aDayIndes 1226     weekDay Thursday   Date 2022-10-13 00:00:00\n",
      "name amzn\n",
      "1/1 [==============================] - 0s 214ms/step\n",
      "name aapl\n",
      "1/1 [==============================] - 0s 217ms/step\n",
      "name msft\n",
      "1/1 [==============================] - 0s 219ms/step\n",
      "name googl\n",
      "1/1 [==============================] - 0s 231ms/step\n",
      "name goog\n",
      "1/1 [==============================] - 0s 227ms/step\n",
      "name tsla\n",
      "1/1 [==============================] - 0s 220ms/step\n",
      "name meta\n",
      "1/1 [==============================] - 0s 226ms/step\n",
      "name brk.b\n",
      "1/1 [==============================] - 0s 214ms/step\n",
      "name unh\n",
      "1/1 [==============================] - 0s 219ms/step\n",
      "name nvda\n",
      "1/1 [==============================] - 0s 213ms/step\n",
      "m: 10.0  baseValue: 9.492439999999998  dayIndex: 1226   2022-12-01 00:11:29.225567  2507 seconds\n",
      "aDayIndes 1227     weekDay Friday   Date 2022-10-14 00:00:00\n",
      "name amzn\n",
      "name aapl\n",
      "name msft\n",
      "name googl\n",
      "name goog\n",
      "name tsla\n",
      "name meta\n",
      "name brk.b\n",
      "name unh\n",
      "name nvda\n",
      "m: 10.0  baseValue: 9.196280000000002  dayIndex: 1227   2022-12-01 00:17:12.290105  2850 seconds\n",
      "aDayIndes 1228     weekDay Monday   Date 2022-10-17 00:00:00\n",
      "name amzn\n",
      "name aapl\n",
      "name msft\n",
      "name googl\n",
      "name goog\n",
      "name tsla\n",
      "name meta\n",
      "name brk.b\n",
      "name unh\n",
      "name nvda\n",
      "m: 10.0  baseValue: 9.570810000000002  dayIndex: 1228   2022-12-01 00:22:33.721100  3171 seconds\n",
      "aDayIndes 1229     weekDay Tuesday   Date 2022-10-18 00:00:00\n",
      "name amzn\n",
      "name aapl\n",
      "name msft\n",
      "name googl\n",
      "name goog\n",
      "name tsla\n",
      "name meta\n",
      "name brk.b\n",
      "name unh\n",
      "name nvda\n",
      "m: 10.0  baseValue: 9.633550000000001  dayIndex: 1229   2022-12-01 00:27:54.800430  3493 seconds\n",
      "aDayIndes 1230     weekDay Wednesday   Date 2022-10-19 00:00:00\n",
      "name amzn\n",
      "name aapl\n",
      "name msft\n",
      "name googl\n",
      "name goog\n",
      "name tsla\n",
      "name meta\n",
      "name brk.b\n",
      "name unh\n",
      "name nvda\n",
      "m: 10.0  baseValue: 9.59604  dayIndex: 1230   2022-12-01 00:33:15.274328  3813 seconds\n",
      "aDayIndes 1231     weekDay Thursday   Date 2022-10-20 00:00:00\n",
      "name amzn\n",
      "1/1 [==============================] - 0s 188ms/step\n",
      "name aapl\n",
      "1/1 [==============================] - 0s 189ms/step\n",
      "name msft\n",
      "1/1 [==============================] - 0s 221ms/step\n",
      "name googl\n",
      "1/1 [==============================] - 0s 222ms/step\n",
      "name goog\n",
      "1/1 [==============================] - 0s 219ms/step\n",
      "name tsla\n",
      "1/1 [==============================] - 0s 225ms/step\n",
      "name meta\n",
      "1/1 [==============================] - 0s 215ms/step\n",
      "name brk.b\n",
      "1/1 [==============================] - 0s 218ms/step\n",
      "name unh\n",
      "1/1 [==============================] - 0s 239ms/step\n",
      "name nvda\n",
      "1/1 [==============================] - 0s 214ms/step\n",
      "m: 10.0  baseValue: 9.524430000000002  dayIndex: 1231   2022-12-01 00:39:22.478146  4180 seconds\n",
      "aDayIndes 1232     weekDay Friday   Date 2022-10-21 00:00:00\n",
      "name amzn\n",
      "name aapl\n",
      "name msft\n",
      "name googl\n",
      "name goog\n",
      "name tsla\n",
      "name meta\n",
      "name brk.b\n",
      "name unh\n",
      "name nvda\n",
      "m: 10.0  baseValue: 9.718810000000001  dayIndex: 1232   2022-12-01 00:45:42.703649  4560 seconds\n",
      "aDayIndes 1233     weekDay Monday   Date 2022-10-24 00:00:00\n",
      "name amzn\n",
      "name aapl\n",
      "name msft\n",
      "name googl\n",
      "name goog\n",
      "name tsla\n",
      "name meta\n",
      "name brk.b\n",
      "name unh\n",
      "name nvda\n",
      "m: 10.0  baseValue: 9.812560000000001  dayIndex: 1233   2022-12-01 00:51:36.628371  4914 seconds\n",
      "aDayIndes 1234     weekDay Tuesday   Date 2022-10-25 00:00:00\n",
      "name amzn\n",
      "name aapl\n",
      "name msft\n",
      "name googl\n",
      "name goog\n",
      "name tsla\n"
     ]
    }
   ],
   "source": [
    "startTime = datetime.datetime.now()\n",
    "for dayIndex in range(look_back + 1, max(stockPrices, key=lambda k: k.dataframe.shape[0]).dataframe.shape[0]):        \n",
    "    data.append(f\"{m} {k} {d}\")\n",
    "    for stock in stocks:\n",
    "        dataframe = [s.dataframe for s in stockPrices if s.name == stock.name][0]\n",
    "#         print(f\"dataframe.iloc[0:dayIndex].shape {dataframe.iloc[0:dayIndex].shape}\")\n",
    "        if dataframe.shape[0] > dayIndex + 2:\n",
    "            data.append((stock.name, stock.owned, dataframe.iloc[dayIndex - look_back:dayIndex + 1]))\n",
    "        else:\n",
    "#             data.append((stock.name, stock.owned, dataframe.iloc[-(look_back + 1):]))\n",
    "            continue\n",
    "    if len(data) == k+1:  \n",
    "        m, stocks = runDay(data, look_back, dayIndex)\n",
    "        data.clear()\n",
    "#         checkForNegative(stocks)\n",
    "#     if dayIndex % 20 == 0:\n",
    "        # total = m + sum([k.owned * k.dataframe.iloc[-1].Close for k in stocks])\n",
    "        print(f\"m: {m}  baseValue: {getBaseValue()}  dayIndex: {dayIndex}   {datetime.datetime.now()}  {(datetime.datetime.now() - startTime).seconds} seconds\")  \n",
    "    else:\n",
    "        break\n",
    "for td in sevenDays:\n",
    "    print(f\"td: {td} name: {stocks[td.index].name}\")        \n",
    "total = m + sum([k.cost for k in sevenDays])\n",
    "print(f\"total: {total}  m: {m}  baseValue: {getBaseValue()}  {datetime.datetime.now()}  {(datetime.datetime.now() - startTime).seconds} seconds\")  \n",
    "\n"
   ]
  },
  {
   "cell_type": "code",
   "execution_count": null,
   "id": "2692cd13-f9d6-4abc-877a-f7b66220ba92",
   "metadata": {},
   "outputs": [],
   "source": []
  }
 ],
 "metadata": {
  "instance_type": "ml.g4dn.xlarge",
  "kernelspec": {
   "display_name": "Python 3 (TensorFlow 2.6 Python 3.8 CPU Optimized)",
   "language": "python",
   "name": "python3__SAGEMAKER_INTERNAL__arn:aws:sagemaker:us-east-1:081325390199:image/tensorflow-2.6-cpu-py38-ubuntu20.04-v1"
  },
  "language_info": {
   "codemirror_mode": {
    "name": "ipython",
    "version": 3
   },
   "file_extension": ".py",
   "mimetype": "text/x-python",
   "name": "python",
   "nbconvert_exporter": "python",
   "pygments_lexer": "ipython3",
   "version": "3.8.2"
  }
 },
 "nbformat": 4,
 "nbformat_minor": 5
}
