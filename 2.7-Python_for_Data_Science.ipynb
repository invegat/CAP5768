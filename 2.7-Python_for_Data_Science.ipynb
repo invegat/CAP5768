{
 "cells": [
  {
   "cell_type": "markdown",
   "metadata": {
    "id": "7FPBAw87HBeT"
   },
   "source": [
    "## PYTHON FOR DATA SCIENCE"
   ]
  },
  {
   "cell_type": "markdown",
   "metadata": {
    "id": "k0WSeKooZfUP"
   },
   "source": [
    "# The data science pipeline"
   ]
  },
  {
   "cell_type": "markdown",
   "metadata": {
    "id": "InalkPRQaDux"
   },
   "source": [
    "\n",
    "\n",
    "1.   Get or collect data\n",
    "2.   Manipulate and process data\n",
    "3.   Modeling and analysis\n",
    "4.   Visualize, evaluate, present, and communicate\n",
    "\n"
   ]
  },
  {
   "cell_type": "markdown",
   "metadata": {
    "id": "ZgOoRYHkaZN1"
   },
   "source": [
    "## Python's ABCs"
   ]
  },
  {
   "cell_type": "code",
   "execution_count": 5,
   "metadata": {
    "colab": {
     "base_uri": "https://localhost:8080/",
     "height": 35
    },
    "id": "xdxrPbyiYs6K",
    "outputId": "db2e9b0c-e716-4d82-e870-5584e026e3a5"
   },
   "outputs": [
    {
     "name": "stdout",
     "output_type": "stream",
     "text": [
      "This is Python!\n"
     ]
    }
   ],
   "source": [
    "print(\"This is Python!\")"
   ]
  },
  {
   "cell_type": "markdown",
   "metadata": {
    "id": "Yu6hiIlOamDG"
   },
   "source": [
    "### Functions"
   ]
  },
  {
   "cell_type": "code",
   "execution_count": 6,
   "metadata": {
    "colab": {
     "base_uri": "https://localhost:8080/",
     "height": 35
    },
    "id": "2I6jd8aYak3I",
    "outputId": "67966934-3ed2-4044-e666-f8305fc403d4"
   },
   "outputs": [
    {
     "data": {
      "text/plain": [
       "'SpongebobSpongebobSpongebobSpongebobSpongebob'"
      ]
     },
     "execution_count": 6,
     "metadata": {},
     "output_type": "execute_result"
    }
   ],
   "source": [
    "def repeatNtimes(string, n):\n",
    "  return string * n\n",
    "\n",
    "repeatNtimes(\"Spongebob\", 5)"
   ]
  },
  {
   "cell_type": "code",
   "execution_count": 7,
   "metadata": {
    "colab": {
     "base_uri": "https://localhost:8080/",
     "height": 35
    },
    "id": "A7iZyPdg6kU7",
    "outputId": "5b4a655e-20cc-48a0-e683-e4b157c128e1"
   },
   "outputs": [
    {
     "data": {
      "text/plain": [
       "25"
      ]
     },
     "execution_count": 7,
     "metadata": {},
     "output_type": "execute_result"
    }
   ],
   "source": [
    "repeatNtimes(5, 5)"
   ]
  },
  {
   "cell_type": "code",
   "execution_count": 8,
   "metadata": {
    "colab": {
     "base_uri": "https://localhost:8080/",
     "height": 35
    },
    "id": "gw_s5Wek4g-Z",
    "outputId": "e7d1ee8b-5936-484a-f778-2acdfb528f05"
   },
   "outputs": [
    {
     "data": {
      "text/plain": [
       "'SquarepantsSquarepantsSquarepantsSquarepantsSquarepants'"
      ]
     },
     "execution_count": 8,
     "metadata": {},
     "output_type": "execute_result"
    }
   ],
   "source": [
    "repeatNtimes2 = lambda string, n: string * n\n",
    "repeatNtimes2('Squarepants', 5)"
   ]
  },
  {
   "cell_type": "markdown",
   "metadata": {
    "id": "-iMssIVRa6hC"
   },
   "source": [
    "### Loops"
   ]
  },
  {
   "cell_type": "code",
   "execution_count": 9,
   "metadata": {
    "colab": {
     "base_uri": "https://localhost:8080/",
     "height": 242
    },
    "id": "w4fMXyhMa7s8",
    "outputId": "2fec0752-59c5-4fa4-9f71-9011ecd74bec"
   },
   "outputs": [
    {
     "name": "stdout",
     "output_type": "stream",
     "text": [
      "This!\n",
      "is!\n",
      "awesome!\n",
      "---\n",
      "\n",
      "0 This***\n",
      "1 is***\n",
      "2 awesome***\n",
      "---\n",
      "\n",
      "This\n",
      "is\n",
      "awesome\n"
     ]
    }
   ],
   "source": [
    "list_sentence = [\"This\", \"is\", \"awesome\"]\n",
    "for idx in range(len(list_sentence)):\n",
    "  word = list_sentence[idx]\n",
    "  print(word + \"!\")\n",
    "\n",
    "print('---\\n')\n",
    "\n",
    "for idx, word in enumerate(list_sentence):\n",
    "  print(idx, word + '***')\n",
    "\n",
    "print('---\\n')\n",
    "\n",
    "for word in list_sentence:\n",
    "  print(word)"
   ]
  },
  {
   "cell_type": "markdown",
   "metadata": {
    "id": "UnKeIAx3a2vE"
   },
   "source": [
    "### List comprehension"
   ]
  },
  {
   "cell_type": "code",
   "execution_count": 10,
   "metadata": {
    "id": "HGIVmCEoazVW"
   },
   "outputs": [],
   "source": [
    "list_sentence = [\"This\", \"is\", \"awesome\", \"and\", \"amazing\"]\n",
    "list2 = [x + '!' for x in list_sentence if x.startswith(\"a\")]"
   ]
  },
  {
   "cell_type": "code",
   "execution_count": 11,
   "metadata": {
    "colab": {
     "base_uri": "https://localhost:8080/",
     "height": 35
    },
    "id": "DTvO6-euRtj_",
    "outputId": "ab69dcda-287a-47aa-a6f9-2df3b8923933"
   },
   "outputs": [
    {
     "data": {
      "text/plain": [
       "['awesome!', 'and!', 'amazing!']"
      ]
     },
     "execution_count": 11,
     "metadata": {},
     "output_type": "execute_result"
    }
   ],
   "source": [
    "list2"
   ]
  },
  {
   "cell_type": "markdown",
   "metadata": {
    "id": "Le_0MyEW2bNy"
   },
   "source": [
    "##### This is the equivalent of:"
   ]
  },
  {
   "cell_type": "code",
   "execution_count": 12,
   "metadata": {
    "colab": {
     "base_uri": "https://localhost:8080/",
     "height": 35
    },
    "id": "9zi1ebUo2eq6",
    "outputId": "0c89e649-e691-400d-f220-5b3161d9c86e"
   },
   "outputs": [
    {
     "data": {
      "text/plain": [
       "['awesome', 'and', 'amazing']"
      ]
     },
     "execution_count": 12,
     "metadata": {},
     "output_type": "execute_result"
    }
   ],
   "source": [
    "list_sentence = [\"This\", \"is\", \"awesome\", \"and\", \"amazing\"]\n",
    "list2 = []\n",
    "for x in list_sentence:\n",
    "  if x.startswith(\"a\"):\n",
    "    list2.append(x)\n",
    "list2"
   ]
  },
  {
   "cell_type": "code",
   "execution_count": 13,
   "metadata": {
    "id": "YCVqB9G1Q57v"
   },
   "outputs": [],
   "source": [
    "x = 'string'"
   ]
  },
  {
   "cell_type": "code",
   "execution_count": 14,
   "metadata": {
    "colab": {
     "base_uri": "https://localhost:8080/",
     "height": 35
    },
    "id": "l-xrgq3yQ9R0",
    "outputId": "90701e0f-693e-4b34-88a4-7c7fe09dd59c"
   },
   "outputs": [
    {
     "data": {
      "text/plain": [
       "\"str'ing\""
      ]
     },
     "execution_count": 14,
     "metadata": {},
     "output_type": "execute_result"
    }
   ],
   "source": [
    "'string'\n",
    "\"string\"\n",
    "\n",
    "'str\"ing'\n",
    "'str\\'ing'"
   ]
  },
  {
   "cell_type": "code",
   "execution_count": 15,
   "metadata": {
    "colab": {
     "base_uri": "https://localhost:8080/",
     "height": 35
    },
    "id": "tA4BK9OSz5U0",
    "outputId": "077fd69f-77a0-4004-ede4-df05b40e4f7b"
   },
   "outputs": [
    {
     "data": {
      "text/plain": [
       "[('b', 1), ('d', 3)]"
      ]
     },
     "execution_count": 15,
     "metadata": {},
     "output_type": "execute_result"
    }
   ],
   "source": [
    "d = {'a': 0, 'b': 1, 'c': 2, 'd':3}\n",
    "[(key, value) for key, value in d.items() if value % 2 == 1]"
   ]
  },
  {
   "cell_type": "code",
   "execution_count": 16,
   "metadata": {
    "colab": {
     "base_uri": "https://localhost:8080/",
     "height": 35
    },
    "id": "m9hJ2JOf0ah5",
    "outputId": "dfb281ed-1489-440f-c7f5-2661fea38d6b"
   },
   "outputs": [
    {
     "data": {
      "text/plain": [
       "[['D!', 't!'], ['S!', 'c!', 'i!', 'e!', 'n!', 'c!', 'e!']]"
      ]
     },
     "execution_count": 16,
     "metadata": {},
     "output_type": "execute_result"
    }
   ],
   "source": [
    "[[letter + '!' for letter in string if letter != 'a'] for string in ['Data', 'Science']]"
   ]
  },
  {
   "cell_type": "code",
   "execution_count": 17,
   "metadata": {
    "colab": {
     "base_uri": "https://localhost:8080/",
     "height": 52
    },
    "id": "XfmeZAXFSh7X",
    "outputId": "f64d6dbc-7b33-4a09-bcd6-d04b95f716d2"
   },
   "outputs": [
    {
     "name": "stdout",
     "output_type": "stream",
     "text": [
      "['awesome', 'and', 'amazing']\n"
     ]
    },
    {
     "data": {
      "text/plain": [
       "[['D?', 'a!', 't?', 'a!'], ['S?', 'c?', 'i?', 'e?', 'n?', 'c?', 'e?']]"
      ]
     },
     "execution_count": 17,
     "metadata": {},
     "output_type": "execute_result"
    }
   ],
   "source": [
    "print(list2)\n",
    "[[letter + '!' if letter == 'a' else letter + '?' for letter in string ] for string in ['Data', 'Science']]"
   ]
  },
  {
   "cell_type": "markdown",
   "metadata": {
    "id": "JU7DQLnsdkQ7"
   },
   "source": [
    "# The Python ecosystem"
   ]
  },
  {
   "cell_type": "markdown",
   "metadata": {
    "id": "jb402K3F23RQ"
   },
   "source": [
    "\n",
    "* **Numpy**: N-dimensional arrays, Matrices and Linear Algebra\n",
    "* **Scipy**: Algorithms from linear algebra, optimization, statistics and signal processing\n",
    "* **Pandas**: Data Manipulation and Analysis\n",
    "* **Matplotlib**: Data Visualization\n",
    "* **IPython**: Interactive shell for Python\n",
    "* **Scikit-learn**: Machine Learning\n",
    "\n"
   ]
  },
  {
   "cell_type": "markdown",
   "metadata": {
    "id": "hKrk3NsiqtDE"
   },
   "source": [
    "# Anaconda\n",
    "\n",
    "* A bundle of data science, machine learning and visualization libraries. \n",
    "\n",
    "* Contains every library you'd need in this course.\n",
    "\n",
    "* Easiest way to avoid inter-dependency issues. \n",
    "\n",
    "## Installation\n",
    "\n",
    "1. Go to: https://www.anaconda.com/distribution/\n",
    "\n",
    "2. Download the installer for your OS and Python version of choice and follow instructions\n",
    "\n",
    "3. ???? \n",
    "\n",
    "4. PROFIT!!\n",
    "\n",
    "# Jupyter Notebook\n",
    "\n",
    "* A browser-based notebook with support for code, text, mathematical expressions, inline plots and other rich media\n",
    "\n",
    "* This presentation is a Jupyter notebook. \n",
    "\n",
    "# Colab\n",
    "\n",
    "* Colaboratory is a free Jupyter notebook environment that requires no setup and runs entirely in the cloud.\n",
    "\n",
    "* With Colaboratory you can write and execute code, save and share your analyses, and access powerful computing resources, all for free from your browser.\n",
    "\n",
    "* This presentation is a Jupyter notebook, on Colab!"
   ]
  },
  {
   "cell_type": "markdown",
   "metadata": {
    "id": "bCnNj78hzKC-"
   },
   "source": [
    "# Pandas"
   ]
  },
  {
   "cell_type": "markdown",
   "metadata": {
    "id": "CFEpHGkdz3gs"
   },
   "source": [
    "* Pandas is a library for data manipulation and analysis\n",
    "\n",
    "* Data structures: Series and DataFrame (tabular data)\n",
    "\n",
    "* Data is loaded in-memory, hence super fast (but not ideal for datasets of scale > memory size)"
   ]
  },
  {
   "cell_type": "code",
   "execution_count": 18,
   "metadata": {
    "id": "OXfluQjOzd9_"
   },
   "outputs": [],
   "source": [
    "import pandas as pd"
   ]
  },
  {
   "cell_type": "markdown",
   "metadata": {
    "id": "j33m3T4r_mna"
   },
   "source": [
    "# Read file"
   ]
  },
  {
   "cell_type": "code",
   "execution_count": 19,
   "metadata": {
    "id": "eO0voBpHTl6C"
   },
   "outputs": [],
   "source": [
    "ted_main = pd.read_csv('https://raw.githubusercontent.com/cpethe/TED_Talks/master/ted_main.csv')"
   ]
  },
  {
   "cell_type": "code",
   "execution_count": 20,
   "metadata": {
    "id": "-UjcnxJrVEuf"
   },
   "outputs": [],
   "source": [
    "transcripts = pd.read_csv('https://raw.githubusercontent.com/cpethe/TED_Talks/master/transcripts.csv')"
   ]
  },
  {
   "cell_type": "markdown",
   "metadata": {
    "id": "mSpgd0t-_sxs"
   },
   "source": [
    "## What does the data look like?"
   ]
  },
  {
   "cell_type": "code",
   "execution_count": 21,
   "metadata": {
    "colab": {
     "base_uri": "https://localhost:8080/",
     "height": 35
    },
    "id": "bSqRf5vnA3Lf",
    "outputId": "0c91abba-3b44-4f67-a14b-adfdd756775c"
   },
   "outputs": [
    {
     "data": {
      "text/plain": [
       "(2550, 17)"
      ]
     },
     "execution_count": 21,
     "metadata": {},
     "output_type": "execute_result"
    }
   ],
   "source": [
    "# Print the number of rows and columns in the data\n",
    "\n",
    "ted_main.shape"
   ]
  },
  {
   "cell_type": "code",
   "execution_count": 22,
   "metadata": {
    "colab": {
     "base_uri": "https://localhost:8080/",
     "height": 284
    },
    "id": "wK9VzLW0_sTV",
    "outputId": "b3b01acb-3be0-47a1-cfc2-4ea77f4b299c"
   },
   "outputs": [
    {
     "data": {
      "text/html": [
       "<div>\n",
       "<style scoped>\n",
       "    .dataframe tbody tr th:only-of-type {\n",
       "        vertical-align: middle;\n",
       "    }\n",
       "\n",
       "    .dataframe tbody tr th {\n",
       "        vertical-align: top;\n",
       "    }\n",
       "\n",
       "    .dataframe thead th {\n",
       "        text-align: right;\n",
       "    }\n",
       "</style>\n",
       "<table border=\"1\" class=\"dataframe\">\n",
       "  <thead>\n",
       "    <tr style=\"text-align: right;\">\n",
       "      <th></th>\n",
       "      <th>comments</th>\n",
       "      <th>description</th>\n",
       "      <th>duration</th>\n",
       "      <th>event</th>\n",
       "      <th>film_date</th>\n",
       "      <th>languages</th>\n",
       "      <th>main_speaker</th>\n",
       "      <th>name</th>\n",
       "      <th>num_speaker</th>\n",
       "      <th>published_date</th>\n",
       "      <th>ratings</th>\n",
       "      <th>related_talks</th>\n",
       "      <th>speaker_occupation</th>\n",
       "      <th>tags</th>\n",
       "      <th>title</th>\n",
       "      <th>url</th>\n",
       "      <th>views</th>\n",
       "    </tr>\n",
       "  </thead>\n",
       "  <tbody>\n",
       "    <tr>\n",
       "      <th>0</th>\n",
       "      <td>4553</td>\n",
       "      <td>Sir Ken Robinson makes an entertaining and pro...</td>\n",
       "      <td>1164</td>\n",
       "      <td>TED2006</td>\n",
       "      <td>1140825600</td>\n",
       "      <td>60</td>\n",
       "      <td>Ken Robinson</td>\n",
       "      <td>Ken Robinson: Do schools kill creativity?</td>\n",
       "      <td>1</td>\n",
       "      <td>1151367060</td>\n",
       "      <td>[{'id': 7, 'name': 'Funny', 'count': 19645}, {...</td>\n",
       "      <td>[{'id': 865, 'hero': 'https://pe.tedcdn.com/im...</td>\n",
       "      <td>Author/educator</td>\n",
       "      <td>['children', 'creativity', 'culture', 'dance',...</td>\n",
       "      <td>Do schools kill creativity?</td>\n",
       "      <td>https://www.ted.com/talks/ken_robinson_says_sc...</td>\n",
       "      <td>47227110</td>\n",
       "    </tr>\n",
       "    <tr>\n",
       "      <th>1</th>\n",
       "      <td>265</td>\n",
       "      <td>With the same humor and humanity he exuded in ...</td>\n",
       "      <td>977</td>\n",
       "      <td>TED2006</td>\n",
       "      <td>1140825600</td>\n",
       "      <td>43</td>\n",
       "      <td>Al Gore</td>\n",
       "      <td>Al Gore: Averting the climate crisis</td>\n",
       "      <td>1</td>\n",
       "      <td>1151367060</td>\n",
       "      <td>[{'id': 7, 'name': 'Funny', 'count': 544}, {'i...</td>\n",
       "      <td>[{'id': 243, 'hero': 'https://pe.tedcdn.com/im...</td>\n",
       "      <td>Climate advocate</td>\n",
       "      <td>['alternative energy', 'cars', 'climate change...</td>\n",
       "      <td>Averting the climate crisis</td>\n",
       "      <td>https://www.ted.com/talks/al_gore_on_averting_...</td>\n",
       "      <td>3200520</td>\n",
       "    </tr>\n",
       "  </tbody>\n",
       "</table>\n",
       "</div>"
      ],
      "text/plain": [
       "   comments                                        description  duration  \\\n",
       "0      4553  Sir Ken Robinson makes an entertaining and pro...      1164   \n",
       "1       265  With the same humor and humanity he exuded in ...       977   \n",
       "\n",
       "     event   film_date  languages  main_speaker  \\\n",
       "0  TED2006  1140825600         60  Ken Robinson   \n",
       "1  TED2006  1140825600         43       Al Gore   \n",
       "\n",
       "                                        name  num_speaker  published_date  \\\n",
       "0  Ken Robinson: Do schools kill creativity?            1      1151367060   \n",
       "1       Al Gore: Averting the climate crisis            1      1151367060   \n",
       "\n",
       "                                             ratings  \\\n",
       "0  [{'id': 7, 'name': 'Funny', 'count': 19645}, {...   \n",
       "1  [{'id': 7, 'name': 'Funny', 'count': 544}, {'i...   \n",
       "\n",
       "                                       related_talks speaker_occupation  \\\n",
       "0  [{'id': 865, 'hero': 'https://pe.tedcdn.com/im...    Author/educator   \n",
       "1  [{'id': 243, 'hero': 'https://pe.tedcdn.com/im...   Climate advocate   \n",
       "\n",
       "                                                tags  \\\n",
       "0  ['children', 'creativity', 'culture', 'dance',...   \n",
       "1  ['alternative energy', 'cars', 'climate change...   \n",
       "\n",
       "                         title  \\\n",
       "0  Do schools kill creativity?   \n",
       "1  Averting the climate crisis   \n",
       "\n",
       "                                                 url     views  \n",
       "0  https://www.ted.com/talks/ken_robinson_says_sc...  47227110  \n",
       "1  https://www.ted.com/talks/al_gore_on_averting_...   3200520  "
      ]
     },
     "execution_count": 22,
     "metadata": {},
     "output_type": "execute_result"
    }
   ],
   "source": [
    "# Peek at the first two rows\n",
    "\n",
    "ted_main.head(2)"
   ]
  },
  {
   "cell_type": "code",
   "execution_count": 23,
   "metadata": {
    "colab": {
     "base_uri": "https://localhost:8080/",
     "height": 225
    },
    "id": "n9oG6yxL95_G",
    "outputId": "ab537802-2b3b-4f58-b026-ca638c00e23e"
   },
   "outputs": [
    {
     "data": {
      "text/plain": [
       "0               Ken Robinson: Do schools kill creativity?\n",
       "1                    Al Gore: Averting the climate crisis\n",
       "2                           David Pogue: Simplicity sells\n",
       "3                      Majora Carter: Greening the ghetto\n",
       "4           Hans Rosling: The best stats you've ever seen\n",
       "                              ...                        \n",
       "2545    Duarte Geraldino: What we're missing in the de...\n",
       "2546    Armando Azua-Bustos: The most Martian place on...\n",
       "2547    Radhika Nagpal: What intelligent machines can ...\n",
       "2548    Theo E.J. Wilson: A black man goes undercover ...\n",
       "2549    Karoliina Korppoo: How a video game might help...\n",
       "Name: name, Length: 2550, dtype: object"
      ]
     },
     "execution_count": 23,
     "metadata": {},
     "output_type": "execute_result"
    }
   ],
   "source": [
    "ted_main['name']"
   ]
  },
  {
   "cell_type": "code",
   "execution_count": 24,
   "metadata": {
    "colab": {
     "base_uri": "https://localhost:8080/",
     "height": 225
    },
    "id": "RqP5zlZvgt5Y",
    "outputId": "47119ecd-deeb-4f21-d1f5-9a358b4f98b5"
   },
   "outputs": [
    {
     "data": {
      "text/plain": [
       "0       https://www.ted.com/talks/ken_robinson_says_sc...\n",
       "1       https://www.ted.com/talks/al_gore_on_averting_...\n",
       "2       https://www.ted.com/talks/david_pogue_says_sim...\n",
       "3       https://www.ted.com/talks/majora_carter_s_tale...\n",
       "4       https://www.ted.com/talks/hans_rosling_shows_t...\n",
       "                              ...                        \n",
       "2545    https://www.ted.com/talks/duarte_geraldino_wha...\n",
       "2546    https://www.ted.com/talks/armando_azua_bustos_...\n",
       "2547    https://www.ted.com/talks/radhika_nagpal_what_...\n",
       "2548    https://www.ted.com/talks/theo_e_j_wilson_a_bl...\n",
       "2549    https://www.ted.com/talks/karoliina_korppoo_ho...\n",
       "Name: url, Length: 2550, dtype: object"
      ]
     },
     "execution_count": 24,
     "metadata": {},
     "output_type": "execute_result"
    }
   ],
   "source": [
    "ted_main.url"
   ]
  },
  {
   "cell_type": "code",
   "execution_count": 25,
   "metadata": {
    "colab": {
     "base_uri": "https://localhost:8080/",
     "height": 35
    },
    "id": "zsSQwpNRVdsx",
    "outputId": "2ea11ee6-972b-43f3-c75d-db2bb585a97f"
   },
   "outputs": [
    {
     "data": {
      "text/plain": [
       "105"
      ]
     },
     "execution_count": 25,
     "metadata": {},
     "output_type": "execute_result"
    }
   ],
   "source": [
    "ted_main.iloc[42]['comments']"
   ]
  },
  {
   "cell_type": "code",
   "execution_count": 26,
   "metadata": {
    "colab": {
     "base_uri": "https://localhost:8080/",
     "height": 190
    },
    "id": "mT2HN7vrRf_r",
    "outputId": "a6d9b56d-1aa8-40bf-b97a-fcacbd89ef80"
   },
   "outputs": [
    {
     "name": "stdout",
     "output_type": "stream",
     "text": [
      "https://www.ted.com/talks/ken_robinson_says_schools_kill_creativity\n",
      " 1164\n",
      "https://www.ted.com/talks/al_gore_on_averting_climate_crisis\n",
      " 977\n",
      "https://www.ted.com/talks/david_pogue_says_simplicity_sells\n",
      " 1286\n",
      "https://www.ted.com/talks/majora_carter_s_tale_of_urban_renewal\n",
      " 1116\n",
      "https://www.ted.com/talks/hans_rosling_shows_the_best_stats_you_ve_ever_seen\n",
      " 1190\n"
     ]
    }
   ],
   "source": [
    "#Get row no. 42\n",
    "\n",
    "ted_main.iloc[42]\n",
    "\n",
    "for idx, row in ted_main.iterrows():\n",
    "  if idx > 4:\n",
    "    break\n",
    "  print(row['url'], row['duration'])"
   ]
  },
  {
   "cell_type": "code",
   "execution_count": 27,
   "metadata": {
    "colab": {
     "base_uri": "https://localhost:8080/",
     "height": 328
    },
    "id": "xsH4VLbV3K0O",
    "outputId": "d1d126f9-e575-4bf4-da28-f47fba80b4b5"
   },
   "outputs": [
    {
     "data": {
      "text/plain": [
       "comments                                                            919\n",
       "description           When two young Mormon missionaries knock on Ju...\n",
       "duration                                                            992\n",
       "event                                                           TED2006\n",
       "film_date                                                    1140739200\n",
       "languages                                                            31\n",
       "main_speaker                                              Julia Sweeney\n",
       "name                                   Julia Sweeney: Letting go of God\n",
       "num_speaker                                                           1\n",
       "published_date                                               1152490260\n",
       "ratings               [{'id': 3, 'name': 'Courageous', 'count': 477}...\n",
       "related_talks         [{'id': 22, 'hero': 'https://pe.tedcdn.com/ima...\n",
       "speaker_occupation                          Actor, comedian, playwright\n",
       "tags                  ['Christianity', 'God', 'atheism', 'comedy', '...\n",
       "title                                                 Letting go of God\n",
       "url                   https://www.ted.com/talks/julia_sweeney_on_let...\n",
       "views                                                           3769987\n",
       "Name: 6, dtype: object"
      ]
     },
     "execution_count": 27,
     "metadata": {},
     "output_type": "execute_result"
    }
   ],
   "source": [
    "# Get row with index==6\n",
    "# happens to also be 6th row\n",
    "# since our index is 0 to len(data)\n",
    "\n",
    "ted_main.loc[6]"
   ]
  },
  {
   "cell_type": "code",
   "execution_count": 28,
   "metadata": {
    "colab": {
     "base_uri": "https://localhost:8080/",
     "height": 628
    },
    "id": "8YzxOP6J0txr",
    "outputId": "1877d9a5-269f-4871-aeb8-c5836cf080a7"
   },
   "outputs": [
    {
     "data": {
      "text/html": [
       "<div>\n",
       "<style scoped>\n",
       "    .dataframe tbody tr th:only-of-type {\n",
       "        vertical-align: middle;\n",
       "    }\n",
       "\n",
       "    .dataframe tbody tr th {\n",
       "        vertical-align: top;\n",
       "    }\n",
       "\n",
       "    .dataframe thead th {\n",
       "        text-align: right;\n",
       "    }\n",
       "</style>\n",
       "<table border=\"1\" class=\"dataframe\">\n",
       "  <thead>\n",
       "    <tr style=\"text-align: right;\">\n",
       "      <th></th>\n",
       "      <th>comments</th>\n",
       "      <th>description</th>\n",
       "      <th>duration</th>\n",
       "      <th>event</th>\n",
       "      <th>film_date</th>\n",
       "      <th>languages</th>\n",
       "      <th>main_speaker</th>\n",
       "      <th>name</th>\n",
       "      <th>num_speaker</th>\n",
       "      <th>published_date</th>\n",
       "      <th>ratings</th>\n",
       "      <th>related_talks</th>\n",
       "      <th>speaker_occupation</th>\n",
       "      <th>tags</th>\n",
       "      <th>title</th>\n",
       "      <th>views</th>\n",
       "    </tr>\n",
       "    <tr>\n",
       "      <th>url</th>\n",
       "      <th></th>\n",
       "      <th></th>\n",
       "      <th></th>\n",
       "      <th></th>\n",
       "      <th></th>\n",
       "      <th></th>\n",
       "      <th></th>\n",
       "      <th></th>\n",
       "      <th></th>\n",
       "      <th></th>\n",
       "      <th></th>\n",
       "      <th></th>\n",
       "      <th></th>\n",
       "      <th></th>\n",
       "      <th></th>\n",
       "      <th></th>\n",
       "    </tr>\n",
       "  </thead>\n",
       "  <tbody>\n",
       "    <tr>\n",
       "      <th>https://www.ted.com/talks/ken_robinson_says_schools_kill_creativity\\n</th>\n",
       "      <td>4553</td>\n",
       "      <td>Sir Ken Robinson makes an entertaining and pro...</td>\n",
       "      <td>1164</td>\n",
       "      <td>TED2006</td>\n",
       "      <td>1140825600</td>\n",
       "      <td>60</td>\n",
       "      <td>Ken Robinson</td>\n",
       "      <td>Ken Robinson: Do schools kill creativity?</td>\n",
       "      <td>1</td>\n",
       "      <td>1151367060</td>\n",
       "      <td>[{'id': 7, 'name': 'Funny', 'count': 19645}, {...</td>\n",
       "      <td>[{'id': 865, 'hero': 'https://pe.tedcdn.com/im...</td>\n",
       "      <td>Author/educator</td>\n",
       "      <td>['children', 'creativity', 'culture', 'dance',...</td>\n",
       "      <td>Do schools kill creativity?</td>\n",
       "      <td>47227110</td>\n",
       "    </tr>\n",
       "    <tr>\n",
       "      <th>https://www.ted.com/talks/al_gore_on_averting_climate_crisis\\n</th>\n",
       "      <td>265</td>\n",
       "      <td>With the same humor and humanity he exuded in ...</td>\n",
       "      <td>977</td>\n",
       "      <td>TED2006</td>\n",
       "      <td>1140825600</td>\n",
       "      <td>43</td>\n",
       "      <td>Al Gore</td>\n",
       "      <td>Al Gore: Averting the climate crisis</td>\n",
       "      <td>1</td>\n",
       "      <td>1151367060</td>\n",
       "      <td>[{'id': 7, 'name': 'Funny', 'count': 544}, {'i...</td>\n",
       "      <td>[{'id': 243, 'hero': 'https://pe.tedcdn.com/im...</td>\n",
       "      <td>Climate advocate</td>\n",
       "      <td>['alternative energy', 'cars', 'climate change...</td>\n",
       "      <td>Averting the climate crisis</td>\n",
       "      <td>3200520</td>\n",
       "    </tr>\n",
       "    <tr>\n",
       "      <th>https://www.ted.com/talks/david_pogue_says_simplicity_sells\\n</th>\n",
       "      <td>124</td>\n",
       "      <td>New York Times columnist David Pogue takes aim...</td>\n",
       "      <td>1286</td>\n",
       "      <td>TED2006</td>\n",
       "      <td>1140739200</td>\n",
       "      <td>26</td>\n",
       "      <td>David Pogue</td>\n",
       "      <td>David Pogue: Simplicity sells</td>\n",
       "      <td>1</td>\n",
       "      <td>1151367060</td>\n",
       "      <td>[{'id': 7, 'name': 'Funny', 'count': 964}, {'i...</td>\n",
       "      <td>[{'id': 1725, 'hero': 'https://pe.tedcdn.com/i...</td>\n",
       "      <td>Technology columnist</td>\n",
       "      <td>['computers', 'entertainment', 'interface desi...</td>\n",
       "      <td>Simplicity sells</td>\n",
       "      <td>1636292</td>\n",
       "    </tr>\n",
       "    <tr>\n",
       "      <th>https://www.ted.com/talks/majora_carter_s_tale_of_urban_renewal\\n</th>\n",
       "      <td>200</td>\n",
       "      <td>In an emotionally charged talk, MacArthur-winn...</td>\n",
       "      <td>1116</td>\n",
       "      <td>TED2006</td>\n",
       "      <td>1140912000</td>\n",
       "      <td>35</td>\n",
       "      <td>Majora Carter</td>\n",
       "      <td>Majora Carter: Greening the ghetto</td>\n",
       "      <td>1</td>\n",
       "      <td>1151367060</td>\n",
       "      <td>[{'id': 3, 'name': 'Courageous', 'count': 760}...</td>\n",
       "      <td>[{'id': 1041, 'hero': 'https://pe.tedcdn.com/i...</td>\n",
       "      <td>Activist for environmental justice</td>\n",
       "      <td>['MacArthur grant', 'activism', 'business', 'c...</td>\n",
       "      <td>Greening the ghetto</td>\n",
       "      <td>1697550</td>\n",
       "    </tr>\n",
       "    <tr>\n",
       "      <th>https://www.ted.com/talks/hans_rosling_shows_the_best_stats_you_ve_ever_seen\\n</th>\n",
       "      <td>593</td>\n",
       "      <td>You've never seen data presented like this. Wi...</td>\n",
       "      <td>1190</td>\n",
       "      <td>TED2006</td>\n",
       "      <td>1140566400</td>\n",
       "      <td>48</td>\n",
       "      <td>Hans Rosling</td>\n",
       "      <td>Hans Rosling: The best stats you've ever seen</td>\n",
       "      <td>1</td>\n",
       "      <td>1151440680</td>\n",
       "      <td>[{'id': 9, 'name': 'Ingenious', 'count': 3202}...</td>\n",
       "      <td>[{'id': 2056, 'hero': 'https://pe.tedcdn.com/i...</td>\n",
       "      <td>Global health expert; data visionary</td>\n",
       "      <td>['Africa', 'Asia', 'Google', 'demo', 'economic...</td>\n",
       "      <td>The best stats you've ever seen</td>\n",
       "      <td>12005869</td>\n",
       "    </tr>\n",
       "  </tbody>\n",
       "</table>\n",
       "</div>"
      ],
      "text/plain": [
       "                                                    comments  \\\n",
       "url                                                            \n",
       "https://www.ted.com/talks/ken_robinson_says_sch...      4553   \n",
       "https://www.ted.com/talks/al_gore_on_averting_c...       265   \n",
       "https://www.ted.com/talks/david_pogue_says_simp...       124   \n",
       "https://www.ted.com/talks/majora_carter_s_tale_...       200   \n",
       "https://www.ted.com/talks/hans_rosling_shows_th...       593   \n",
       "\n",
       "                                                                                          description  \\\n",
       "url                                                                                                     \n",
       "https://www.ted.com/talks/ken_robinson_says_sch...  Sir Ken Robinson makes an entertaining and pro...   \n",
       "https://www.ted.com/talks/al_gore_on_averting_c...  With the same humor and humanity he exuded in ...   \n",
       "https://www.ted.com/talks/david_pogue_says_simp...  New York Times columnist David Pogue takes aim...   \n",
       "https://www.ted.com/talks/majora_carter_s_tale_...  In an emotionally charged talk, MacArthur-winn...   \n",
       "https://www.ted.com/talks/hans_rosling_shows_th...  You've never seen data presented like this. Wi...   \n",
       "\n",
       "                                                    duration    event  \\\n",
       "url                                                                     \n",
       "https://www.ted.com/talks/ken_robinson_says_sch...      1164  TED2006   \n",
       "https://www.ted.com/talks/al_gore_on_averting_c...       977  TED2006   \n",
       "https://www.ted.com/talks/david_pogue_says_simp...      1286  TED2006   \n",
       "https://www.ted.com/talks/majora_carter_s_tale_...      1116  TED2006   \n",
       "https://www.ted.com/talks/hans_rosling_shows_th...      1190  TED2006   \n",
       "\n",
       "                                                     film_date  languages  \\\n",
       "url                                                                         \n",
       "https://www.ted.com/talks/ken_robinson_says_sch...  1140825600         60   \n",
       "https://www.ted.com/talks/al_gore_on_averting_c...  1140825600         43   \n",
       "https://www.ted.com/talks/david_pogue_says_simp...  1140739200         26   \n",
       "https://www.ted.com/talks/majora_carter_s_tale_...  1140912000         35   \n",
       "https://www.ted.com/talks/hans_rosling_shows_th...  1140566400         48   \n",
       "\n",
       "                                                     main_speaker  \\\n",
       "url                                                                 \n",
       "https://www.ted.com/talks/ken_robinson_says_sch...   Ken Robinson   \n",
       "https://www.ted.com/talks/al_gore_on_averting_c...        Al Gore   \n",
       "https://www.ted.com/talks/david_pogue_says_simp...    David Pogue   \n",
       "https://www.ted.com/talks/majora_carter_s_tale_...  Majora Carter   \n",
       "https://www.ted.com/talks/hans_rosling_shows_th...   Hans Rosling   \n",
       "\n",
       "                                                                                             name  \\\n",
       "url                                                                                                 \n",
       "https://www.ted.com/talks/ken_robinson_says_sch...      Ken Robinson: Do schools kill creativity?   \n",
       "https://www.ted.com/talks/al_gore_on_averting_c...           Al Gore: Averting the climate crisis   \n",
       "https://www.ted.com/talks/david_pogue_says_simp...                  David Pogue: Simplicity sells   \n",
       "https://www.ted.com/talks/majora_carter_s_tale_...             Majora Carter: Greening the ghetto   \n",
       "https://www.ted.com/talks/hans_rosling_shows_th...  Hans Rosling: The best stats you've ever seen   \n",
       "\n",
       "                                                    num_speaker  \\\n",
       "url                                                               \n",
       "https://www.ted.com/talks/ken_robinson_says_sch...            1   \n",
       "https://www.ted.com/talks/al_gore_on_averting_c...            1   \n",
       "https://www.ted.com/talks/david_pogue_says_simp...            1   \n",
       "https://www.ted.com/talks/majora_carter_s_tale_...            1   \n",
       "https://www.ted.com/talks/hans_rosling_shows_th...            1   \n",
       "\n",
       "                                                    published_date  \\\n",
       "url                                                                  \n",
       "https://www.ted.com/talks/ken_robinson_says_sch...      1151367060   \n",
       "https://www.ted.com/talks/al_gore_on_averting_c...      1151367060   \n",
       "https://www.ted.com/talks/david_pogue_says_simp...      1151367060   \n",
       "https://www.ted.com/talks/majora_carter_s_tale_...      1151367060   \n",
       "https://www.ted.com/talks/hans_rosling_shows_th...      1151440680   \n",
       "\n",
       "                                                                                              ratings  \\\n",
       "url                                                                                                     \n",
       "https://www.ted.com/talks/ken_robinson_says_sch...  [{'id': 7, 'name': 'Funny', 'count': 19645}, {...   \n",
       "https://www.ted.com/talks/al_gore_on_averting_c...  [{'id': 7, 'name': 'Funny', 'count': 544}, {'i...   \n",
       "https://www.ted.com/talks/david_pogue_says_simp...  [{'id': 7, 'name': 'Funny', 'count': 964}, {'i...   \n",
       "https://www.ted.com/talks/majora_carter_s_tale_...  [{'id': 3, 'name': 'Courageous', 'count': 760}...   \n",
       "https://www.ted.com/talks/hans_rosling_shows_th...  [{'id': 9, 'name': 'Ingenious', 'count': 3202}...   \n",
       "\n",
       "                                                                                        related_talks  \\\n",
       "url                                                                                                     \n",
       "https://www.ted.com/talks/ken_robinson_says_sch...  [{'id': 865, 'hero': 'https://pe.tedcdn.com/im...   \n",
       "https://www.ted.com/talks/al_gore_on_averting_c...  [{'id': 243, 'hero': 'https://pe.tedcdn.com/im...   \n",
       "https://www.ted.com/talks/david_pogue_says_simp...  [{'id': 1725, 'hero': 'https://pe.tedcdn.com/i...   \n",
       "https://www.ted.com/talks/majora_carter_s_tale_...  [{'id': 1041, 'hero': 'https://pe.tedcdn.com/i...   \n",
       "https://www.ted.com/talks/hans_rosling_shows_th...  [{'id': 2056, 'hero': 'https://pe.tedcdn.com/i...   \n",
       "\n",
       "                                                                      speaker_occupation  \\\n",
       "url                                                                                        \n",
       "https://www.ted.com/talks/ken_robinson_says_sch...                       Author/educator   \n",
       "https://www.ted.com/talks/al_gore_on_averting_c...                      Climate advocate   \n",
       "https://www.ted.com/talks/david_pogue_says_simp...                  Technology columnist   \n",
       "https://www.ted.com/talks/majora_carter_s_tale_...    Activist for environmental justice   \n",
       "https://www.ted.com/talks/hans_rosling_shows_th...  Global health expert; data visionary   \n",
       "\n",
       "                                                                                                 tags  \\\n",
       "url                                                                                                     \n",
       "https://www.ted.com/talks/ken_robinson_says_sch...  ['children', 'creativity', 'culture', 'dance',...   \n",
       "https://www.ted.com/talks/al_gore_on_averting_c...  ['alternative energy', 'cars', 'climate change...   \n",
       "https://www.ted.com/talks/david_pogue_says_simp...  ['computers', 'entertainment', 'interface desi...   \n",
       "https://www.ted.com/talks/majora_carter_s_tale_...  ['MacArthur grant', 'activism', 'business', 'c...   \n",
       "https://www.ted.com/talks/hans_rosling_shows_th...  ['Africa', 'Asia', 'Google', 'demo', 'economic...   \n",
       "\n",
       "                                                                              title  \\\n",
       "url                                                                                   \n",
       "https://www.ted.com/talks/ken_robinson_says_sch...      Do schools kill creativity?   \n",
       "https://www.ted.com/talks/al_gore_on_averting_c...      Averting the climate crisis   \n",
       "https://www.ted.com/talks/david_pogue_says_simp...                 Simplicity sells   \n",
       "https://www.ted.com/talks/majora_carter_s_tale_...              Greening the ghetto   \n",
       "https://www.ted.com/talks/hans_rosling_shows_th...  The best stats you've ever seen   \n",
       "\n",
       "                                                       views  \n",
       "url                                                           \n",
       "https://www.ted.com/talks/ken_robinson_says_sch...  47227110  \n",
       "https://www.ted.com/talks/al_gore_on_averting_c...   3200520  \n",
       "https://www.ted.com/talks/david_pogue_says_simp...   1636292  \n",
       "https://www.ted.com/talks/majora_carter_s_tale_...   1697550  \n",
       "https://www.ted.com/talks/hans_rosling_shows_th...  12005869  "
      ]
     },
     "execution_count": 28,
     "metadata": {},
     "output_type": "execute_result"
    }
   ],
   "source": [
    "ted_main.set_index('url').head(5)"
   ]
  },
  {
   "cell_type": "code",
   "execution_count": 29,
   "metadata": {
    "colab": {
     "base_uri": "https://localhost:8080/",
     "height": 311
    },
    "id": "BAbWmI_t053V",
    "outputId": "7b98a67f-703c-45cf-af66-fbb6028eab91"
   },
   "outputs": [
    {
     "data": {
      "text/plain": [
       "comments                                                           4553\n",
       "description           Sir Ken Robinson makes an entertaining and pro...\n",
       "duration                                                           1164\n",
       "event                                                           TED2006\n",
       "film_date                                                    1140825600\n",
       "languages                                                            60\n",
       "main_speaker                                               Ken Robinson\n",
       "name                          Ken Robinson: Do schools kill creativity?\n",
       "num_speaker                                                           1\n",
       "published_date                                               1151367060\n",
       "ratings               [{'id': 7, 'name': 'Funny', 'count': 19645}, {...\n",
       "related_talks         [{'id': 865, 'hero': 'https://pe.tedcdn.com/im...\n",
       "speaker_occupation                                      Author/educator\n",
       "tags                  ['children', 'creativity', 'culture', 'dance',...\n",
       "title                                       Do schools kill creativity?\n",
       "views                                                          47227110\n",
       "Name: https://www.ted.com/talks/ken_robinson_says_schools_kill_creativity\\n, dtype: object"
      ]
     },
     "execution_count": 29,
     "metadata": {},
     "output_type": "execute_result"
    }
   ],
   "source": [
    "ted_main.set_index('url').iloc[0]"
   ]
  },
  {
   "cell_type": "code",
   "execution_count": 31,
   "metadata": {
    "colab": {
     "base_uri": "https://localhost:8080/",
     "height": 311
    },
    "id": "VhykZaeq09gK",
    "outputId": "88ec78bd-c1a4-4006-bf2b-7b3d84cd74eb"
   },
   "outputs": [
    {
     "data": {
      "text/plain": [
       "comments                                                           4553\n",
       "description           Sir Ken Robinson makes an entertaining and pro...\n",
       "duration                                                           1164\n",
       "event                                                           TED2006\n",
       "film_date                                                    1140825600\n",
       "languages                                                            60\n",
       "main_speaker                                               Ken Robinson\n",
       "name                          Ken Robinson: Do schools kill creativity?\n",
       "num_speaker                                                           1\n",
       "published_date                                               1151367060\n",
       "ratings               [{'id': 7, 'name': 'Funny', 'count': 19645}, {...\n",
       "related_talks         [{'id': 865, 'hero': 'https://pe.tedcdn.com/im...\n",
       "speaker_occupation                                      Author/educator\n",
       "tags                  ['children', 'creativity', 'culture', 'dance',...\n",
       "title                                       Do schools kill creativity?\n",
       "views                                                          47227110\n",
       "Name: https://www.ted.com/talks/ken_robinson_says_schools_kill_creativity\\n, dtype: object"
      ]
     },
     "execution_count": 31,
     "metadata": {},
     "output_type": "execute_result"
    }
   ],
   "source": [
    "ted_main.set_index('url').loc['https://www.ted.com/talks/ken_robinson_says_schools_kill_creativity\\n']"
   ]
  },
  {
   "cell_type": "code",
   "execution_count": 32,
   "metadata": {
    "colab": {
     "base_uri": "https://localhost:8080/",
     "height": 328
    },
    "id": "dNyP9Qnh6TF9",
    "outputId": "b5c65b1c-546c-4480-e561-d8de171c26a2"
   },
   "outputs": [
    {
     "data": {
      "text/plain": [
       "comments               int64\n",
       "description           object\n",
       "duration               int64\n",
       "event                 object\n",
       "film_date              int64\n",
       "languages              int64\n",
       "main_speaker          object\n",
       "name                  object\n",
       "num_speaker            int64\n",
       "published_date         int64\n",
       "ratings               object\n",
       "related_talks         object\n",
       "speaker_occupation    object\n",
       "tags                  object\n",
       "title                 object\n",
       "url                   object\n",
       "views                  int64\n",
       "dtype: object"
      ]
     },
     "execution_count": 32,
     "metadata": {},
     "output_type": "execute_result"
    }
   ],
   "source": [
    "# Check datatype of each column\n",
    "\n",
    "ted_main.dtypes"
   ]
  },
  {
   "cell_type": "code",
   "execution_count": 33,
   "metadata": {
    "colab": {
     "base_uri": "https://localhost:8080/",
     "height": 288
    },
    "id": "5ShIu0KSzu1D",
    "outputId": "49cf13ab-72c5-4ed9-d1a3-388e095a9eab"
   },
   "outputs": [
    {
     "data": {
      "text/html": [
       "<div>\n",
       "<style scoped>\n",
       "    .dataframe tbody tr th:only-of-type {\n",
       "        vertical-align: middle;\n",
       "    }\n",
       "\n",
       "    .dataframe tbody tr th {\n",
       "        vertical-align: top;\n",
       "    }\n",
       "\n",
       "    .dataframe thead th {\n",
       "        text-align: right;\n",
       "    }\n",
       "</style>\n",
       "<table border=\"1\" class=\"dataframe\">\n",
       "  <thead>\n",
       "    <tr style=\"text-align: right;\">\n",
       "      <th></th>\n",
       "      <th>comments</th>\n",
       "      <th>duration</th>\n",
       "      <th>film_date</th>\n",
       "      <th>languages</th>\n",
       "      <th>num_speaker</th>\n",
       "      <th>published_date</th>\n",
       "      <th>views</th>\n",
       "    </tr>\n",
       "  </thead>\n",
       "  <tbody>\n",
       "    <tr>\n",
       "      <th>count</th>\n",
       "      <td>2550.000000</td>\n",
       "      <td>2550.000000</td>\n",
       "      <td>2.550000e+03</td>\n",
       "      <td>2550.000000</td>\n",
       "      <td>2550.000000</td>\n",
       "      <td>2.550000e+03</td>\n",
       "      <td>2.550000e+03</td>\n",
       "    </tr>\n",
       "    <tr>\n",
       "      <th>mean</th>\n",
       "      <td>191.562353</td>\n",
       "      <td>826.510196</td>\n",
       "      <td>1.321928e+09</td>\n",
       "      <td>27.326275</td>\n",
       "      <td>1.028235</td>\n",
       "      <td>1.343525e+09</td>\n",
       "      <td>1.698297e+06</td>\n",
       "    </tr>\n",
       "    <tr>\n",
       "      <th>std</th>\n",
       "      <td>282.315223</td>\n",
       "      <td>374.009138</td>\n",
       "      <td>1.197391e+08</td>\n",
       "      <td>9.563452</td>\n",
       "      <td>0.207705</td>\n",
       "      <td>9.464009e+07</td>\n",
       "      <td>2.498479e+06</td>\n",
       "    </tr>\n",
       "    <tr>\n",
       "      <th>min</th>\n",
       "      <td>2.000000</td>\n",
       "      <td>135.000000</td>\n",
       "      <td>7.464960e+07</td>\n",
       "      <td>0.000000</td>\n",
       "      <td>1.000000</td>\n",
       "      <td>1.151367e+09</td>\n",
       "      <td>5.044300e+04</td>\n",
       "    </tr>\n",
       "    <tr>\n",
       "      <th>25%</th>\n",
       "      <td>63.000000</td>\n",
       "      <td>577.000000</td>\n",
       "      <td>1.257466e+09</td>\n",
       "      <td>23.000000</td>\n",
       "      <td>1.000000</td>\n",
       "      <td>1.268463e+09</td>\n",
       "      <td>7.557928e+05</td>\n",
       "    </tr>\n",
       "    <tr>\n",
       "      <th>50%</th>\n",
       "      <td>118.000000</td>\n",
       "      <td>848.000000</td>\n",
       "      <td>1.333238e+09</td>\n",
       "      <td>28.000000</td>\n",
       "      <td>1.000000</td>\n",
       "      <td>1.340935e+09</td>\n",
       "      <td>1.124524e+06</td>\n",
       "    </tr>\n",
       "    <tr>\n",
       "      <th>75%</th>\n",
       "      <td>221.750000</td>\n",
       "      <td>1046.750000</td>\n",
       "      <td>1.412964e+09</td>\n",
       "      <td>33.000000</td>\n",
       "      <td>1.000000</td>\n",
       "      <td>1.423432e+09</td>\n",
       "      <td>1.700760e+06</td>\n",
       "    </tr>\n",
       "    <tr>\n",
       "      <th>max</th>\n",
       "      <td>6404.000000</td>\n",
       "      <td>5256.000000</td>\n",
       "      <td>1.503792e+09</td>\n",
       "      <td>72.000000</td>\n",
       "      <td>5.000000</td>\n",
       "      <td>1.506092e+09</td>\n",
       "      <td>4.722711e+07</td>\n",
       "    </tr>\n",
       "  </tbody>\n",
       "</table>\n",
       "</div>"
      ],
      "text/plain": [
       "          comments     duration     film_date    languages  num_speaker  \\\n",
       "count  2550.000000  2550.000000  2.550000e+03  2550.000000  2550.000000   \n",
       "mean    191.562353   826.510196  1.321928e+09    27.326275     1.028235   \n",
       "std     282.315223   374.009138  1.197391e+08     9.563452     0.207705   \n",
       "min       2.000000   135.000000  7.464960e+07     0.000000     1.000000   \n",
       "25%      63.000000   577.000000  1.257466e+09    23.000000     1.000000   \n",
       "50%     118.000000   848.000000  1.333238e+09    28.000000     1.000000   \n",
       "75%     221.750000  1046.750000  1.412964e+09    33.000000     1.000000   \n",
       "max    6404.000000  5256.000000  1.503792e+09    72.000000     5.000000   \n",
       "\n",
       "       published_date         views  \n",
       "count    2.550000e+03  2.550000e+03  \n",
       "mean     1.343525e+09  1.698297e+06  \n",
       "std      9.464009e+07  2.498479e+06  \n",
       "min      1.151367e+09  5.044300e+04  \n",
       "25%      1.268463e+09  7.557928e+05  \n",
       "50%      1.340935e+09  1.124524e+06  \n",
       "75%      1.423432e+09  1.700760e+06  \n",
       "max      1.506092e+09  4.722711e+07  "
      ]
     },
     "execution_count": 33,
     "metadata": {},
     "output_type": "execute_result"
    }
   ],
   "source": [
    "# Print summary statistics for *numerical* columns\n",
    "\n",
    "ted_main.describe()"
   ]
  },
  {
   "cell_type": "code",
   "execution_count": 34,
   "metadata": {
    "colab": {
     "base_uri": "https://localhost:8080/",
     "height": 121
    },
    "id": "JdRPzmyw2MLh",
    "outputId": "9d6efadc-abe0-4d8f-ed0d-8f1f85c07a6e"
   },
   "outputs": [
    {
     "data": {
      "text/plain": [
       "1    2492\n",
       "2      49\n",
       "3       5\n",
       "4       3\n",
       "5       1\n",
       "Name: num_speaker, dtype: int64"
      ]
     },
     "execution_count": 34,
     "metadata": {},
     "output_type": "execute_result"
    }
   ],
   "source": [
    "# Count number of rows, for every value of `num_speaker`\n",
    "\n",
    "ted_main['num_speaker'].value_counts()"
   ]
  },
  {
   "cell_type": "code",
   "execution_count": 35,
   "metadata": {
    "colab": {
     "base_uri": "https://localhost:8080/",
     "height": 225
    },
    "id": "rSthVX2D2Awd",
    "outputId": "0cf3554a-0d53-4d5a-8c87-d6f9c5be2a41"
   },
   "outputs": [
    {
     "data": {
      "text/plain": [
       "TED2014                         84\n",
       "TED2009                         83\n",
       "TED2013                         77\n",
       "TED2016                         77\n",
       "TED2015                         75\n",
       "                                ..\n",
       "TEDxWinnipeg                     1\n",
       "Elizabeth G. Anderson School     1\n",
       "TEDxDubai                        1\n",
       "SoulPancake                      1\n",
       "TEDxUniversityofNevada           1\n",
       "Name: event, Length: 355, dtype: int64"
      ]
     },
     "execution_count": 35,
     "metadata": {},
     "output_type": "execute_result"
    }
   ],
   "source": [
    "ted_main['event'].value_counts()"
   ]
  },
  {
   "cell_type": "code",
   "execution_count": 36,
   "metadata": {
    "colab": {
     "base_uri": "https://localhost:8080/",
     "height": 407
    },
    "id": "aIHTbXdO0ZKn",
    "outputId": "0b459df7-1d70-4cb6-90ba-6f09cb1e180b"
   },
   "outputs": [
    {
     "data": {
      "text/html": [
       "<div>\n",
       "<style scoped>\n",
       "    .dataframe tbody tr th:only-of-type {\n",
       "        vertical-align: middle;\n",
       "    }\n",
       "\n",
       "    .dataframe tbody tr th {\n",
       "        vertical-align: top;\n",
       "    }\n",
       "\n",
       "    .dataframe thead th {\n",
       "        text-align: right;\n",
       "    }\n",
       "</style>\n",
       "<table border=\"1\" class=\"dataframe\">\n",
       "  <thead>\n",
       "    <tr style=\"text-align: right;\">\n",
       "      <th></th>\n",
       "      <th>main_speaker</th>\n",
       "      <th>speaker_occupation</th>\n",
       "    </tr>\n",
       "  </thead>\n",
       "  <tbody>\n",
       "    <tr>\n",
       "      <th>0</th>\n",
       "      <td>Ken Robinson</td>\n",
       "      <td>Author/educator</td>\n",
       "    </tr>\n",
       "    <tr>\n",
       "      <th>1</th>\n",
       "      <td>Al Gore</td>\n",
       "      <td>Climate advocate</td>\n",
       "    </tr>\n",
       "    <tr>\n",
       "      <th>2</th>\n",
       "      <td>David Pogue</td>\n",
       "      <td>Technology columnist</td>\n",
       "    </tr>\n",
       "    <tr>\n",
       "      <th>3</th>\n",
       "      <td>Majora Carter</td>\n",
       "      <td>Activist for environmental justice</td>\n",
       "    </tr>\n",
       "    <tr>\n",
       "      <th>4</th>\n",
       "      <td>Hans Rosling</td>\n",
       "      <td>Global health expert; data visionary</td>\n",
       "    </tr>\n",
       "    <tr>\n",
       "      <th>...</th>\n",
       "      <td>...</td>\n",
       "      <td>...</td>\n",
       "    </tr>\n",
       "    <tr>\n",
       "      <th>2545</th>\n",
       "      <td>Duarte Geraldino</td>\n",
       "      <td>Journalist</td>\n",
       "    </tr>\n",
       "    <tr>\n",
       "      <th>2546</th>\n",
       "      <td>Armando Azua-Bustos</td>\n",
       "      <td>Astrobiologist</td>\n",
       "    </tr>\n",
       "    <tr>\n",
       "      <th>2547</th>\n",
       "      <td>Radhika Nagpal</td>\n",
       "      <td>Robotics engineer</td>\n",
       "    </tr>\n",
       "    <tr>\n",
       "      <th>2548</th>\n",
       "      <td>Theo E.J. Wilson</td>\n",
       "      <td>Public intellectual</td>\n",
       "    </tr>\n",
       "    <tr>\n",
       "      <th>2549</th>\n",
       "      <td>Karoliina Korppoo</td>\n",
       "      <td>Game designer</td>\n",
       "    </tr>\n",
       "  </tbody>\n",
       "</table>\n",
       "<p>2550 rows × 2 columns</p>\n",
       "</div>"
      ],
      "text/plain": [
       "             main_speaker                    speaker_occupation\n",
       "0            Ken Robinson                       Author/educator\n",
       "1                 Al Gore                      Climate advocate\n",
       "2             David Pogue                  Technology columnist\n",
       "3           Majora Carter    Activist for environmental justice\n",
       "4            Hans Rosling  Global health expert; data visionary\n",
       "...                   ...                                   ...\n",
       "2545     Duarte Geraldino                            Journalist\n",
       "2546  Armando Azua-Bustos                        Astrobiologist\n",
       "2547       Radhika Nagpal                     Robotics engineer\n",
       "2548     Theo E.J. Wilson                   Public intellectual\n",
       "2549    Karoliina Korppoo                         Game designer\n",
       "\n",
       "[2550 rows x 2 columns]"
      ]
     },
     "execution_count": 36,
     "metadata": {},
     "output_type": "execute_result"
    }
   ],
   "source": [
    "# Get two specific columns, for the first five rows\n",
    "# aka projection in db query speak, SELECT <..> FROM ..\n",
    "\n",
    "l = ['main_speaker', 'speaker_occupation']\n",
    "ted_main[l]"
   ]
  },
  {
   "cell_type": "code",
   "execution_count": 37,
   "metadata": {
    "colab": {
     "base_uri": "https://localhost:8080/",
     "height": 407
    },
    "id": "QpqBrrgrXCXo",
    "outputId": "aa91ad58-3bda-47fb-e147-52d38847bd42"
   },
   "outputs": [
    {
     "data": {
      "text/html": [
       "<div>\n",
       "<style scoped>\n",
       "    .dataframe tbody tr th:only-of-type {\n",
       "        vertical-align: middle;\n",
       "    }\n",
       "\n",
       "    .dataframe tbody tr th {\n",
       "        vertical-align: top;\n",
       "    }\n",
       "\n",
       "    .dataframe thead th {\n",
       "        text-align: right;\n",
       "    }\n",
       "</style>\n",
       "<table border=\"1\" class=\"dataframe\">\n",
       "  <thead>\n",
       "    <tr style=\"text-align: right;\">\n",
       "      <th></th>\n",
       "      <th>main_speaker</th>\n",
       "      <th>speaker_occupation</th>\n",
       "    </tr>\n",
       "  </thead>\n",
       "  <tbody>\n",
       "    <tr>\n",
       "      <th>0</th>\n",
       "      <td>Ken Robinson</td>\n",
       "      <td>Author/educator</td>\n",
       "    </tr>\n",
       "    <tr>\n",
       "      <th>1</th>\n",
       "      <td>Al Gore</td>\n",
       "      <td>Climate advocate</td>\n",
       "    </tr>\n",
       "    <tr>\n",
       "      <th>2</th>\n",
       "      <td>David Pogue</td>\n",
       "      <td>Technology columnist</td>\n",
       "    </tr>\n",
       "    <tr>\n",
       "      <th>3</th>\n",
       "      <td>Majora Carter</td>\n",
       "      <td>Activist for environmental justice</td>\n",
       "    </tr>\n",
       "    <tr>\n",
       "      <th>4</th>\n",
       "      <td>Hans Rosling</td>\n",
       "      <td>Global health expert; data visionary</td>\n",
       "    </tr>\n",
       "    <tr>\n",
       "      <th>...</th>\n",
       "      <td>...</td>\n",
       "      <td>...</td>\n",
       "    </tr>\n",
       "    <tr>\n",
       "      <th>2545</th>\n",
       "      <td>Duarte Geraldino</td>\n",
       "      <td>Journalist</td>\n",
       "    </tr>\n",
       "    <tr>\n",
       "      <th>2546</th>\n",
       "      <td>Armando Azua-Bustos</td>\n",
       "      <td>Astrobiologist</td>\n",
       "    </tr>\n",
       "    <tr>\n",
       "      <th>2547</th>\n",
       "      <td>Radhika Nagpal</td>\n",
       "      <td>Robotics engineer</td>\n",
       "    </tr>\n",
       "    <tr>\n",
       "      <th>2548</th>\n",
       "      <td>Theo E.J. Wilson</td>\n",
       "      <td>Public intellectual</td>\n",
       "    </tr>\n",
       "    <tr>\n",
       "      <th>2549</th>\n",
       "      <td>Karoliina Korppoo</td>\n",
       "      <td>Game designer</td>\n",
       "    </tr>\n",
       "  </tbody>\n",
       "</table>\n",
       "<p>2550 rows × 2 columns</p>\n",
       "</div>"
      ],
      "text/plain": [
       "             main_speaker                    speaker_occupation\n",
       "0            Ken Robinson                       Author/educator\n",
       "1                 Al Gore                      Climate advocate\n",
       "2             David Pogue                  Technology columnist\n",
       "3           Majora Carter    Activist for environmental justice\n",
       "4            Hans Rosling  Global health expert; data visionary\n",
       "...                   ...                                   ...\n",
       "2545     Duarte Geraldino                            Journalist\n",
       "2546  Armando Azua-Bustos                        Astrobiologist\n",
       "2547       Radhika Nagpal                     Robotics engineer\n",
       "2548     Theo E.J. Wilson                   Public intellectual\n",
       "2549    Karoliina Korppoo                         Game designer\n",
       "\n",
       "[2550 rows x 2 columns]"
      ]
     },
     "execution_count": 37,
     "metadata": {},
     "output_type": "execute_result"
    }
   ],
   "source": [
    "ted_main[['main_speaker', 'speaker_occupation']]"
   ]
  },
  {
   "cell_type": "code",
   "execution_count": 38,
   "metadata": {
    "colab": {
     "base_uri": "https://localhost:8080/",
     "height": 407
    },
    "id": "FfUGB5O9_l46",
    "outputId": "6e706fcb-34a3-41d7-ecd2-e78cc3573d7b"
   },
   "outputs": [
    {
     "data": {
      "text/html": [
       "<div>\n",
       "<style scoped>\n",
       "    .dataframe tbody tr th:only-of-type {\n",
       "        vertical-align: middle;\n",
       "    }\n",
       "\n",
       "    .dataframe tbody tr th {\n",
       "        vertical-align: top;\n",
       "    }\n",
       "\n",
       "    .dataframe thead th {\n",
       "        text-align: right;\n",
       "    }\n",
       "</style>\n",
       "<table border=\"1\" class=\"dataframe\">\n",
       "  <thead>\n",
       "    <tr style=\"text-align: right;\">\n",
       "      <th></th>\n",
       "      <th>main_speaker</th>\n",
       "      <th>speaker_occupation</th>\n",
       "    </tr>\n",
       "  </thead>\n",
       "  <tbody>\n",
       "    <tr>\n",
       "      <th>0</th>\n",
       "      <td>Ken Robinson</td>\n",
       "      <td>Author/educator</td>\n",
       "    </tr>\n",
       "    <tr>\n",
       "      <th>1</th>\n",
       "      <td>Al Gore</td>\n",
       "      <td>Climate advocate</td>\n",
       "    </tr>\n",
       "    <tr>\n",
       "      <th>2</th>\n",
       "      <td>David Pogue</td>\n",
       "      <td>Technology columnist</td>\n",
       "    </tr>\n",
       "    <tr>\n",
       "      <th>3</th>\n",
       "      <td>Majora Carter</td>\n",
       "      <td>Activist for environmental justice</td>\n",
       "    </tr>\n",
       "    <tr>\n",
       "      <th>4</th>\n",
       "      <td>Hans Rosling</td>\n",
       "      <td>Global health expert; data visionary</td>\n",
       "    </tr>\n",
       "    <tr>\n",
       "      <th>...</th>\n",
       "      <td>...</td>\n",
       "      <td>...</td>\n",
       "    </tr>\n",
       "    <tr>\n",
       "      <th>2545</th>\n",
       "      <td>Duarte Geraldino</td>\n",
       "      <td>Journalist</td>\n",
       "    </tr>\n",
       "    <tr>\n",
       "      <th>2546</th>\n",
       "      <td>Armando Azua-Bustos</td>\n",
       "      <td>Astrobiologist</td>\n",
       "    </tr>\n",
       "    <tr>\n",
       "      <th>2547</th>\n",
       "      <td>Radhika Nagpal</td>\n",
       "      <td>Robotics engineer</td>\n",
       "    </tr>\n",
       "    <tr>\n",
       "      <th>2548</th>\n",
       "      <td>Theo E.J. Wilson</td>\n",
       "      <td>Public intellectual</td>\n",
       "    </tr>\n",
       "    <tr>\n",
       "      <th>2549</th>\n",
       "      <td>Karoliina Korppoo</td>\n",
       "      <td>Game designer</td>\n",
       "    </tr>\n",
       "  </tbody>\n",
       "</table>\n",
       "<p>2156 rows × 2 columns</p>\n",
       "</div>"
      ],
      "text/plain": [
       "             main_speaker                    speaker_occupation\n",
       "0            Ken Robinson                       Author/educator\n",
       "1                 Al Gore                      Climate advocate\n",
       "2             David Pogue                  Technology columnist\n",
       "3           Majora Carter    Activist for environmental justice\n",
       "4            Hans Rosling  Global health expert; data visionary\n",
       "...                   ...                                   ...\n",
       "2545     Duarte Geraldino                            Journalist\n",
       "2546  Armando Azua-Bustos                        Astrobiologist\n",
       "2547       Radhika Nagpal                     Robotics engineer\n",
       "2548     Theo E.J. Wilson                   Public intellectual\n",
       "2549    Karoliina Korppoo                         Game designer\n",
       "\n",
       "[2156 rows x 2 columns]"
      ]
     },
     "execution_count": 38,
     "metadata": {},
     "output_type": "execute_result"
    }
   ],
   "source": [
    "ted_main[l].drop_duplicates('main_speaker')"
   ]
  },
  {
   "cell_type": "code",
   "execution_count": 39,
   "metadata": {
    "colab": {
     "base_uri": "https://localhost:8080/",
     "height": 452
    },
    "id": "JcFsVU-a1PZB",
    "outputId": "c2718f02-4020-4aa5-e2d9-38363f41a27f"
   },
   "outputs": [
    {
     "data": {
      "text/html": [
       "<div>\n",
       "<style scoped>\n",
       "    .dataframe tbody tr th:only-of-type {\n",
       "        vertical-align: middle;\n",
       "    }\n",
       "\n",
       "    .dataframe tbody tr th {\n",
       "        vertical-align: top;\n",
       "    }\n",
       "\n",
       "    .dataframe thead th {\n",
       "        text-align: right;\n",
       "    }\n",
       "</style>\n",
       "<table border=\"1\" class=\"dataframe\">\n",
       "  <thead>\n",
       "    <tr style=\"text-align: right;\">\n",
       "      <th></th>\n",
       "      <th>comments</th>\n",
       "      <th>description</th>\n",
       "      <th>duration</th>\n",
       "      <th>event</th>\n",
       "      <th>film_date</th>\n",
       "      <th>languages</th>\n",
       "      <th>main_speaker</th>\n",
       "      <th>name</th>\n",
       "      <th>num_speaker</th>\n",
       "      <th>published_date</th>\n",
       "      <th>ratings</th>\n",
       "      <th>related_talks</th>\n",
       "      <th>speaker_occupation</th>\n",
       "      <th>tags</th>\n",
       "      <th>title</th>\n",
       "      <th>url</th>\n",
       "      <th>views</th>\n",
       "    </tr>\n",
       "  </thead>\n",
       "  <tbody>\n",
       "    <tr>\n",
       "      <th>0</th>\n",
       "      <td>4553</td>\n",
       "      <td>Sir Ken Robinson makes an entertaining and pro...</td>\n",
       "      <td>1164</td>\n",
       "      <td>TED2006</td>\n",
       "      <td>1140825600</td>\n",
       "      <td>60</td>\n",
       "      <td>Ken Robinson</td>\n",
       "      <td>Ken Robinson: Do schools kill creativity?</td>\n",
       "      <td>1</td>\n",
       "      <td>1151367060</td>\n",
       "      <td>[{'id': 7, 'name': 'Funny', 'count': 19645}, {...</td>\n",
       "      <td>[{'id': 865, 'hero': 'https://pe.tedcdn.com/im...</td>\n",
       "      <td>Author/educator</td>\n",
       "      <td>['children', 'creativity', 'culture', 'dance',...</td>\n",
       "      <td>Do schools kill creativity?</td>\n",
       "      <td>https://www.ted.com/talks/ken_robinson_says_sc...</td>\n",
       "      <td>47227110</td>\n",
       "    </tr>\n",
       "    <tr>\n",
       "      <th>677</th>\n",
       "      <td>1930</td>\n",
       "      <td>Simon Sinek has a simple but powerful model fo...</td>\n",
       "      <td>1084</td>\n",
       "      <td>TEDxPuget Sound</td>\n",
       "      <td>1253145600</td>\n",
       "      <td>45</td>\n",
       "      <td>Simon Sinek</td>\n",
       "      <td>Simon Sinek: How great leaders inspire action</td>\n",
       "      <td>1</td>\n",
       "      <td>1272965460</td>\n",
       "      <td>[{'id': 21, 'name': 'Unconvincing', 'count': 9...</td>\n",
       "      <td>[{'id': 814, 'hero': 'https://pe.tedcdn.com/im...</td>\n",
       "      <td>Leadership expert</td>\n",
       "      <td>['TEDx', 'business', 'entrepreneur', 'leadersh...</td>\n",
       "      <td>How great leaders inspire action</td>\n",
       "      <td>https://www.ted.com/talks/simon_sinek_how_grea...</td>\n",
       "      <td>34309432</td>\n",
       "    </tr>\n",
       "    <tr>\n",
       "      <th>1346</th>\n",
       "      <td>2290</td>\n",
       "      <td>Body language affects how others see us, but i...</td>\n",
       "      <td>1262</td>\n",
       "      <td>TEDGlobal 2012</td>\n",
       "      <td>1340668800</td>\n",
       "      <td>51</td>\n",
       "      <td>Amy Cuddy</td>\n",
       "      <td>Amy Cuddy: Your body language may shape who yo...</td>\n",
       "      <td>1</td>\n",
       "      <td>1349103608</td>\n",
       "      <td>[{'id': 23, 'name': 'Jaw-dropping', 'count': 3...</td>\n",
       "      <td>[{'id': 605, 'hero': 'https://pe.tedcdn.com/im...</td>\n",
       "      <td>Social psychologist</td>\n",
       "      <td>['body language', 'brain', 'business', 'psycho...</td>\n",
       "      <td>Your body language may shape who you are</td>\n",
       "      <td>https://www.ted.com/talks/amy_cuddy_your_body_...</td>\n",
       "      <td>43155405</td>\n",
       "    </tr>\n",
       "  </tbody>\n",
       "</table>\n",
       "</div>"
      ],
      "text/plain": [
       "      comments                                        description  duration  \\\n",
       "0         4553  Sir Ken Robinson makes an entertaining and pro...      1164   \n",
       "677       1930  Simon Sinek has a simple but powerful model fo...      1084   \n",
       "1346      2290  Body language affects how others see us, but i...      1262   \n",
       "\n",
       "                 event   film_date  languages  main_speaker  \\\n",
       "0              TED2006  1140825600         60  Ken Robinson   \n",
       "677   TEDxPuget Sound   1253145600         45   Simon Sinek   \n",
       "1346    TEDGlobal 2012  1340668800         51     Amy Cuddy   \n",
       "\n",
       "                                                   name  num_speaker  \\\n",
       "0             Ken Robinson: Do schools kill creativity?            1   \n",
       "677       Simon Sinek: How great leaders inspire action            1   \n",
       "1346  Amy Cuddy: Your body language may shape who yo...            1   \n",
       "\n",
       "      published_date                                            ratings  \\\n",
       "0         1151367060  [{'id': 7, 'name': 'Funny', 'count': 19645}, {...   \n",
       "677       1272965460  [{'id': 21, 'name': 'Unconvincing', 'count': 9...   \n",
       "1346      1349103608  [{'id': 23, 'name': 'Jaw-dropping', 'count': 3...   \n",
       "\n",
       "                                          related_talks   speaker_occupation  \\\n",
       "0     [{'id': 865, 'hero': 'https://pe.tedcdn.com/im...      Author/educator   \n",
       "677   [{'id': 814, 'hero': 'https://pe.tedcdn.com/im...    Leadership expert   \n",
       "1346  [{'id': 605, 'hero': 'https://pe.tedcdn.com/im...  Social psychologist   \n",
       "\n",
       "                                                   tags  \\\n",
       "0     ['children', 'creativity', 'culture', 'dance',...   \n",
       "677   ['TEDx', 'business', 'entrepreneur', 'leadersh...   \n",
       "1346  ['body language', 'brain', 'business', 'psycho...   \n",
       "\n",
       "                                         title  \\\n",
       "0                  Do schools kill creativity?   \n",
       "677           How great leaders inspire action   \n",
       "1346  Your body language may shape who you are   \n",
       "\n",
       "                                                    url     views  \n",
       "0     https://www.ted.com/talks/ken_robinson_says_sc...  47227110  \n",
       "677   https://www.ted.com/talks/simon_sinek_how_grea...  34309432  \n",
       "1346  https://www.ted.com/talks/amy_cuddy_your_body_...  43155405  "
      ]
     },
     "execution_count": 39,
     "metadata": {},
     "output_type": "execute_result"
    }
   ],
   "source": [
    "# Get a subset of rows, that satisfy a constraint\n",
    "# aka selecton in db query speak, SELECT * WHERE...\n",
    "mapp = ted_main['views'] > 31415926\n",
    "ted_main[mapp]"
   ]
  },
  {
   "cell_type": "code",
   "execution_count": 40,
   "metadata": {
    "colab": {
     "base_uri": "https://localhost:8080/",
     "height": 225
    },
    "id": "wdAadUf5XVms",
    "outputId": "8a4471bc-8500-4a14-91a6-2ab78fda022c"
   },
   "outputs": [
    {
     "data": {
      "text/plain": [
       "0        True\n",
       "1       False\n",
       "2       False\n",
       "3       False\n",
       "4       False\n",
       "        ...  \n",
       "2545    False\n",
       "2546    False\n",
       "2547    False\n",
       "2548    False\n",
       "2549    False\n",
       "Name: views, Length: 2550, dtype: bool"
      ]
     },
     "execution_count": 40,
     "metadata": {},
     "output_type": "execute_result"
    }
   ],
   "source": [
    "mapp"
   ]
  },
  {
   "cell_type": "markdown",
   "metadata": {
    "id": "RdyHPSlS3l2j"
   },
   "source": [
    "## What if my filtering function is more complicated?\n",
    "For example, I want to get all the TEDx talks in the dataset."
   ]
  },
  {
   "cell_type": "code",
   "execution_count": 41,
   "metadata": {
    "colab": {
     "base_uri": "https://localhost:8080/",
     "height": 225
    },
    "id": "8-M9yLH13lGo",
    "outputId": "f4eb0f6a-5e60-4cae-aa40-13ff9271aaea"
   },
   "outputs": [
    {
     "data": {
      "text/plain": [
       "0       False\n",
       "1       False\n",
       "2       False\n",
       "3       False\n",
       "4       False\n",
       "        ...  \n",
       "2545    False\n",
       "2546    False\n",
       "2547    False\n",
       "2548     True\n",
       "2549    False\n",
       "Name: event, Length: 2550, dtype: bool"
      ]
     },
     "execution_count": 41,
     "metadata": {},
     "output_type": "execute_result"
    }
   ],
   "source": [
    "# Lambda functions help keep your code clean and compact.\n",
    "ted_main['event'].apply(lambda string: 'TEDx' in string)"
   ]
  },
  {
   "cell_type": "code",
   "execution_count": 42,
   "metadata": {
    "colab": {
     "base_uri": "https://localhost:8080/",
     "height": 1000
    },
    "id": "NjNWy8Hn4Dik",
    "outputId": "d65e49a5-f9d1-4565-94e4-bec4311a9fd6"
   },
   "outputs": [
    {
     "data": {
      "text/html": [
       "<div>\n",
       "<style scoped>\n",
       "    .dataframe tbody tr th:only-of-type {\n",
       "        vertical-align: middle;\n",
       "    }\n",
       "\n",
       "    .dataframe tbody tr th {\n",
       "        vertical-align: top;\n",
       "    }\n",
       "\n",
       "    .dataframe thead th {\n",
       "        text-align: right;\n",
       "    }\n",
       "</style>\n",
       "<table border=\"1\" class=\"dataframe\">\n",
       "  <thead>\n",
       "    <tr style=\"text-align: right;\">\n",
       "      <th></th>\n",
       "      <th>comments</th>\n",
       "      <th>description</th>\n",
       "      <th>duration</th>\n",
       "      <th>event</th>\n",
       "      <th>film_date</th>\n",
       "      <th>languages</th>\n",
       "      <th>main_speaker</th>\n",
       "      <th>name</th>\n",
       "      <th>num_speaker</th>\n",
       "      <th>published_date</th>\n",
       "      <th>ratings</th>\n",
       "      <th>related_talks</th>\n",
       "      <th>speaker_occupation</th>\n",
       "      <th>tags</th>\n",
       "      <th>title</th>\n",
       "      <th>url</th>\n",
       "      <th>views</th>\n",
       "    </tr>\n",
       "  </thead>\n",
       "  <tbody>\n",
       "    <tr>\n",
       "      <th>470</th>\n",
       "      <td>103</td>\n",
       "      <td>Jane Poynter tells her story of living two yea...</td>\n",
       "      <td>953</td>\n",
       "      <td>TEDxUSC</td>\n",
       "      <td>1237766400</td>\n",
       "      <td>27</td>\n",
       "      <td>Jane Poynter</td>\n",
       "      <td>Jane Poynter: Life in Biosphere 2</td>\n",
       "      <td>1</td>\n",
       "      <td>1245027600</td>\n",
       "      <td>[{'id': 10, 'name': 'Inspiring', 'count': 407}...</td>\n",
       "      <td>[{'id': 490, 'hero': 'https://pe.tedcdn.com/im...</td>\n",
       "      <td>Biospherian</td>\n",
       "      <td>['TEDx', 'adventure', 'biotech', 'climate chan...</td>\n",
       "      <td>Life in Biosphere 2</td>\n",
       "      <td>https://www.ted.com/talks/jane_poynter_life_in...</td>\n",
       "      <td>843719</td>\n",
       "    </tr>\n",
       "    <tr>\n",
       "      <th>474</th>\n",
       "      <td>135</td>\n",
       "      <td>Organ virtuoso Qi Zhang plays her electric ren...</td>\n",
       "      <td>185</td>\n",
       "      <td>TEDxUSC</td>\n",
       "      <td>1237766400</td>\n",
       "      <td>0</td>\n",
       "      <td>Qi Zhang</td>\n",
       "      <td>Qi Zhang: An electrifying organ performance</td>\n",
       "      <td>1</td>\n",
       "      <td>1245401400</td>\n",
       "      <td>[{'id': 23, 'name': 'Jaw-dropping', 'count': 3...</td>\n",
       "      <td>[{'id': 46, 'hero': 'https://pe.tedcdn.com/ima...</td>\n",
       "      <td>Organist</td>\n",
       "      <td>['TEDx', 'china', 'music', 'performance', 'pia...</td>\n",
       "      <td>An electrifying organ performance</td>\n",
       "      <td>https://www.ted.com/talks/qi_zhang_s_electrify...</td>\n",
       "      <td>803691</td>\n",
       "    </tr>\n",
       "    <tr>\n",
       "      <th>529</th>\n",
       "      <td>248</td>\n",
       "      <td>David Logan talks about the five kinds of trib...</td>\n",
       "      <td>999</td>\n",
       "      <td>TEDxUSC</td>\n",
       "      <td>1237766400</td>\n",
       "      <td>25</td>\n",
       "      <td>David Logan</td>\n",
       "      <td>David Logan: Tribal leadership</td>\n",
       "      <td>1</td>\n",
       "      <td>1254790800</td>\n",
       "      <td>[{'id': 22, 'name': 'Fascinating', 'count': 33...</td>\n",
       "      <td>[{'id': 538, 'hero': 'https://pe.tedcdn.com/im...</td>\n",
       "      <td>Professor of management</td>\n",
       "      <td>['TEDx', 'business', 'communication', 'culture...</td>\n",
       "      <td>Tribal leadership</td>\n",
       "      <td>https://www.ted.com/talks/david_logan_on_triba...</td>\n",
       "      <td>1404586</td>\n",
       "    </tr>\n",
       "    <tr>\n",
       "      <th>538</th>\n",
       "      <td>133</td>\n",
       "      <td>John Gerzema says there's an upside to the rec...</td>\n",
       "      <td>994</td>\n",
       "      <td>TEDxKC</td>\n",
       "      <td>1250726400</td>\n",
       "      <td>21</td>\n",
       "      <td>John Gerzema</td>\n",
       "      <td>John Gerzema: The post-crisis consumer</td>\n",
       "      <td>1</td>\n",
       "      <td>1255914000</td>\n",
       "      <td>[{'id': 25, 'name': 'OK', 'count': 94}, {'id':...</td>\n",
       "      <td>[{'id': 658, 'hero': 'https://pe.tedcdn.com/im...</td>\n",
       "      <td>Marketing whiz</td>\n",
       "      <td>['TEDx', 'advertising', 'business', 'consumeri...</td>\n",
       "      <td>The post-crisis consumer</td>\n",
       "      <td>https://www.ted.com/talks/john_gerzema_the_pos...</td>\n",
       "      <td>760493</td>\n",
       "    </tr>\n",
       "    <tr>\n",
       "      <th>539</th>\n",
       "      <td>89</td>\n",
       "      <td>Computer graphics trailblazer Paul Debevec exp...</td>\n",
       "      <td>366</td>\n",
       "      <td>TEDxUSC</td>\n",
       "      <td>1237766400</td>\n",
       "      <td>24</td>\n",
       "      <td>Paul Debevec</td>\n",
       "      <td>Paul Debevec: Animating a photo-real digital face</td>\n",
       "      <td>1</td>\n",
       "      <td>1256029020</td>\n",
       "      <td>[{'id': 23, 'name': 'Jaw-dropping', 'count': 1...</td>\n",
       "      <td>[{'id': 469, 'hero': 'https://pe.tedcdn.com/im...</td>\n",
       "      <td>Computer graphics pioneer</td>\n",
       "      <td>['TEDx', 'animation', 'art', 'computers', 'des...</td>\n",
       "      <td>Animating a photo-real digital face</td>\n",
       "      <td>https://www.ted.com/talks/paul_debevec_animate...</td>\n",
       "      <td>748862</td>\n",
       "    </tr>\n",
       "    <tr>\n",
       "      <th>...</th>\n",
       "      <td>...</td>\n",
       "      <td>...</td>\n",
       "      <td>...</td>\n",
       "      <td>...</td>\n",
       "      <td>...</td>\n",
       "      <td>...</td>\n",
       "      <td>...</td>\n",
       "      <td>...</td>\n",
       "      <td>...</td>\n",
       "      <td>...</td>\n",
       "      <td>...</td>\n",
       "      <td>...</td>\n",
       "      <td>...</td>\n",
       "      <td>...</td>\n",
       "      <td>...</td>\n",
       "      <td>...</td>\n",
       "      <td>...</td>\n",
       "    </tr>\n",
       "    <tr>\n",
       "      <th>2534</th>\n",
       "      <td>2</td>\n",
       "      <td>What the astronauts felt when they saw Earth f...</td>\n",
       "      <td>725</td>\n",
       "      <td>TEDxSkoll</td>\n",
       "      <td>1491523200</td>\n",
       "      <td>1</td>\n",
       "      <td>Benjamin Grant</td>\n",
       "      <td>Benjamin Grant: What it feels like to see Eart...</td>\n",
       "      <td>1</td>\n",
       "      <td>1504814438</td>\n",
       "      <td>[{'id': 10, 'name': 'Inspiring', 'count': 46},...</td>\n",
       "      <td>[{'id': 2511, 'hero': 'https://pe.tedcdn.com/i...</td>\n",
       "      <td>Author</td>\n",
       "      <td>['TEDx', 'art', 'climate change', 'environment...</td>\n",
       "      <td>What it feels like to see Earth from space</td>\n",
       "      <td>https://www.ted.com/talks/benjamin_grant_what_...</td>\n",
       "      <td>646174</td>\n",
       "    </tr>\n",
       "    <tr>\n",
       "      <th>2536</th>\n",
       "      <td>21</td>\n",
       "      <td>Can you still be friends with someone who does...</td>\n",
       "      <td>865</td>\n",
       "      <td>TEDxMileHigh</td>\n",
       "      <td>1499472000</td>\n",
       "      <td>5</td>\n",
       "      <td>Caitlin Quattromani and Lauran Arledge</td>\n",
       "      <td>Caitlin Quattromani and Lauran Arledge: How ou...</td>\n",
       "      <td>2</td>\n",
       "      <td>1505142060</td>\n",
       "      <td>[{'id': 3, 'name': 'Courageous', 'count': 45},...</td>\n",
       "      <td>[{'id': 2625, 'hero': 'https://pe.tedcdn.com/i...</td>\n",
       "      <td>Marketing leader</td>\n",
       "      <td>['TEDx', 'communication', 'friendship', 'polit...</td>\n",
       "      <td>How our friendship survives our opposing politics</td>\n",
       "      <td>https://www.ted.com/talks/caitlin_quattromani_...</td>\n",
       "      <td>566101</td>\n",
       "    </tr>\n",
       "    <tr>\n",
       "      <th>2538</th>\n",
       "      <td>7</td>\n",
       "      <td>Each year, one in seven large corporations com...</td>\n",
       "      <td>808</td>\n",
       "      <td>TEDxZurich</td>\n",
       "      <td>1478822400</td>\n",
       "      <td>1</td>\n",
       "      <td>Alexander Wagner</td>\n",
       "      <td>Alexander Wagner: What really motivates people...</td>\n",
       "      <td>1</td>\n",
       "      <td>1505246451</td>\n",
       "      <td>[{'id': 10, 'name': 'Inspiring', 'count': 50},...</td>\n",
       "      <td>[{'id': 1246, 'hero': 'https://pe.tedcdn.com/i...</td>\n",
       "      <td>Economist</td>\n",
       "      <td>['TEDx', 'business', 'corruption', 'economics'...</td>\n",
       "      <td>What really motivates people to be honest in b...</td>\n",
       "      <td>https://www.ted.com/talks/alexander_wagner_wha...</td>\n",
       "      <td>621431</td>\n",
       "    </tr>\n",
       "    <tr>\n",
       "      <th>2541</th>\n",
       "      <td>12</td>\n",
       "      <td>Physics doesn't just happen in a fancy lab -- ...</td>\n",
       "      <td>957</td>\n",
       "      <td>TEDxManchester</td>\n",
       "      <td>1487462400</td>\n",
       "      <td>2</td>\n",
       "      <td>Helen Czerski</td>\n",
       "      <td>Helen Czerski: The fascinating physics of ever...</td>\n",
       "      <td>1</td>\n",
       "      <td>1505419202</td>\n",
       "      <td>[{'id': 11, 'name': 'Longwinded', 'count': 29}...</td>\n",
       "      <td>[{'id': 2491, 'hero': 'https://pe.tedcdn.com/i...</td>\n",
       "      <td>Physicist</td>\n",
       "      <td>['TEDx', 'physics', 'play', 'science']</td>\n",
       "      <td>The fascinating physics of everyday life</td>\n",
       "      <td>https://www.ted.com/talks/helen_czerski_fun_ho...</td>\n",
       "      <td>656791</td>\n",
       "    </tr>\n",
       "    <tr>\n",
       "      <th>2548</th>\n",
       "      <td>32</td>\n",
       "      <td>In an unmissable talk about race and politics ...</td>\n",
       "      <td>1100</td>\n",
       "      <td>TEDxMileHigh</td>\n",
       "      <td>1499472000</td>\n",
       "      <td>1</td>\n",
       "      <td>Theo E.J. Wilson</td>\n",
       "      <td>Theo E.J. Wilson: A black man goes undercover ...</td>\n",
       "      <td>1</td>\n",
       "      <td>1506024042</td>\n",
       "      <td>[{'id': 11, 'name': 'Longwinded', 'count': 3},...</td>\n",
       "      <td>[{'id': 2512, 'hero': 'https://pe.tedcdn.com/i...</td>\n",
       "      <td>Public intellectual</td>\n",
       "      <td>['Internet', 'TEDx', 'United States', 'communi...</td>\n",
       "      <td>A black man goes undercover in the alt-right</td>\n",
       "      <td>https://www.ted.com/talks/theo_e_j_wilson_a_bl...</td>\n",
       "      <td>419309</td>\n",
       "    </tr>\n",
       "  </tbody>\n",
       "</table>\n",
       "<p>471 rows × 17 columns</p>\n",
       "</div>"
      ],
      "text/plain": [
       "      comments                                        description  duration  \\\n",
       "470        103  Jane Poynter tells her story of living two yea...       953   \n",
       "474        135  Organ virtuoso Qi Zhang plays her electric ren...       185   \n",
       "529        248  David Logan talks about the five kinds of trib...       999   \n",
       "538        133  John Gerzema says there's an upside to the rec...       994   \n",
       "539         89  Computer graphics trailblazer Paul Debevec exp...       366   \n",
       "...        ...                                                ...       ...   \n",
       "2534         2  What the astronauts felt when they saw Earth f...       725   \n",
       "2536        21  Can you still be friends with someone who does...       865   \n",
       "2538         7  Each year, one in seven large corporations com...       808   \n",
       "2541        12  Physics doesn't just happen in a fancy lab -- ...       957   \n",
       "2548        32  In an unmissable talk about race and politics ...      1100   \n",
       "\n",
       "               event   film_date  languages  \\\n",
       "470          TEDxUSC  1237766400         27   \n",
       "474          TEDxUSC  1237766400          0   \n",
       "529          TEDxUSC  1237766400         25   \n",
       "538           TEDxKC  1250726400         21   \n",
       "539          TEDxUSC  1237766400         24   \n",
       "...              ...         ...        ...   \n",
       "2534       TEDxSkoll  1491523200          1   \n",
       "2536    TEDxMileHigh  1499472000          5   \n",
       "2538      TEDxZurich  1478822400          1   \n",
       "2541  TEDxManchester  1487462400          2   \n",
       "2548    TEDxMileHigh  1499472000          1   \n",
       "\n",
       "                                main_speaker  \\\n",
       "470                             Jane Poynter   \n",
       "474                                 Qi Zhang   \n",
       "529                              David Logan   \n",
       "538                             John Gerzema   \n",
       "539                             Paul Debevec   \n",
       "...                                      ...   \n",
       "2534                          Benjamin Grant   \n",
       "2536  Caitlin Quattromani and Lauran Arledge   \n",
       "2538                        Alexander Wagner   \n",
       "2541                           Helen Czerski   \n",
       "2548                        Theo E.J. Wilson   \n",
       "\n",
       "                                                   name  num_speaker  \\\n",
       "470                   Jane Poynter: Life in Biosphere 2            1   \n",
       "474         Qi Zhang: An electrifying organ performance            1   \n",
       "529                      David Logan: Tribal leadership            1   \n",
       "538              John Gerzema: The post-crisis consumer            1   \n",
       "539   Paul Debevec: Animating a photo-real digital face            1   \n",
       "...                                                 ...          ...   \n",
       "2534  Benjamin Grant: What it feels like to see Eart...            1   \n",
       "2536  Caitlin Quattromani and Lauran Arledge: How ou...            2   \n",
       "2538  Alexander Wagner: What really motivates people...            1   \n",
       "2541  Helen Czerski: The fascinating physics of ever...            1   \n",
       "2548  Theo E.J. Wilson: A black man goes undercover ...            1   \n",
       "\n",
       "      published_date                                            ratings  \\\n",
       "470       1245027600  [{'id': 10, 'name': 'Inspiring', 'count': 407}...   \n",
       "474       1245401400  [{'id': 23, 'name': 'Jaw-dropping', 'count': 3...   \n",
       "529       1254790800  [{'id': 22, 'name': 'Fascinating', 'count': 33...   \n",
       "538       1255914000  [{'id': 25, 'name': 'OK', 'count': 94}, {'id':...   \n",
       "539       1256029020  [{'id': 23, 'name': 'Jaw-dropping', 'count': 1...   \n",
       "...              ...                                                ...   \n",
       "2534      1504814438  [{'id': 10, 'name': 'Inspiring', 'count': 46},...   \n",
       "2536      1505142060  [{'id': 3, 'name': 'Courageous', 'count': 45},...   \n",
       "2538      1505246451  [{'id': 10, 'name': 'Inspiring', 'count': 50},...   \n",
       "2541      1505419202  [{'id': 11, 'name': 'Longwinded', 'count': 29}...   \n",
       "2548      1506024042  [{'id': 11, 'name': 'Longwinded', 'count': 3},...   \n",
       "\n",
       "                                          related_talks  \\\n",
       "470   [{'id': 490, 'hero': 'https://pe.tedcdn.com/im...   \n",
       "474   [{'id': 46, 'hero': 'https://pe.tedcdn.com/ima...   \n",
       "529   [{'id': 538, 'hero': 'https://pe.tedcdn.com/im...   \n",
       "538   [{'id': 658, 'hero': 'https://pe.tedcdn.com/im...   \n",
       "539   [{'id': 469, 'hero': 'https://pe.tedcdn.com/im...   \n",
       "...                                                 ...   \n",
       "2534  [{'id': 2511, 'hero': 'https://pe.tedcdn.com/i...   \n",
       "2536  [{'id': 2625, 'hero': 'https://pe.tedcdn.com/i...   \n",
       "2538  [{'id': 1246, 'hero': 'https://pe.tedcdn.com/i...   \n",
       "2541  [{'id': 2491, 'hero': 'https://pe.tedcdn.com/i...   \n",
       "2548  [{'id': 2512, 'hero': 'https://pe.tedcdn.com/i...   \n",
       "\n",
       "             speaker_occupation  \\\n",
       "470                 Biospherian   \n",
       "474                    Organist   \n",
       "529     Professor of management   \n",
       "538              Marketing whiz   \n",
       "539   Computer graphics pioneer   \n",
       "...                         ...   \n",
       "2534                     Author   \n",
       "2536           Marketing leader   \n",
       "2538                  Economist   \n",
       "2541                  Physicist   \n",
       "2548        Public intellectual   \n",
       "\n",
       "                                                   tags  \\\n",
       "470   ['TEDx', 'adventure', 'biotech', 'climate chan...   \n",
       "474   ['TEDx', 'china', 'music', 'performance', 'pia...   \n",
       "529   ['TEDx', 'business', 'communication', 'culture...   \n",
       "538   ['TEDx', 'advertising', 'business', 'consumeri...   \n",
       "539   ['TEDx', 'animation', 'art', 'computers', 'des...   \n",
       "...                                                 ...   \n",
       "2534  ['TEDx', 'art', 'climate change', 'environment...   \n",
       "2536  ['TEDx', 'communication', 'friendship', 'polit...   \n",
       "2538  ['TEDx', 'business', 'corruption', 'economics'...   \n",
       "2541             ['TEDx', 'physics', 'play', 'science']   \n",
       "2548  ['Internet', 'TEDx', 'United States', 'communi...   \n",
       "\n",
       "                                                  title  \\\n",
       "470                                 Life in Biosphere 2   \n",
       "474                   An electrifying organ performance   \n",
       "529                                   Tribal leadership   \n",
       "538                            The post-crisis consumer   \n",
       "539                 Animating a photo-real digital face   \n",
       "...                                                 ...   \n",
       "2534         What it feels like to see Earth from space   \n",
       "2536  How our friendship survives our opposing politics   \n",
       "2538  What really motivates people to be honest in b...   \n",
       "2541           The fascinating physics of everyday life   \n",
       "2548       A black man goes undercover in the alt-right   \n",
       "\n",
       "                                                    url    views  \n",
       "470   https://www.ted.com/talks/jane_poynter_life_in...   843719  \n",
       "474   https://www.ted.com/talks/qi_zhang_s_electrify...   803691  \n",
       "529   https://www.ted.com/talks/david_logan_on_triba...  1404586  \n",
       "538   https://www.ted.com/talks/john_gerzema_the_pos...   760493  \n",
       "539   https://www.ted.com/talks/paul_debevec_animate...   748862  \n",
       "...                                                 ...      ...  \n",
       "2534  https://www.ted.com/talks/benjamin_grant_what_...   646174  \n",
       "2536  https://www.ted.com/talks/caitlin_quattromani_...   566101  \n",
       "2538  https://www.ted.com/talks/alexander_wagner_wha...   621431  \n",
       "2541  https://www.ted.com/talks/helen_czerski_fun_ho...   656791  \n",
       "2548  https://www.ted.com/talks/theo_e_j_wilson_a_bl...   419309  \n",
       "\n",
       "[471 rows x 17 columns]"
      ]
     },
     "execution_count": 42,
     "metadata": {},
     "output_type": "execute_result"
    }
   ],
   "source": [
    "ted_main[ted_main['event'].apply(lambda string: 'TEDx' in string)]"
   ]
  },
  {
   "cell_type": "markdown",
   "metadata": {
    "id": "h7BWFZbj4LaY"
   },
   "source": [
    "#### This is equivalent to:"
   ]
  },
  {
   "cell_type": "code",
   "execution_count": 43,
   "metadata": {
    "colab": {
     "base_uri": "https://localhost:8080/",
     "height": 225
    },
    "id": "hRhzk7zj4K4Y",
    "outputId": "70f668d0-ca71-4122-9ecd-7e8aaca62b63"
   },
   "outputs": [
    {
     "data": {
      "text/plain": [
       "0       False\n",
       "1       False\n",
       "2       False\n",
       "3       False\n",
       "4       False\n",
       "        ...  \n",
       "2545    False\n",
       "2546    False\n",
       "2547    False\n",
       "2548     True\n",
       "2549    False\n",
       "Name: event, Length: 2550, dtype: bool"
      ]
     },
     "execution_count": 43,
     "metadata": {},
     "output_type": "execute_result"
    }
   ],
   "source": [
    "def is_TEDx(string):\n",
    "  return 'TEDx' in string\n",
    "ted_main['event'].apply(is_TEDx)"
   ]
  },
  {
   "cell_type": "markdown",
   "metadata": {
    "id": "enOgQ5pB2M0S"
   },
   "source": [
    "# Sorting"
   ]
  },
  {
   "cell_type": "code",
   "execution_count": 44,
   "metadata": {
    "colab": {
     "base_uri": "https://localhost:8080/",
     "height": 1000
    },
    "id": "LAh7iD4N2LEm",
    "outputId": "c0c1cd2e-3311-4383-f55a-faec572b5f14"
   },
   "outputs": [
    {
     "data": {
      "text/html": [
       "<div>\n",
       "<style scoped>\n",
       "    .dataframe tbody tr th:only-of-type {\n",
       "        vertical-align: middle;\n",
       "    }\n",
       "\n",
       "    .dataframe tbody tr th {\n",
       "        vertical-align: top;\n",
       "    }\n",
       "\n",
       "    .dataframe thead th {\n",
       "        text-align: right;\n",
       "    }\n",
       "</style>\n",
       "<table border=\"1\" class=\"dataframe\">\n",
       "  <thead>\n",
       "    <tr style=\"text-align: right;\">\n",
       "      <th></th>\n",
       "      <th>comments</th>\n",
       "      <th>description</th>\n",
       "      <th>duration</th>\n",
       "      <th>event</th>\n",
       "      <th>film_date</th>\n",
       "      <th>languages</th>\n",
       "      <th>main_speaker</th>\n",
       "      <th>name</th>\n",
       "      <th>num_speaker</th>\n",
       "      <th>published_date</th>\n",
       "      <th>ratings</th>\n",
       "      <th>related_talks</th>\n",
       "      <th>speaker_occupation</th>\n",
       "      <th>tags</th>\n",
       "      <th>title</th>\n",
       "      <th>url</th>\n",
       "      <th>views</th>\n",
       "    </tr>\n",
       "  </thead>\n",
       "  <tbody>\n",
       "    <tr>\n",
       "      <th>239</th>\n",
       "      <td>76</td>\n",
       "      <td>After speaking at TED2007 on elegance in physi...</td>\n",
       "      <td>135</td>\n",
       "      <td>TED2007</td>\n",
       "      <td>1172880000</td>\n",
       "      <td>61</td>\n",
       "      <td>Murray Gell-Mann</td>\n",
       "      <td>Murray Gell-Mann: The ancestor of language</td>\n",
       "      <td>1</td>\n",
       "      <td>1213146000</td>\n",
       "      <td>[{'id': 22, 'name': 'Fascinating', 'count': 78...</td>\n",
       "      <td>[{'id': 161, 'hero': 'https://pe.tedcdn.com/im...</td>\n",
       "      <td>Physicist</td>\n",
       "      <td>['culture', 'global issues', 'history', 'langu...</td>\n",
       "      <td>The ancestor of language</td>\n",
       "      <td>https://www.ted.com/talks/murray_gell_mann_on_...</td>\n",
       "      <td>785293</td>\n",
       "    </tr>\n",
       "    <tr>\n",
       "      <th>248</th>\n",
       "      <td>42</td>\n",
       "      <td>Singer-songwriter Nellie McKay performs the se...</td>\n",
       "      <td>140</td>\n",
       "      <td>TED2008</td>\n",
       "      <td>1204243200</td>\n",
       "      <td>39</td>\n",
       "      <td>Nellie McKay</td>\n",
       "      <td>Nellie McKay: \"Clonie\"</td>\n",
       "      <td>1</td>\n",
       "      <td>1214528400</td>\n",
       "      <td>[{'id': 25, 'name': 'OK', 'count': 104}, {'id'...</td>\n",
       "      <td>[{'id': 325, 'hero': 'https://pe.tedcdn.com/im...</td>\n",
       "      <td>Singer/songwriter</td>\n",
       "      <td>['culture', 'entertainment', 'genetics', 'live...</td>\n",
       "      <td>\"Clonie\"</td>\n",
       "      <td>https://www.ted.com/talks/nellie_mckay_sings_c...</td>\n",
       "      <td>680591</td>\n",
       "    </tr>\n",
       "    <tr>\n",
       "      <th>547</th>\n",
       "      <td>46</td>\n",
       "      <td>The euphonium, with its sweet brass sound, is ...</td>\n",
       "      <td>141</td>\n",
       "      <td>TEDGlobal 2009</td>\n",
       "      <td>1248307200</td>\n",
       "      <td>0</td>\n",
       "      <td>Matthew White</td>\n",
       "      <td>Matthew White: The modern euphonium</td>\n",
       "      <td>1</td>\n",
       "      <td>1256864400</td>\n",
       "      <td>[{'id': 9, 'name': 'Ingenious', 'count': 43}, ...</td>\n",
       "      <td>[{'id': 478, 'hero': 'https://pe.tedcdn.com/im...</td>\n",
       "      <td>Brass virtuoso</td>\n",
       "      <td>['creativity', 'live music', 'music', 'perform...</td>\n",
       "      <td>The modern euphonium</td>\n",
       "      <td>https://www.ted.com/talks/matthew_white_gives_...</td>\n",
       "      <td>771962</td>\n",
       "    </tr>\n",
       "    <tr>\n",
       "      <th>454</th>\n",
       "      <td>62</td>\n",
       "      <td>Yves Behar and Forrest North unveil Mission On...</td>\n",
       "      <td>143</td>\n",
       "      <td>TED2009</td>\n",
       "      <td>1233878400</td>\n",
       "      <td>45</td>\n",
       "      <td>Yves Behar</td>\n",
       "      <td>Yves Behar: A supercharged motorcycle design</td>\n",
       "      <td>1</td>\n",
       "      <td>1242982440</td>\n",
       "      <td>[{'id': 7, 'name': 'Funny', 'count': 30}, {'id...</td>\n",
       "      <td>[{'id': 266, 'hero': 'https://pe.tedcdn.com/im...</td>\n",
       "      <td>Designer</td>\n",
       "      <td>['cars', 'design', 'engineering', 'green', 'tr...</td>\n",
       "      <td>A supercharged motorcycle design</td>\n",
       "      <td>https://www.ted.com/talks/yves_behar_s_superch...</td>\n",
       "      <td>556657</td>\n",
       "    </tr>\n",
       "    <tr>\n",
       "      <th>264</th>\n",
       "      <td>15</td>\n",
       "      <td>In this short, image-packed talk, Marisa Fick-...</td>\n",
       "      <td>153</td>\n",
       "      <td>TEDGlobal 2007</td>\n",
       "      <td>1181088000</td>\n",
       "      <td>43</td>\n",
       "      <td>Marisa Fick-Jordan</td>\n",
       "      <td>Marisa Fick-Jordan: The wonder of Zulu wire art</td>\n",
       "      <td>1</td>\n",
       "      <td>1216666500</td>\n",
       "      <td>[{'id': 1, 'name': 'Beautiful', 'count': 81}, ...</td>\n",
       "      <td>[{'id': 127, 'hero': 'https://pe.tedcdn.com/im...</td>\n",
       "      <td>Craft artist, product designer</td>\n",
       "      <td>['Africa', 'art', 'business', 'design']</td>\n",
       "      <td>The wonder of Zulu wire art</td>\n",
       "      <td>https://www.ted.com/talks/marisa_fick_jordan_s...</td>\n",
       "      <td>294961</td>\n",
       "    </tr>\n",
       "    <tr>\n",
       "      <th>...</th>\n",
       "      <td>...</td>\n",
       "      <td>...</td>\n",
       "      <td>...</td>\n",
       "      <td>...</td>\n",
       "      <td>...</td>\n",
       "      <td>...</td>\n",
       "      <td>...</td>\n",
       "      <td>...</td>\n",
       "      <td>...</td>\n",
       "      <td>...</td>\n",
       "      <td>...</td>\n",
       "      <td>...</td>\n",
       "      <td>...</td>\n",
       "      <td>...</td>\n",
       "      <td>...</td>\n",
       "      <td>...</td>\n",
       "      <td>...</td>\n",
       "    </tr>\n",
       "    <tr>\n",
       "      <th>594</th>\n",
       "      <td>20</td>\n",
       "      <td>In the midst of an earlier crisis, Haitian aut...</td>\n",
       "      <td>3573</td>\n",
       "      <td>University of California</td>\n",
       "      <td>1097625600</td>\n",
       "      <td>0</td>\n",
       "      <td>Edwidge Danticat</td>\n",
       "      <td>Edwidge Danticat: Stories of Haiti</td>\n",
       "      <td>1</td>\n",
       "      <td>1263481440</td>\n",
       "      <td>[{'id': 1, 'name': 'Beautiful', 'count': 25}, ...</td>\n",
       "      <td>[{'id': 652, 'hero': 'https://pe.tedcdn.com/im...</td>\n",
       "      <td>Author</td>\n",
       "      <td>['books', 'disaster relief', 'novel', 'poetry'...</td>\n",
       "      <td>Stories of Haiti</td>\n",
       "      <td>https://www.ted.com/talks/edwidge_danticat_sto...</td>\n",
       "      <td>50443</td>\n",
       "    </tr>\n",
       "    <tr>\n",
       "      <th>2387</th>\n",
       "      <td>345</td>\n",
       "      <td>How do we make sense of today's political divi...</td>\n",
       "      <td>3608</td>\n",
       "      <td>TED Dialogues</td>\n",
       "      <td>1487116800</td>\n",
       "      <td>19</td>\n",
       "      <td>Yuval Noah Harari</td>\n",
       "      <td>Yuval Noah Harari: Nationalism vs. globalism: ...</td>\n",
       "      <td>2</td>\n",
       "      <td>1487604924</td>\n",
       "      <td>[{'id': 8, 'name': 'Informative', 'count': 583...</td>\n",
       "      <td>[{'id': 2625, 'hero': 'https://pe.tedcdn.com/i...</td>\n",
       "      <td>Historian</td>\n",
       "      <td>['big problems', 'climate change', 'collaborat...</td>\n",
       "      <td>Nationalism vs. globalism: the new political d...</td>\n",
       "      <td>https://www.ted.com/talks/yuval_noah_harari_na...</td>\n",
       "      <td>1514291</td>\n",
       "    </tr>\n",
       "    <tr>\n",
       "      <th>629</th>\n",
       "      <td>146</td>\n",
       "      <td>In this archival footage from BBC TV, celebrat...</td>\n",
       "      <td>3955</td>\n",
       "      <td>BBC TV</td>\n",
       "      <td>426531600</td>\n",
       "      <td>0</td>\n",
       "      <td>Richard Feynman</td>\n",
       "      <td>Richard Feynman: Physics is fun to imagine</td>\n",
       "      <td>1</td>\n",
       "      <td>1267631820</td>\n",
       "      <td>[{'id': 8, 'name': 'Informative', 'count': 324...</td>\n",
       "      <td>[{'id': 194, 'hero': 'https://pe.tedcdn.com/im...</td>\n",
       "      <td>Physicist</td>\n",
       "      <td>['astronomy', 'physics', 'science']</td>\n",
       "      <td>Physics is fun to imagine</td>\n",
       "      <td>https://www.ted.com/talks/richard_feynman\\n</td>\n",
       "      <td>521974</td>\n",
       "    </tr>\n",
       "    <tr>\n",
       "      <th>588</th>\n",
       "      <td>124</td>\n",
       "      <td>In 2007, Carnegie Mellon professor Randy Pausc...</td>\n",
       "      <td>4587</td>\n",
       "      <td>Carnegie Mellon University</td>\n",
       "      <td>1190073600</td>\n",
       "      <td>0</td>\n",
       "      <td>Randy Pausch</td>\n",
       "      <td>Randy Pausch: Really achieving your childhood ...</td>\n",
       "      <td>1</td>\n",
       "      <td>1262950320</td>\n",
       "      <td>[{'id': 3, 'name': 'Courageous', 'count': 299}...</td>\n",
       "      <td>[{'id': 229, 'hero': 'https://pe.tedcdn.com/im...</td>\n",
       "      <td>Professor</td>\n",
       "      <td>['culture', 'disease', 'education', 'life', 's...</td>\n",
       "      <td>Really achieving your childhood dreams</td>\n",
       "      <td>https://www.ted.com/talks/randy_pausch_really_...</td>\n",
       "      <td>564781</td>\n",
       "    </tr>\n",
       "    <tr>\n",
       "      <th>640</th>\n",
       "      <td>101</td>\n",
       "      <td>Blind river dolphins, reclusive lemurs, a parr...</td>\n",
       "      <td>5256</td>\n",
       "      <td>University of California</td>\n",
       "      <td>989971200</td>\n",
       "      <td>0</td>\n",
       "      <td>Douglas Adams</td>\n",
       "      <td>Douglas Adams: Parrots, the universe and every...</td>\n",
       "      <td>1</td>\n",
       "      <td>1268762040</td>\n",
       "      <td>[{'id': 22, 'name': 'Fascinating', 'count': 29...</td>\n",
       "      <td>[{'id': 635, 'hero': 'https://pe.tedcdn.com/im...</td>\n",
       "      <td>Author, satirist</td>\n",
       "      <td>['biodiversity', 'biology', 'comedy', 'humor',...</td>\n",
       "      <td>Parrots, the universe and everything</td>\n",
       "      <td>https://www.ted.com/talks/douglas_adams_parrot...</td>\n",
       "      <td>473220</td>\n",
       "    </tr>\n",
       "  </tbody>\n",
       "</table>\n",
       "<p>2550 rows × 17 columns</p>\n",
       "</div>"
      ],
      "text/plain": [
       "      comments                                        description  duration  \\\n",
       "239         76  After speaking at TED2007 on elegance in physi...       135   \n",
       "248         42  Singer-songwriter Nellie McKay performs the se...       140   \n",
       "547         46  The euphonium, with its sweet brass sound, is ...       141   \n",
       "454         62  Yves Behar and Forrest North unveil Mission On...       143   \n",
       "264         15  In this short, image-packed talk, Marisa Fick-...       153   \n",
       "...        ...                                                ...       ...   \n",
       "594         20  In the midst of an earlier crisis, Haitian aut...      3573   \n",
       "2387       345  How do we make sense of today's political divi...      3608   \n",
       "629        146  In this archival footage from BBC TV, celebrat...      3955   \n",
       "588        124  In 2007, Carnegie Mellon professor Randy Pausc...      4587   \n",
       "640        101  Blind river dolphins, reclusive lemurs, a parr...      5256   \n",
       "\n",
       "                           event   film_date  languages        main_speaker  \\\n",
       "239                      TED2007  1172880000         61    Murray Gell-Mann   \n",
       "248                      TED2008  1204243200         39        Nellie McKay   \n",
       "547               TEDGlobal 2009  1248307200          0       Matthew White   \n",
       "454                      TED2009  1233878400         45          Yves Behar   \n",
       "264               TEDGlobal 2007  1181088000         43  Marisa Fick-Jordan   \n",
       "...                          ...         ...        ...                 ...   \n",
       "594     University of California  1097625600          0    Edwidge Danticat   \n",
       "2387               TED Dialogues  1487116800         19   Yuval Noah Harari   \n",
       "629                       BBC TV   426531600          0     Richard Feynman   \n",
       "588   Carnegie Mellon University  1190073600          0        Randy Pausch   \n",
       "640     University of California   989971200          0       Douglas Adams   \n",
       "\n",
       "                                                   name  num_speaker  \\\n",
       "239          Murray Gell-Mann: The ancestor of language            1   \n",
       "248                              Nellie McKay: \"Clonie\"            1   \n",
       "547                 Matthew White: The modern euphonium            1   \n",
       "454        Yves Behar: A supercharged motorcycle design            1   \n",
       "264     Marisa Fick-Jordan: The wonder of Zulu wire art            1   \n",
       "...                                                 ...          ...   \n",
       "594                  Edwidge Danticat: Stories of Haiti            1   \n",
       "2387  Yuval Noah Harari: Nationalism vs. globalism: ...            2   \n",
       "629          Richard Feynman: Physics is fun to imagine            1   \n",
       "588   Randy Pausch: Really achieving your childhood ...            1   \n",
       "640   Douglas Adams: Parrots, the universe and every...            1   \n",
       "\n",
       "      published_date                                            ratings  \\\n",
       "239       1213146000  [{'id': 22, 'name': 'Fascinating', 'count': 78...   \n",
       "248       1214528400  [{'id': 25, 'name': 'OK', 'count': 104}, {'id'...   \n",
       "547       1256864400  [{'id': 9, 'name': 'Ingenious', 'count': 43}, ...   \n",
       "454       1242982440  [{'id': 7, 'name': 'Funny', 'count': 30}, {'id...   \n",
       "264       1216666500  [{'id': 1, 'name': 'Beautiful', 'count': 81}, ...   \n",
       "...              ...                                                ...   \n",
       "594       1263481440  [{'id': 1, 'name': 'Beautiful', 'count': 25}, ...   \n",
       "2387      1487604924  [{'id': 8, 'name': 'Informative', 'count': 583...   \n",
       "629       1267631820  [{'id': 8, 'name': 'Informative', 'count': 324...   \n",
       "588       1262950320  [{'id': 3, 'name': 'Courageous', 'count': 299}...   \n",
       "640       1268762040  [{'id': 22, 'name': 'Fascinating', 'count': 29...   \n",
       "\n",
       "                                          related_talks  \\\n",
       "239   [{'id': 161, 'hero': 'https://pe.tedcdn.com/im...   \n",
       "248   [{'id': 325, 'hero': 'https://pe.tedcdn.com/im...   \n",
       "547   [{'id': 478, 'hero': 'https://pe.tedcdn.com/im...   \n",
       "454   [{'id': 266, 'hero': 'https://pe.tedcdn.com/im...   \n",
       "264   [{'id': 127, 'hero': 'https://pe.tedcdn.com/im...   \n",
       "...                                                 ...   \n",
       "594   [{'id': 652, 'hero': 'https://pe.tedcdn.com/im...   \n",
       "2387  [{'id': 2625, 'hero': 'https://pe.tedcdn.com/i...   \n",
       "629   [{'id': 194, 'hero': 'https://pe.tedcdn.com/im...   \n",
       "588   [{'id': 229, 'hero': 'https://pe.tedcdn.com/im...   \n",
       "640   [{'id': 635, 'hero': 'https://pe.tedcdn.com/im...   \n",
       "\n",
       "                  speaker_occupation  \\\n",
       "239                        Physicist   \n",
       "248                Singer/songwriter   \n",
       "547                   Brass virtuoso   \n",
       "454                         Designer   \n",
       "264   Craft artist, product designer   \n",
       "...                              ...   \n",
       "594                           Author   \n",
       "2387                       Historian   \n",
       "629                        Physicist   \n",
       "588                        Professor   \n",
       "640                 Author, satirist   \n",
       "\n",
       "                                                   tags  \\\n",
       "239   ['culture', 'global issues', 'history', 'langu...   \n",
       "248   ['culture', 'entertainment', 'genetics', 'live...   \n",
       "547   ['creativity', 'live music', 'music', 'perform...   \n",
       "454   ['cars', 'design', 'engineering', 'green', 'tr...   \n",
       "264             ['Africa', 'art', 'business', 'design']   \n",
       "...                                                 ...   \n",
       "594   ['books', 'disaster relief', 'novel', 'poetry'...   \n",
       "2387  ['big problems', 'climate change', 'collaborat...   \n",
       "629                 ['astronomy', 'physics', 'science']   \n",
       "588   ['culture', 'disease', 'education', 'life', 's...   \n",
       "640   ['biodiversity', 'biology', 'comedy', 'humor',...   \n",
       "\n",
       "                                                  title  \\\n",
       "239                            The ancestor of language   \n",
       "248                                            \"Clonie\"   \n",
       "547                                The modern euphonium   \n",
       "454                    A supercharged motorcycle design   \n",
       "264                         The wonder of Zulu wire art   \n",
       "...                                                 ...   \n",
       "594                                    Stories of Haiti   \n",
       "2387  Nationalism vs. globalism: the new political d...   \n",
       "629                           Physics is fun to imagine   \n",
       "588              Really achieving your childhood dreams   \n",
       "640                Parrots, the universe and everything   \n",
       "\n",
       "                                                    url    views  \n",
       "239   https://www.ted.com/talks/murray_gell_mann_on_...   785293  \n",
       "248   https://www.ted.com/talks/nellie_mckay_sings_c...   680591  \n",
       "547   https://www.ted.com/talks/matthew_white_gives_...   771962  \n",
       "454   https://www.ted.com/talks/yves_behar_s_superch...   556657  \n",
       "264   https://www.ted.com/talks/marisa_fick_jordan_s...   294961  \n",
       "...                                                 ...      ...  \n",
       "594   https://www.ted.com/talks/edwidge_danticat_sto...    50443  \n",
       "2387  https://www.ted.com/talks/yuval_noah_harari_na...  1514291  \n",
       "629         https://www.ted.com/talks/richard_feynman\\n   521974  \n",
       "588   https://www.ted.com/talks/randy_pausch_really_...   564781  \n",
       "640   https://www.ted.com/talks/douglas_adams_parrot...   473220  \n",
       "\n",
       "[2550 rows x 17 columns]"
      ]
     },
     "execution_count": 44,
     "metadata": {},
     "output_type": "execute_result"
    }
   ],
   "source": [
    "ted_main.sort_values(by=['duration', 'event'], ascending=[True, False])"
   ]
  },
  {
   "cell_type": "markdown",
   "metadata": {
    "id": "sQWiGawW51Qi"
   },
   "source": [
    "# Preprocessing "
   ]
  },
  {
   "cell_type": "code",
   "execution_count": 45,
   "metadata": {
    "colab": {
     "base_uri": "https://localhost:8080/",
     "height": 427
    },
    "id": "MjYmeIzrYjLR",
    "outputId": "28771f94-01b1-485d-c4d4-08ceca77cc18"
   },
   "outputs": [
    {
     "data": {
      "text/html": [
       "<div>\n",
       "<style scoped>\n",
       "    .dataframe tbody tr th:only-of-type {\n",
       "        vertical-align: middle;\n",
       "    }\n",
       "\n",
       "    .dataframe tbody tr th {\n",
       "        vertical-align: top;\n",
       "    }\n",
       "\n",
       "    .dataframe thead th {\n",
       "        text-align: right;\n",
       "    }\n",
       "</style>\n",
       "<table border=\"1\" class=\"dataframe\">\n",
       "  <thead>\n",
       "    <tr style=\"text-align: right;\">\n",
       "      <th></th>\n",
       "      <th>comments</th>\n",
       "      <th>description</th>\n",
       "      <th>duration</th>\n",
       "      <th>event</th>\n",
       "      <th>film_date</th>\n",
       "      <th>languages</th>\n",
       "      <th>main_speaker</th>\n",
       "      <th>name</th>\n",
       "      <th>num_speaker</th>\n",
       "      <th>published_date</th>\n",
       "      <th>ratings</th>\n",
       "      <th>related_talks</th>\n",
       "      <th>speaker_occupation</th>\n",
       "      <th>tags</th>\n",
       "      <th>title</th>\n",
       "      <th>url</th>\n",
       "      <th>views</th>\n",
       "    </tr>\n",
       "  </thead>\n",
       "  <tbody>\n",
       "    <tr>\n",
       "      <th>0</th>\n",
       "      <td>True</td>\n",
       "      <td>True</td>\n",
       "      <td>True</td>\n",
       "      <td>True</td>\n",
       "      <td>True</td>\n",
       "      <td>True</td>\n",
       "      <td>True</td>\n",
       "      <td>True</td>\n",
       "      <td>True</td>\n",
       "      <td>True</td>\n",
       "      <td>True</td>\n",
       "      <td>True</td>\n",
       "      <td>True</td>\n",
       "      <td>True</td>\n",
       "      <td>True</td>\n",
       "      <td>True</td>\n",
       "      <td>True</td>\n",
       "    </tr>\n",
       "    <tr>\n",
       "      <th>1</th>\n",
       "      <td>True</td>\n",
       "      <td>True</td>\n",
       "      <td>True</td>\n",
       "      <td>True</td>\n",
       "      <td>True</td>\n",
       "      <td>True</td>\n",
       "      <td>True</td>\n",
       "      <td>True</td>\n",
       "      <td>True</td>\n",
       "      <td>True</td>\n",
       "      <td>True</td>\n",
       "      <td>True</td>\n",
       "      <td>True</td>\n",
       "      <td>True</td>\n",
       "      <td>True</td>\n",
       "      <td>True</td>\n",
       "      <td>True</td>\n",
       "    </tr>\n",
       "    <tr>\n",
       "      <th>2</th>\n",
       "      <td>True</td>\n",
       "      <td>True</td>\n",
       "      <td>True</td>\n",
       "      <td>True</td>\n",
       "      <td>True</td>\n",
       "      <td>True</td>\n",
       "      <td>True</td>\n",
       "      <td>True</td>\n",
       "      <td>True</td>\n",
       "      <td>True</td>\n",
       "      <td>True</td>\n",
       "      <td>True</td>\n",
       "      <td>True</td>\n",
       "      <td>True</td>\n",
       "      <td>True</td>\n",
       "      <td>True</td>\n",
       "      <td>True</td>\n",
       "    </tr>\n",
       "    <tr>\n",
       "      <th>3</th>\n",
       "      <td>True</td>\n",
       "      <td>True</td>\n",
       "      <td>True</td>\n",
       "      <td>True</td>\n",
       "      <td>True</td>\n",
       "      <td>True</td>\n",
       "      <td>True</td>\n",
       "      <td>True</td>\n",
       "      <td>True</td>\n",
       "      <td>True</td>\n",
       "      <td>True</td>\n",
       "      <td>True</td>\n",
       "      <td>True</td>\n",
       "      <td>True</td>\n",
       "      <td>True</td>\n",
       "      <td>True</td>\n",
       "      <td>True</td>\n",
       "    </tr>\n",
       "    <tr>\n",
       "      <th>4</th>\n",
       "      <td>True</td>\n",
       "      <td>True</td>\n",
       "      <td>True</td>\n",
       "      <td>True</td>\n",
       "      <td>True</td>\n",
       "      <td>True</td>\n",
       "      <td>True</td>\n",
       "      <td>True</td>\n",
       "      <td>True</td>\n",
       "      <td>True</td>\n",
       "      <td>True</td>\n",
       "      <td>True</td>\n",
       "      <td>True</td>\n",
       "      <td>True</td>\n",
       "      <td>True</td>\n",
       "      <td>True</td>\n",
       "      <td>True</td>\n",
       "    </tr>\n",
       "    <tr>\n",
       "      <th>...</th>\n",
       "      <td>...</td>\n",
       "      <td>...</td>\n",
       "      <td>...</td>\n",
       "      <td>...</td>\n",
       "      <td>...</td>\n",
       "      <td>...</td>\n",
       "      <td>...</td>\n",
       "      <td>...</td>\n",
       "      <td>...</td>\n",
       "      <td>...</td>\n",
       "      <td>...</td>\n",
       "      <td>...</td>\n",
       "      <td>...</td>\n",
       "      <td>...</td>\n",
       "      <td>...</td>\n",
       "      <td>...</td>\n",
       "      <td>...</td>\n",
       "    </tr>\n",
       "    <tr>\n",
       "      <th>2545</th>\n",
       "      <td>True</td>\n",
       "      <td>True</td>\n",
       "      <td>True</td>\n",
       "      <td>True</td>\n",
       "      <td>True</td>\n",
       "      <td>True</td>\n",
       "      <td>True</td>\n",
       "      <td>True</td>\n",
       "      <td>True</td>\n",
       "      <td>True</td>\n",
       "      <td>True</td>\n",
       "      <td>True</td>\n",
       "      <td>True</td>\n",
       "      <td>True</td>\n",
       "      <td>True</td>\n",
       "      <td>True</td>\n",
       "      <td>True</td>\n",
       "    </tr>\n",
       "    <tr>\n",
       "      <th>2546</th>\n",
       "      <td>True</td>\n",
       "      <td>True</td>\n",
       "      <td>True</td>\n",
       "      <td>True</td>\n",
       "      <td>True</td>\n",
       "      <td>True</td>\n",
       "      <td>True</td>\n",
       "      <td>True</td>\n",
       "      <td>True</td>\n",
       "      <td>True</td>\n",
       "      <td>True</td>\n",
       "      <td>True</td>\n",
       "      <td>True</td>\n",
       "      <td>True</td>\n",
       "      <td>True</td>\n",
       "      <td>True</td>\n",
       "      <td>True</td>\n",
       "    </tr>\n",
       "    <tr>\n",
       "      <th>2547</th>\n",
       "      <td>True</td>\n",
       "      <td>True</td>\n",
       "      <td>True</td>\n",
       "      <td>True</td>\n",
       "      <td>True</td>\n",
       "      <td>True</td>\n",
       "      <td>True</td>\n",
       "      <td>True</td>\n",
       "      <td>True</td>\n",
       "      <td>True</td>\n",
       "      <td>True</td>\n",
       "      <td>True</td>\n",
       "      <td>True</td>\n",
       "      <td>True</td>\n",
       "      <td>True</td>\n",
       "      <td>True</td>\n",
       "      <td>True</td>\n",
       "    </tr>\n",
       "    <tr>\n",
       "      <th>2548</th>\n",
       "      <td>True</td>\n",
       "      <td>True</td>\n",
       "      <td>True</td>\n",
       "      <td>True</td>\n",
       "      <td>True</td>\n",
       "      <td>True</td>\n",
       "      <td>True</td>\n",
       "      <td>True</td>\n",
       "      <td>True</td>\n",
       "      <td>True</td>\n",
       "      <td>True</td>\n",
       "      <td>True</td>\n",
       "      <td>True</td>\n",
       "      <td>True</td>\n",
       "      <td>True</td>\n",
       "      <td>True</td>\n",
       "      <td>True</td>\n",
       "    </tr>\n",
       "    <tr>\n",
       "      <th>2549</th>\n",
       "      <td>True</td>\n",
       "      <td>True</td>\n",
       "      <td>True</td>\n",
       "      <td>True</td>\n",
       "      <td>True</td>\n",
       "      <td>True</td>\n",
       "      <td>True</td>\n",
       "      <td>True</td>\n",
       "      <td>True</td>\n",
       "      <td>True</td>\n",
       "      <td>True</td>\n",
       "      <td>True</td>\n",
       "      <td>True</td>\n",
       "      <td>True</td>\n",
       "      <td>True</td>\n",
       "      <td>True</td>\n",
       "      <td>True</td>\n",
       "    </tr>\n",
       "  </tbody>\n",
       "</table>\n",
       "<p>2550 rows × 17 columns</p>\n",
       "</div>"
      ],
      "text/plain": [
       "      comments  description  duration  event  film_date  languages  \\\n",
       "0         True         True      True   True       True       True   \n",
       "1         True         True      True   True       True       True   \n",
       "2         True         True      True   True       True       True   \n",
       "3         True         True      True   True       True       True   \n",
       "4         True         True      True   True       True       True   \n",
       "...        ...          ...       ...    ...        ...        ...   \n",
       "2545      True         True      True   True       True       True   \n",
       "2546      True         True      True   True       True       True   \n",
       "2547      True         True      True   True       True       True   \n",
       "2548      True         True      True   True       True       True   \n",
       "2549      True         True      True   True       True       True   \n",
       "\n",
       "      main_speaker  name  num_speaker  published_date  ratings  related_talks  \\\n",
       "0             True  True         True            True     True           True   \n",
       "1             True  True         True            True     True           True   \n",
       "2             True  True         True            True     True           True   \n",
       "3             True  True         True            True     True           True   \n",
       "4             True  True         True            True     True           True   \n",
       "...            ...   ...          ...             ...      ...            ...   \n",
       "2545          True  True         True            True     True           True   \n",
       "2546          True  True         True            True     True           True   \n",
       "2547          True  True         True            True     True           True   \n",
       "2548          True  True         True            True     True           True   \n",
       "2549          True  True         True            True     True           True   \n",
       "\n",
       "      speaker_occupation  tags  title   url  views  \n",
       "0                   True  True   True  True   True  \n",
       "1                   True  True   True  True   True  \n",
       "2                   True  True   True  True   True  \n",
       "3                   True  True   True  True   True  \n",
       "4                   True  True   True  True   True  \n",
       "...                  ...   ...    ...   ...    ...  \n",
       "2545                True  True   True  True   True  \n",
       "2546                True  True   True  True   True  \n",
       "2547                True  True   True  True   True  \n",
       "2548                True  True   True  True   True  \n",
       "2549                True  True   True  True   True  \n",
       "\n",
       "[2550 rows x 17 columns]"
      ]
     },
     "execution_count": 45,
     "metadata": {},
     "output_type": "execute_result"
    }
   ],
   "source": [
    "~ted_main.isnull()"
   ]
  },
  {
   "cell_type": "code",
   "execution_count": 46,
   "metadata": {
    "colab": {
     "base_uri": "https://localhost:8080/",
     "height": 35
    },
    "id": "JbWUmVyaYrJh",
    "outputId": "2873d398-aa76-462f-f7cc-dd6c9c0f6090"
   },
   "outputs": [
    {
     "data": {
      "text/plain": [
       "(2550, 17)"
      ]
     },
     "execution_count": 46,
     "metadata": {},
     "output_type": "execute_result"
    }
   ],
   "source": [
    "ted_main.shape"
   ]
  },
  {
   "cell_type": "markdown",
   "metadata": {
    "id": "_3L_329TIz2j"
   },
   "source": [
    "## Replacing missing values"
   ]
  },
  {
   "cell_type": "code",
   "execution_count": 47,
   "metadata": {
    "colab": {
     "base_uri": "https://localhost:8080/",
     "height": 35
    },
    "id": "LOOXqixVIaNK",
    "outputId": "f7c859b1-4c1d-44c0-8e07-c8ae2e474b07"
   },
   "outputs": [
    {
     "data": {
      "text/plain": [
       "6"
      ]
     },
     "execution_count": 47,
     "metadata": {},
     "output_type": "execute_result"
    }
   ],
   "source": [
    "temp = ted_main.fillna('Not specified')\n",
    "temp2 = temp[temp['speaker_occupation'] == 'Not specified']\n",
    "len(temp2)"
   ]
  },
  {
   "cell_type": "markdown",
   "metadata": {
    "id": "IGj1JsK9I6Nc"
   },
   "source": [
    "## Dropping rows with missing values"
   ]
  },
  {
   "cell_type": "code",
   "execution_count": 48,
   "metadata": {
    "id": "9IsPXTUoYmgZ"
   },
   "outputs": [],
   "source": [
    "ted_main.dropna(how='any', inplace=True)"
   ]
  },
  {
   "cell_type": "code",
   "execution_count": 49,
   "metadata": {
    "colab": {
     "base_uri": "https://localhost:8080/",
     "height": 35
    },
    "id": "wvySuxptYxSI",
    "outputId": "288697bb-afc8-4c09-ded3-79ee2f74231d"
   },
   "outputs": [
    {
     "data": {
      "text/plain": [
       "(2544, 17)"
      ]
     },
     "execution_count": 49,
     "metadata": {},
     "output_type": "execute_result"
    }
   ],
   "source": [
    "ted_main.shape"
   ]
  },
  {
   "cell_type": "markdown",
   "metadata": {
    "id": "UBp5A-PiAX6M"
   },
   "source": [
    "## Let's convert ratings, related talks and tags to proper datatypes!"
   ]
  },
  {
   "cell_type": "code",
   "execution_count": 50,
   "metadata": {
    "colab": {
     "base_uri": "https://localhost:8080/",
     "height": 105
    },
    "id": "uhoPZGfg_qEp",
    "outputId": "605d4a3f-c1bb-49f3-f4e7-bb4eed09212b"
   },
   "outputs": [
    {
     "data": {
      "text/plain": [
       "\"[{'id': 7, 'name': 'Funny', 'count': 19645}, {'id': 1, 'name': 'Beautiful', 'count': 4573}, {'id': 9, 'name': 'Ingenious', 'count': 6073}, {'id': 3, 'name': 'Courageous', 'count': 3253}, {'id': 11, 'name': 'Longwinded', 'count': 387}, {'id': 2, 'name': 'Confusing', 'count': 242}, {'id': 8, 'name': 'Informative', 'count': 7346}, {'id': 22, 'name': 'Fascinating', 'count': 10581}, {'id': 21, 'name': 'Unconvincing', 'count': 300}, {'id': 24, 'name': 'Persuasive', 'count': 10704}, {'id': 23, 'name': 'Jaw-dropping', 'count': 4439}, {'id': 25, 'name': 'OK', 'count': 1174}, {'id': 26, 'name': 'Obnoxious', 'count': 209}, {'id': 10, 'name': 'Inspiring', 'count': 24924}]\""
      ]
     },
     "execution_count": 50,
     "metadata": {},
     "output_type": "execute_result"
    }
   ],
   "source": [
    "ted_main['ratings'].iloc[0]"
   ]
  },
  {
   "cell_type": "code",
   "execution_count": 51,
   "metadata": {
    "colab": {
     "base_uri": "https://localhost:8080/",
     "height": 35
    },
    "id": "nfCbQFxGTO3B",
    "outputId": "00a75433-60cf-46a7-bd9b-c7e4bf6b2ff5"
   },
   "outputs": [
    {
     "data": {
      "text/plain": [
       "1140825600"
      ]
     },
     "execution_count": 51,
     "metadata": {},
     "output_type": "execute_result"
    }
   ],
   "source": [
    "ted_main['film_date'].iloc[0]"
   ]
  },
  {
   "cell_type": "code",
   "execution_count": 52,
   "metadata": {
    "colab": {
     "base_uri": "https://localhost:8080/",
     "height": 35
    },
    "id": "BE763DthTUE0",
    "outputId": "a21de85a-c1cb-444f-a18b-d83751e7f8cc"
   },
   "outputs": [
    {
     "data": {
      "text/plain": [
       "1151367060"
      ]
     },
     "execution_count": 52,
     "metadata": {},
     "output_type": "execute_result"
    }
   ],
   "source": [
    "ted_main['published_date'].iloc[0]"
   ]
  },
  {
   "cell_type": "code",
   "execution_count": 53,
   "metadata": {
    "id": "xixST1yhS4J4"
   },
   "outputs": [],
   "source": [
    "from ast import literal_eval"
   ]
  },
  {
   "cell_type": "code",
   "execution_count": 54,
   "metadata": {
    "id": "yFEnA4RBAW8w"
   },
   "outputs": [],
   "source": [
    "ted_main['ratings'] = ted_main['ratings'].apply(literal_eval)\n",
    "ted_main['related_talks'] = ted_main['related_talks'].apply(literal_eval)\n",
    "ted_main['tags'] = ted_main['tags'].apply(literal_eval)"
   ]
  },
  {
   "cell_type": "code",
   "execution_count": 55,
   "metadata": {
    "colab": {
     "base_uri": "https://localhost:8080/",
     "height": 35
    },
    "id": "no4IKwWF8bmh",
    "outputId": "7d6663d6-39c7-40cd-c9ba-0a132f781399"
   },
   "outputs": [
    {
     "data": {
      "text/plain": [
       "{'id': 7, 'name': 'Funny', 'count': 19645}"
      ]
     },
     "execution_count": 55,
     "metadata": {},
     "output_type": "execute_result"
    }
   ],
   "source": [
    "ted_main['ratings'][0][0]"
   ]
  },
  {
   "cell_type": "markdown",
   "metadata": {
    "id": "SYMj_pHsYclm"
   },
   "source": [
    "## Let's convert the dates to a proper format"
   ]
  },
  {
   "cell_type": "code",
   "execution_count": 56,
   "metadata": {
    "id": "p8g1C_2eTdTM"
   },
   "outputs": [],
   "source": [
    "pd.to_datetime?"
   ]
  },
  {
   "cell_type": "code",
   "execution_count": 57,
   "metadata": {
    "id": "kHP04wCUSnK2"
   },
   "outputs": [],
   "source": [
    "ted_main['film_date'] = pd.to_datetime(ted_main['film_date'], unit='s')\n",
    "ted_main['published_date'] = pd.to_datetime(ted_main['published_date'], unit='s')"
   ]
  },
  {
   "cell_type": "markdown",
   "metadata": {
    "id": "sMyfq1rTAmU8"
   },
   "source": [
    "## What does it look like now?"
   ]
  },
  {
   "cell_type": "code",
   "execution_count": 58,
   "metadata": {
    "colab": {
     "base_uri": "https://localhost:8080/",
     "height": 301
    },
    "id": "eC8D744dAlSS",
    "outputId": "bc3eafe5-0c8e-41f7-cada-0a32392f7440"
   },
   "outputs": [
    {
     "data": {
      "text/html": [
       "<div>\n",
       "<style scoped>\n",
       "    .dataframe tbody tr th:only-of-type {\n",
       "        vertical-align: middle;\n",
       "    }\n",
       "\n",
       "    .dataframe tbody tr th {\n",
       "        vertical-align: top;\n",
       "    }\n",
       "\n",
       "    .dataframe thead th {\n",
       "        text-align: right;\n",
       "    }\n",
       "</style>\n",
       "<table border=\"1\" class=\"dataframe\">\n",
       "  <thead>\n",
       "    <tr style=\"text-align: right;\">\n",
       "      <th></th>\n",
       "      <th>comments</th>\n",
       "      <th>description</th>\n",
       "      <th>duration</th>\n",
       "      <th>event</th>\n",
       "      <th>film_date</th>\n",
       "      <th>languages</th>\n",
       "      <th>main_speaker</th>\n",
       "      <th>name</th>\n",
       "      <th>num_speaker</th>\n",
       "      <th>published_date</th>\n",
       "      <th>ratings</th>\n",
       "      <th>related_talks</th>\n",
       "      <th>speaker_occupation</th>\n",
       "      <th>tags</th>\n",
       "      <th>title</th>\n",
       "      <th>url</th>\n",
       "      <th>views</th>\n",
       "    </tr>\n",
       "  </thead>\n",
       "  <tbody>\n",
       "    <tr>\n",
       "      <th>0</th>\n",
       "      <td>4553</td>\n",
       "      <td>Sir Ken Robinson makes an entertaining and pro...</td>\n",
       "      <td>1164</td>\n",
       "      <td>TED2006</td>\n",
       "      <td>2006-02-25</td>\n",
       "      <td>60</td>\n",
       "      <td>Ken Robinson</td>\n",
       "      <td>Ken Robinson: Do schools kill creativity?</td>\n",
       "      <td>1</td>\n",
       "      <td>2006-06-27 00:11:00</td>\n",
       "      <td>[{'id': 7, 'name': 'Funny', 'count': 19645}, {...</td>\n",
       "      <td>[{'id': 865, 'hero': 'https://pe.tedcdn.com/im...</td>\n",
       "      <td>Author/educator</td>\n",
       "      <td>[children, creativity, culture, dance, educati...</td>\n",
       "      <td>Do schools kill creativity?</td>\n",
       "      <td>https://www.ted.com/talks/ken_robinson_says_sc...</td>\n",
       "      <td>47227110</td>\n",
       "    </tr>\n",
       "    <tr>\n",
       "      <th>1</th>\n",
       "      <td>265</td>\n",
       "      <td>With the same humor and humanity he exuded in ...</td>\n",
       "      <td>977</td>\n",
       "      <td>TED2006</td>\n",
       "      <td>2006-02-25</td>\n",
       "      <td>43</td>\n",
       "      <td>Al Gore</td>\n",
       "      <td>Al Gore: Averting the climate crisis</td>\n",
       "      <td>1</td>\n",
       "      <td>2006-06-27 00:11:00</td>\n",
       "      <td>[{'id': 7, 'name': 'Funny', 'count': 544}, {'i...</td>\n",
       "      <td>[{'id': 243, 'hero': 'https://pe.tedcdn.com/im...</td>\n",
       "      <td>Climate advocate</td>\n",
       "      <td>[alternative energy, cars, climate change, cul...</td>\n",
       "      <td>Averting the climate crisis</td>\n",
       "      <td>https://www.ted.com/talks/al_gore_on_averting_...</td>\n",
       "      <td>3200520</td>\n",
       "    </tr>\n",
       "  </tbody>\n",
       "</table>\n",
       "</div>"
      ],
      "text/plain": [
       "   comments                                        description  duration  \\\n",
       "0      4553  Sir Ken Robinson makes an entertaining and pro...      1164   \n",
       "1       265  With the same humor and humanity he exuded in ...       977   \n",
       "\n",
       "     event  film_date  languages  main_speaker  \\\n",
       "0  TED2006 2006-02-25         60  Ken Robinson   \n",
       "1  TED2006 2006-02-25         43       Al Gore   \n",
       "\n",
       "                                        name  num_speaker      published_date  \\\n",
       "0  Ken Robinson: Do schools kill creativity?            1 2006-06-27 00:11:00   \n",
       "1       Al Gore: Averting the climate crisis            1 2006-06-27 00:11:00   \n",
       "\n",
       "                                             ratings  \\\n",
       "0  [{'id': 7, 'name': 'Funny', 'count': 19645}, {...   \n",
       "1  [{'id': 7, 'name': 'Funny', 'count': 544}, {'i...   \n",
       "\n",
       "                                       related_talks speaker_occupation  \\\n",
       "0  [{'id': 865, 'hero': 'https://pe.tedcdn.com/im...    Author/educator   \n",
       "1  [{'id': 243, 'hero': 'https://pe.tedcdn.com/im...   Climate advocate   \n",
       "\n",
       "                                                tags  \\\n",
       "0  [children, creativity, culture, dance, educati...   \n",
       "1  [alternative energy, cars, climate change, cul...   \n",
       "\n",
       "                         title  \\\n",
       "0  Do schools kill creativity?   \n",
       "1  Averting the climate crisis   \n",
       "\n",
       "                                                 url     views  \n",
       "0  https://www.ted.com/talks/ken_robinson_says_sc...  47227110  \n",
       "1  https://www.ted.com/talks/al_gore_on_averting_...   3200520  "
      ]
     },
     "execution_count": 58,
     "metadata": {},
     "output_type": "execute_result"
    }
   ],
   "source": [
    "ted_main.head(2)"
   ]
  },
  {
   "cell_type": "code",
   "execution_count": 59,
   "metadata": {
    "colab": {
     "base_uri": "https://localhost:8080/",
     "height": 72
    },
    "id": "WmoHCm0e7YdP",
    "outputId": "02f04a72-b214-4a41-e888-ccae4dcacfe8"
   },
   "outputs": [
    {
     "name": "stderr",
     "output_type": "stream",
     "text": [
      "/opt/anaconda3/lib/python3.8/site-packages/pandas/core/ops/array_ops.py:253: FutureWarning: elementwise comparison failed; returning scalar instead, but in the future will perform elementwise comparison\n",
      "  res_values = method(rvalues)\n"
     ]
    }
   ],
   "source": [
    "# Update `languages` to 1, for rows that had `languages` set to 0\n",
    "\n",
    "ted_main.loc[(ted_main['languages']==0) & (ted_main['comments']=='whatever'),'comments'] = 1"
   ]
  },
  {
   "cell_type": "code",
   "execution_count": 60,
   "metadata": {
    "colab": {
     "base_uri": "https://localhost:8080/",
     "height": 155
    },
    "id": "pFKW4-Dk-SL5",
    "outputId": "eef215ae-baab-4aeb-ed33-526ffd332db0"
   },
   "outputs": [
    {
     "data": {
      "text/plain": [
       "array(['https://www.ted.com/talks/ken_robinson_says_schools_kill_creativity\\n',\n",
       "       'https://www.ted.com/talks/al_gore_on_averting_climate_crisis\\n',\n",
       "       'https://www.ted.com/talks/david_pogue_says_simplicity_sells\\n',\n",
       "       ...,\n",
       "       'https://www.ted.com/talks/radhika_nagpal_what_intelligent_machines_can_learn_from_a_school_of_fish\\n',\n",
       "       'https://www.ted.com/talks/theo_e_j_wilson_a_black_man_goes_undercover_in_the_alt_right\\n',\n",
       "       'https://www.ted.com/talks/karoliina_korppoo_how_a_video_game_might_help_us_build_better_cities\\n'],\n",
       "      dtype=object)"
      ]
     },
     "execution_count": 60,
     "metadata": {},
     "output_type": "execute_result"
    }
   ],
   "source": [
    "# Print `url` of the first row\n",
    "# Note the newlines at the end\n",
    "\n",
    "ted_main['url'].values"
   ]
  },
  {
   "cell_type": "code",
   "execution_count": 61,
   "metadata": {
    "id": "lj86LL1V-UN5"
   },
   "outputs": [],
   "source": [
    "# Update the `url` column values after removing \n",
    "# the newline characters for each row\n",
    "\n",
    "ted_main['url'] = ted_main['url'].apply(lambda x: x.replace('\\n', ''))"
   ]
  },
  {
   "cell_type": "code",
   "execution_count": 62,
   "metadata": {
    "colab": {
     "base_uri": "https://localhost:8080/",
     "height": 35
    },
    "id": "YYwB-X73-5C8",
    "outputId": "7ce052c1-bfe3-4705-84aa-2f389c026c7b"
   },
   "outputs": [
    {
     "data": {
      "text/plain": [
       "'https://www.ted.com/talks/ken_robinson_says_schools_kill_creativity'"
      ]
     },
     "execution_count": 62,
     "metadata": {},
     "output_type": "execute_result"
    }
   ],
   "source": [
    "# No pesky newlines anymore \n",
    "\n",
    "ted_main['url'].iloc[0]"
   ]
  },
  {
   "cell_type": "code",
   "execution_count": 63,
   "metadata": {
    "id": "6uWDGK4L6x2l"
   },
   "outputs": [],
   "source": [
    "# For each row, `apply` the anonymous function\n",
    "# removing <main_speaker>: from the column `name`\n",
    "\n",
    "def removeSpeakerName(row):\n",
    "  return row['name'].replace(\"%s:\" % row['main_speaker'], '').strip()\n",
    "\n",
    "ted_main['name'] = ted_main.apply(removeSpeakerName, axis=1)"
   ]
  },
  {
   "cell_type": "code",
   "execution_count": 64,
   "metadata": {
    "colab": {
     "base_uri": "https://localhost:8080/",
     "height": 301
    },
    "id": "-YCQ9gf66zN9",
    "outputId": "cf971d6a-263f-4266-aef7-95c87b380e3d"
   },
   "outputs": [
    {
     "data": {
      "text/html": [
       "<div>\n",
       "<style scoped>\n",
       "    .dataframe tbody tr th:only-of-type {\n",
       "        vertical-align: middle;\n",
       "    }\n",
       "\n",
       "    .dataframe tbody tr th {\n",
       "        vertical-align: top;\n",
       "    }\n",
       "\n",
       "    .dataframe thead th {\n",
       "        text-align: right;\n",
       "    }\n",
       "</style>\n",
       "<table border=\"1\" class=\"dataframe\">\n",
       "  <thead>\n",
       "    <tr style=\"text-align: right;\">\n",
       "      <th></th>\n",
       "      <th>comments</th>\n",
       "      <th>description</th>\n",
       "      <th>duration</th>\n",
       "      <th>event</th>\n",
       "      <th>film_date</th>\n",
       "      <th>languages</th>\n",
       "      <th>main_speaker</th>\n",
       "      <th>name</th>\n",
       "      <th>num_speaker</th>\n",
       "      <th>published_date</th>\n",
       "      <th>ratings</th>\n",
       "      <th>related_talks</th>\n",
       "      <th>speaker_occupation</th>\n",
       "      <th>tags</th>\n",
       "      <th>title</th>\n",
       "      <th>url</th>\n",
       "      <th>views</th>\n",
       "    </tr>\n",
       "  </thead>\n",
       "  <tbody>\n",
       "    <tr>\n",
       "      <th>0</th>\n",
       "      <td>4553</td>\n",
       "      <td>Sir Ken Robinson makes an entertaining and pro...</td>\n",
       "      <td>1164</td>\n",
       "      <td>TED2006</td>\n",
       "      <td>2006-02-25</td>\n",
       "      <td>60</td>\n",
       "      <td>Ken Robinson</td>\n",
       "      <td>Do schools kill creativity?</td>\n",
       "      <td>1</td>\n",
       "      <td>2006-06-27 00:11:00</td>\n",
       "      <td>[{'id': 7, 'name': 'Funny', 'count': 19645}, {...</td>\n",
       "      <td>[{'id': 865, 'hero': 'https://pe.tedcdn.com/im...</td>\n",
       "      <td>Author/educator</td>\n",
       "      <td>[children, creativity, culture, dance, educati...</td>\n",
       "      <td>Do schools kill creativity?</td>\n",
       "      <td>https://www.ted.com/talks/ken_robinson_says_sc...</td>\n",
       "      <td>47227110</td>\n",
       "    </tr>\n",
       "    <tr>\n",
       "      <th>1</th>\n",
       "      <td>265</td>\n",
       "      <td>With the same humor and humanity he exuded in ...</td>\n",
       "      <td>977</td>\n",
       "      <td>TED2006</td>\n",
       "      <td>2006-02-25</td>\n",
       "      <td>43</td>\n",
       "      <td>Al Gore</td>\n",
       "      <td>Averting the climate crisis</td>\n",
       "      <td>1</td>\n",
       "      <td>2006-06-27 00:11:00</td>\n",
       "      <td>[{'id': 7, 'name': 'Funny', 'count': 544}, {'i...</td>\n",
       "      <td>[{'id': 243, 'hero': 'https://pe.tedcdn.com/im...</td>\n",
       "      <td>Climate advocate</td>\n",
       "      <td>[alternative energy, cars, climate change, cul...</td>\n",
       "      <td>Averting the climate crisis</td>\n",
       "      <td>https://www.ted.com/talks/al_gore_on_averting_...</td>\n",
       "      <td>3200520</td>\n",
       "    </tr>\n",
       "  </tbody>\n",
       "</table>\n",
       "</div>"
      ],
      "text/plain": [
       "   comments                                        description  duration  \\\n",
       "0      4553  Sir Ken Robinson makes an entertaining and pro...      1164   \n",
       "1       265  With the same humor and humanity he exuded in ...       977   \n",
       "\n",
       "     event  film_date  languages  main_speaker                         name  \\\n",
       "0  TED2006 2006-02-25         60  Ken Robinson  Do schools kill creativity?   \n",
       "1  TED2006 2006-02-25         43       Al Gore  Averting the climate crisis   \n",
       "\n",
       "   num_speaker      published_date  \\\n",
       "0            1 2006-06-27 00:11:00   \n",
       "1            1 2006-06-27 00:11:00   \n",
       "\n",
       "                                             ratings  \\\n",
       "0  [{'id': 7, 'name': 'Funny', 'count': 19645}, {...   \n",
       "1  [{'id': 7, 'name': 'Funny', 'count': 544}, {'i...   \n",
       "\n",
       "                                       related_talks speaker_occupation  \\\n",
       "0  [{'id': 865, 'hero': 'https://pe.tedcdn.com/im...    Author/educator   \n",
       "1  [{'id': 243, 'hero': 'https://pe.tedcdn.com/im...   Climate advocate   \n",
       "\n",
       "                                                tags  \\\n",
       "0  [children, creativity, culture, dance, educati...   \n",
       "1  [alternative energy, cars, climate change, cul...   \n",
       "\n",
       "                         title  \\\n",
       "0  Do schools kill creativity?   \n",
       "1  Averting the climate crisis   \n",
       "\n",
       "                                                 url     views  \n",
       "0  https://www.ted.com/talks/ken_robinson_says_sc...  47227110  \n",
       "1  https://www.ted.com/talks/al_gore_on_averting_...   3200520  "
      ]
     },
     "execution_count": 64,
     "metadata": {},
     "output_type": "execute_result"
    }
   ],
   "source": [
    "ted_main.head(2)"
   ]
  },
  {
   "cell_type": "code",
   "execution_count": 65,
   "metadata": {
    "colab": {
     "base_uri": "https://localhost:8080/",
     "height": 198
    },
    "id": "Iy-58dgv-H9K",
    "outputId": "b333b7eb-5886-4440-c1ae-5a7291e4b6a9"
   },
   "outputs": [
    {
     "data": {
      "text/html": [
       "<div>\n",
       "<style scoped>\n",
       "    .dataframe tbody tr th:only-of-type {\n",
       "        vertical-align: middle;\n",
       "    }\n",
       "\n",
       "    .dataframe tbody tr th {\n",
       "        vertical-align: top;\n",
       "    }\n",
       "\n",
       "    .dataframe thead th {\n",
       "        text-align: right;\n",
       "    }\n",
       "</style>\n",
       "<table border=\"1\" class=\"dataframe\">\n",
       "  <thead>\n",
       "    <tr style=\"text-align: right;\">\n",
       "      <th></th>\n",
       "      <th>transcript</th>\n",
       "      <th>url</th>\n",
       "    </tr>\n",
       "  </thead>\n",
       "  <tbody>\n",
       "    <tr>\n",
       "      <th>0</th>\n",
       "      <td>Good morning. How are you?(Laughter)It's been ...</td>\n",
       "      <td>https://www.ted.com/talks/ken_robinson_says_sc...</td>\n",
       "    </tr>\n",
       "    <tr>\n",
       "      <th>1</th>\n",
       "      <td>Thank you so much, Chris. And it's truly a gre...</td>\n",
       "      <td>https://www.ted.com/talks/al_gore_on_averting_...</td>\n",
       "    </tr>\n",
       "    <tr>\n",
       "      <th>2</th>\n",
       "      <td>(Music: \"The Sound of Silence,\" Simon &amp; Garfun...</td>\n",
       "      <td>https://www.ted.com/talks/david_pogue_says_sim...</td>\n",
       "    </tr>\n",
       "    <tr>\n",
       "      <th>3</th>\n",
       "      <td>If you're here today — and I'm very happy that...</td>\n",
       "      <td>https://www.ted.com/talks/majora_carter_s_tale...</td>\n",
       "    </tr>\n",
       "    <tr>\n",
       "      <th>4</th>\n",
       "      <td>About 10 years ago, I took on the task to teac...</td>\n",
       "      <td>https://www.ted.com/talks/hans_rosling_shows_t...</td>\n",
       "    </tr>\n",
       "  </tbody>\n",
       "</table>\n",
       "</div>"
      ],
      "text/plain": [
       "                                          transcript  \\\n",
       "0  Good morning. How are you?(Laughter)It's been ...   \n",
       "1  Thank you so much, Chris. And it's truly a gre...   \n",
       "2  (Music: \"The Sound of Silence,\" Simon & Garfun...   \n",
       "3  If you're here today — and I'm very happy that...   \n",
       "4  About 10 years ago, I took on the task to teac...   \n",
       "\n",
       "                                                 url  \n",
       "0  https://www.ted.com/talks/ken_robinson_says_sc...  \n",
       "1  https://www.ted.com/talks/al_gore_on_averting_...  \n",
       "2  https://www.ted.com/talks/david_pogue_says_sim...  \n",
       "3  https://www.ted.com/talks/majora_carter_s_tale...  \n",
       "4  https://www.ted.com/talks/hans_rosling_shows_t...  "
      ]
     },
     "execution_count": 65,
     "metadata": {},
     "output_type": "execute_result"
    }
   ],
   "source": [
    "# Note `(Laughter)` and `(Music..)` in the \n",
    "# first and third rows, these are\n",
    "# clearly not part of the transcript\n",
    "\n",
    "transcripts.head()"
   ]
  },
  {
   "cell_type": "code",
   "execution_count": 66,
   "metadata": {
    "id": "kLNHp9t4_pid"
   },
   "outputs": [],
   "source": [
    "# This looks like a job for... \n",
    "# REGULAR EXPRESSIONS!\n",
    "\n",
    "import re"
   ]
  },
  {
   "cell_type": "code",
   "execution_count": 67,
   "metadata": {
    "id": "xph_sfVp_NjR"
   },
   "outputs": [],
   "source": [
    "transcripts['transcript'] = \\\n",
    "  transcripts['transcript'].apply(lambda x: re.sub(r'\\((.*?)\\)', ' ', x))"
   ]
  },
  {
   "cell_type": "code",
   "execution_count": 68,
   "metadata": {
    "colab": {
     "base_uri": "https://localhost:8080/",
     "height": 198
    },
    "id": "Ua0qNnC8BY7n",
    "outputId": "8e3a5d99-b488-4643-8219-9303d5d00fe9"
   },
   "outputs": [
    {
     "data": {
      "text/html": [
       "<div>\n",
       "<style scoped>\n",
       "    .dataframe tbody tr th:only-of-type {\n",
       "        vertical-align: middle;\n",
       "    }\n",
       "\n",
       "    .dataframe tbody tr th {\n",
       "        vertical-align: top;\n",
       "    }\n",
       "\n",
       "    .dataframe thead th {\n",
       "        text-align: right;\n",
       "    }\n",
       "</style>\n",
       "<table border=\"1\" class=\"dataframe\">\n",
       "  <thead>\n",
       "    <tr style=\"text-align: right;\">\n",
       "      <th></th>\n",
       "      <th>transcript</th>\n",
       "      <th>url</th>\n",
       "    </tr>\n",
       "  </thead>\n",
       "  <tbody>\n",
       "    <tr>\n",
       "      <th>0</th>\n",
       "      <td>Good morning. How are you? It's been great, ha...</td>\n",
       "      <td>https://www.ted.com/talks/ken_robinson_says_sc...</td>\n",
       "    </tr>\n",
       "    <tr>\n",
       "      <th>1</th>\n",
       "      <td>Thank you so much, Chris. And it's truly a gre...</td>\n",
       "      <td>https://www.ted.com/talks/al_gore_on_averting_...</td>\n",
       "    </tr>\n",
       "    <tr>\n",
       "      <th>2</th>\n",
       "      <td>Hello voice mail, my old friend. I've called ...</td>\n",
       "      <td>https://www.ted.com/talks/david_pogue_says_sim...</td>\n",
       "    </tr>\n",
       "    <tr>\n",
       "      <th>3</th>\n",
       "      <td>If you're here today — and I'm very happy that...</td>\n",
       "      <td>https://www.ted.com/talks/majora_carter_s_tale...</td>\n",
       "    </tr>\n",
       "    <tr>\n",
       "      <th>4</th>\n",
       "      <td>About 10 years ago, I took on the task to teac...</td>\n",
       "      <td>https://www.ted.com/talks/hans_rosling_shows_t...</td>\n",
       "    </tr>\n",
       "  </tbody>\n",
       "</table>\n",
       "</div>"
      ],
      "text/plain": [
       "                                          transcript  \\\n",
       "0  Good morning. How are you? It's been great, ha...   \n",
       "1  Thank you so much, Chris. And it's truly a gre...   \n",
       "2   Hello voice mail, my old friend. I've called ...   \n",
       "3  If you're here today — and I'm very happy that...   \n",
       "4  About 10 years ago, I took on the task to teac...   \n",
       "\n",
       "                                                 url  \n",
       "0  https://www.ted.com/talks/ken_robinson_says_sc...  \n",
       "1  https://www.ted.com/talks/al_gore_on_averting_...  \n",
       "2  https://www.ted.com/talks/david_pogue_says_sim...  \n",
       "3  https://www.ted.com/talks/majora_carter_s_tale...  \n",
       "4  https://www.ted.com/talks/hans_rosling_shows_t...  "
      ]
     },
     "execution_count": 68,
     "metadata": {},
     "output_type": "execute_result"
    }
   ],
   "source": [
    "transcripts.head() # Like a boss "
   ]
  },
  {
   "cell_type": "markdown",
   "metadata": {
    "id": "tURbkZPiAuXA"
   },
   "source": [
    "# Let's visualize some distributions"
   ]
  },
  {
   "cell_type": "code",
   "execution_count": 69,
   "metadata": {
    "colab": {
     "base_uri": "https://localhost:8080/",
     "height": 294
    },
    "id": "6x-hHqcLVZiE",
    "outputId": "dd4dfae8-5c9c-43bc-c772-df2f8451e944"
   },
   "outputs": [
    {
     "data": {
      "image/png": "[encoded data removed]",
      "text/plain": [
       "<Figure size 432x288 with 6 Axes>"
      ]
     },
     "metadata": {
      "needs_background": "light"
     },
     "output_type": "display_data"
    }
   ],
   "source": [
    "hists = ted_main.hist()"
   ]
  },
  {
   "cell_type": "markdown",
   "metadata": {
    "id": "xWNue7n_VhHO"
   },
   "source": [
    "### Matplotlib helps keep things cleaner!"
   ]
  },
  {
   "cell_type": "code",
   "execution_count": 70,
   "metadata": {
    "id": "fp1xefKgVS_E"
   },
   "outputs": [],
   "source": [
    "import matplotlib.pyplot as plt"
   ]
  },
  {
   "cell_type": "code",
   "execution_count": 71,
   "metadata": {
    "colab": {
     "base_uri": "https://localhost:8080/",
     "height": 315
    },
    "id": "dqaPPfu_Cz77",
    "outputId": "ffb612d7-0293-4787-d728-713ecc5a3ebb"
   },
   "outputs": [
    {
     "data": {
      "image/png": "[encoded data removed]",
      "text/plain": [
       "<Figure size 432x288 with 6 Axes>"
      ]
     },
     "metadata": {
      "needs_background": "light"
     },
     "output_type": "display_data"
    },
    {
     "data": {
      "text/plain": [
       "<Figure size 432x288 with 0 Axes>"
      ]
     },
     "metadata": {},
     "output_type": "display_data"
    }
   ],
   "source": [
    "hists = ted_main.hist()\n",
    "plt.tight_layout()\n",
    "plt.show()\n",
    "plt.savefig('plot.png')"
   ]
  },
  {
   "cell_type": "code",
   "execution_count": 72,
   "metadata": {
    "colab": {
     "base_uri": "https://localhost:8080/",
     "height": 279
    },
    "id": "-ET0LkrFVojE",
    "outputId": "41db0af3-d213-432a-d8df-c356e0f0f37e"
   },
   "outputs": [
    {
     "data": {
      "image/png": "[encoded data removed]",
      "text/plain": [
       "<Figure size 432x288 with 1 Axes>"
      ]
     },
     "metadata": {
      "needs_background": "light"
     },
     "output_type": "display_data"
    }
   ],
   "source": [
    "nums = [1,2,3,4]\n",
    "plt.plot(nums, [x * x for x in nums], '-o');\n",
    "plt.plot(nums, [x ** 3 for x in nums], '-o');\n",
    "plt.legend(['Square', 'Cube']);\n",
    "plt.xlabel('x');\n",
    "plt.ylabel('power(x)');"
   ]
  },
  {
   "cell_type": "code",
   "execution_count": 73,
   "metadata": {
    "colab": {
     "base_uri": "https://localhost:8080/",
     "height": 295
    },
    "id": "zIRw7_O1WdFk",
    "outputId": "69ae752b-9af3-42bd-f873-3ebc42cbce6d"
   },
   "outputs": [
    {
     "data": {
      "image/png": "[encoded data removed]",
      "text/plain": [
       "<Figure size 288x288 with 1 Axes>"
      ]
     },
     "metadata": {
      "needs_background": "light"
     },
     "output_type": "display_data"
    }
   ],
   "source": [
    "nums = [1,2,3,4]\n",
    "plt.figure(figsize=(4,4))\n",
    "plt.plot(nums, [x * x for x in nums], '-s', color='Green');\n",
    "plt.plot(nums, [x * x * x for x in nums], '-.', color='Red');\n",
    "plt.legend(['Square', 'Cube'])\n",
    "plt.xlabel('x');\n",
    "plt.ylabel('power(x)');\n",
    "\n",
    "plt.xticks(nums)\n",
    "plt.title('A super boring graph')\n",
    "plt.grid(axis='y')\n",
    "# plt.show()"
   ]
  },
  {
   "cell_type": "code",
   "execution_count": 74,
   "metadata": {
    "colab": {
     "base_uri": "https://localhost:8080/",
     "height": 564
    },
    "id": "nI9rdPSGFf5D",
    "outputId": "95ff6b9b-96b3-4fcd-faa2-e4cba380ab6c"
   },
   "outputs": [
    {
     "data": {
      "text/html": [
       "<div>\n",
       "<style scoped>\n",
       "    .dataframe tbody tr th:only-of-type {\n",
       "        vertical-align: middle;\n",
       "    }\n",
       "\n",
       "    .dataframe tbody tr th {\n",
       "        vertical-align: top;\n",
       "    }\n",
       "\n",
       "    .dataframe thead th {\n",
       "        text-align: right;\n",
       "    }\n",
       "</style>\n",
       "<table border=\"1\" class=\"dataframe\">\n",
       "  <thead>\n",
       "    <tr style=\"text-align: right;\">\n",
       "      <th></th>\n",
       "      <th>comments</th>\n",
       "      <th>description</th>\n",
       "      <th>duration</th>\n",
       "      <th>event</th>\n",
       "      <th>film_date</th>\n",
       "      <th>languages</th>\n",
       "      <th>main_speaker</th>\n",
       "      <th>name</th>\n",
       "      <th>num_speaker</th>\n",
       "      <th>published_date</th>\n",
       "      <th>ratings</th>\n",
       "      <th>related_talks</th>\n",
       "      <th>speaker_occupation</th>\n",
       "      <th>tags</th>\n",
       "      <th>title</th>\n",
       "      <th>url</th>\n",
       "      <th>views</th>\n",
       "    </tr>\n",
       "  </thead>\n",
       "  <tbody>\n",
       "    <tr>\n",
       "      <th>0</th>\n",
       "      <td>4553</td>\n",
       "      <td>Sir Ken Robinson makes an entertaining and pro...</td>\n",
       "      <td>1164</td>\n",
       "      <td>TED2006</td>\n",
       "      <td>2006-02-25</td>\n",
       "      <td>60</td>\n",
       "      <td>Ken Robinson</td>\n",
       "      <td>Do schools kill creativity?</td>\n",
       "      <td>1</td>\n",
       "      <td>2006-06-27 00:11:00</td>\n",
       "      <td>[{'id': 7, 'name': 'Funny', 'count': 19645}, {...</td>\n",
       "      <td>[{'id': 865, 'hero': 'https://pe.tedcdn.com/im...</td>\n",
       "      <td>Author/educator</td>\n",
       "      <td>[children, creativity, culture, dance, educati...</td>\n",
       "      <td>Do schools kill creativity?</td>\n",
       "      <td>https://www.ted.com/talks/ken_robinson_says_sc...</td>\n",
       "      <td>47227110</td>\n",
       "    </tr>\n",
       "    <tr>\n",
       "      <th>1</th>\n",
       "      <td>265</td>\n",
       "      <td>With the same humor and humanity he exuded in ...</td>\n",
       "      <td>977</td>\n",
       "      <td>TED2006</td>\n",
       "      <td>2006-02-25</td>\n",
       "      <td>43</td>\n",
       "      <td>Al Gore</td>\n",
       "      <td>Averting the climate crisis</td>\n",
       "      <td>1</td>\n",
       "      <td>2006-06-27 00:11:00</td>\n",
       "      <td>[{'id': 7, 'name': 'Funny', 'count': 544}, {'i...</td>\n",
       "      <td>[{'id': 243, 'hero': 'https://pe.tedcdn.com/im...</td>\n",
       "      <td>Climate advocate</td>\n",
       "      <td>[alternative energy, cars, climate change, cul...</td>\n",
       "      <td>Averting the climate crisis</td>\n",
       "      <td>https://www.ted.com/talks/al_gore_on_averting_...</td>\n",
       "      <td>3200520</td>\n",
       "    </tr>\n",
       "    <tr>\n",
       "      <th>2</th>\n",
       "      <td>124</td>\n",
       "      <td>New York Times columnist David Pogue takes aim...</td>\n",
       "      <td>1286</td>\n",
       "      <td>TED2006</td>\n",
       "      <td>2006-02-24</td>\n",
       "      <td>26</td>\n",
       "      <td>David Pogue</td>\n",
       "      <td>Simplicity sells</td>\n",
       "      <td>1</td>\n",
       "      <td>2006-06-27 00:11:00</td>\n",
       "      <td>[{'id': 7, 'name': 'Funny', 'count': 964}, {'i...</td>\n",
       "      <td>[{'id': 1725, 'hero': 'https://pe.tedcdn.com/i...</td>\n",
       "      <td>Technology columnist</td>\n",
       "      <td>[computers, entertainment, interface design, m...</td>\n",
       "      <td>Simplicity sells</td>\n",
       "      <td>https://www.ted.com/talks/david_pogue_says_sim...</td>\n",
       "      <td>1636292</td>\n",
       "    </tr>\n",
       "    <tr>\n",
       "      <th>3</th>\n",
       "      <td>200</td>\n",
       "      <td>In an emotionally charged talk, MacArthur-winn...</td>\n",
       "      <td>1116</td>\n",
       "      <td>TED2006</td>\n",
       "      <td>2006-02-26</td>\n",
       "      <td>35</td>\n",
       "      <td>Majora Carter</td>\n",
       "      <td>Greening the ghetto</td>\n",
       "      <td>1</td>\n",
       "      <td>2006-06-27 00:11:00</td>\n",
       "      <td>[{'id': 3, 'name': 'Courageous', 'count': 760}...</td>\n",
       "      <td>[{'id': 1041, 'hero': 'https://pe.tedcdn.com/i...</td>\n",
       "      <td>Activist for environmental justice</td>\n",
       "      <td>[MacArthur grant, activism, business, cities, ...</td>\n",
       "      <td>Greening the ghetto</td>\n",
       "      <td>https://www.ted.com/talks/majora_carter_s_tale...</td>\n",
       "      <td>1697550</td>\n",
       "    </tr>\n",
       "    <tr>\n",
       "      <th>4</th>\n",
       "      <td>593</td>\n",
       "      <td>You've never seen data presented like this. Wi...</td>\n",
       "      <td>1190</td>\n",
       "      <td>TED2006</td>\n",
       "      <td>2006-02-22</td>\n",
       "      <td>48</td>\n",
       "      <td>Hans Rosling</td>\n",
       "      <td>The best stats you've ever seen</td>\n",
       "      <td>1</td>\n",
       "      <td>2006-06-27 20:38:00</td>\n",
       "      <td>[{'id': 9, 'name': 'Ingenious', 'count': 3202}...</td>\n",
       "      <td>[{'id': 2056, 'hero': 'https://pe.tedcdn.com/i...</td>\n",
       "      <td>Global health expert; data visionary</td>\n",
       "      <td>[Africa, Asia, Google, demo, economics, global...</td>\n",
       "      <td>The best stats you've ever seen</td>\n",
       "      <td>https://www.ted.com/talks/hans_rosling_shows_t...</td>\n",
       "      <td>12005869</td>\n",
       "    </tr>\n",
       "  </tbody>\n",
       "</table>\n",
       "</div>"
      ],
      "text/plain": [
       "   comments                                        description  duration  \\\n",
       "0      4553  Sir Ken Robinson makes an entertaining and pro...      1164   \n",
       "1       265  With the same humor and humanity he exuded in ...       977   \n",
       "2       124  New York Times columnist David Pogue takes aim...      1286   \n",
       "3       200  In an emotionally charged talk, MacArthur-winn...      1116   \n",
       "4       593  You've never seen data presented like this. Wi...      1190   \n",
       "\n",
       "     event  film_date  languages   main_speaker  \\\n",
       "0  TED2006 2006-02-25         60   Ken Robinson   \n",
       "1  TED2006 2006-02-25         43        Al Gore   \n",
       "2  TED2006 2006-02-24         26    David Pogue   \n",
       "3  TED2006 2006-02-26         35  Majora Carter   \n",
       "4  TED2006 2006-02-22         48   Hans Rosling   \n",
       "\n",
       "                              name  num_speaker      published_date  \\\n",
       "0      Do schools kill creativity?            1 2006-06-27 00:11:00   \n",
       "1      Averting the climate crisis            1 2006-06-27 00:11:00   \n",
       "2                 Simplicity sells            1 2006-06-27 00:11:00   \n",
       "3              Greening the ghetto            1 2006-06-27 00:11:00   \n",
       "4  The best stats you've ever seen            1 2006-06-27 20:38:00   \n",
       "\n",
       "                                             ratings  \\\n",
       "0  [{'id': 7, 'name': 'Funny', 'count': 19645}, {...   \n",
       "1  [{'id': 7, 'name': 'Funny', 'count': 544}, {'i...   \n",
       "2  [{'id': 7, 'name': 'Funny', 'count': 964}, {'i...   \n",
       "3  [{'id': 3, 'name': 'Courageous', 'count': 760}...   \n",
       "4  [{'id': 9, 'name': 'Ingenious', 'count': 3202}...   \n",
       "\n",
       "                                       related_talks  \\\n",
       "0  [{'id': 865, 'hero': 'https://pe.tedcdn.com/im...   \n",
       "1  [{'id': 243, 'hero': 'https://pe.tedcdn.com/im...   \n",
       "2  [{'id': 1725, 'hero': 'https://pe.tedcdn.com/i...   \n",
       "3  [{'id': 1041, 'hero': 'https://pe.tedcdn.com/i...   \n",
       "4  [{'id': 2056, 'hero': 'https://pe.tedcdn.com/i...   \n",
       "\n",
       "                     speaker_occupation  \\\n",
       "0                       Author/educator   \n",
       "1                      Climate advocate   \n",
       "2                  Technology columnist   \n",
       "3    Activist for environmental justice   \n",
       "4  Global health expert; data visionary   \n",
       "\n",
       "                                                tags  \\\n",
       "0  [children, creativity, culture, dance, educati...   \n",
       "1  [alternative energy, cars, climate change, cul...   \n",
       "2  [computers, entertainment, interface design, m...   \n",
       "3  [MacArthur grant, activism, business, cities, ...   \n",
       "4  [Africa, Asia, Google, demo, economics, global...   \n",
       "\n",
       "                             title  \\\n",
       "0      Do schools kill creativity?   \n",
       "1      Averting the climate crisis   \n",
       "2                 Simplicity sells   \n",
       "3              Greening the ghetto   \n",
       "4  The best stats you've ever seen   \n",
       "\n",
       "                                                 url     views  \n",
       "0  https://www.ted.com/talks/ken_robinson_says_sc...  47227110  \n",
       "1  https://www.ted.com/talks/al_gore_on_averting_...   3200520  \n",
       "2  https://www.ted.com/talks/david_pogue_says_sim...   1636292  \n",
       "3  https://www.ted.com/talks/majora_carter_s_tale...   1697550  \n",
       "4  https://www.ted.com/talks/hans_rosling_shows_t...  12005869  "
      ]
     },
     "execution_count": 74,
     "metadata": {},
     "output_type": "execute_result"
    }
   ],
   "source": [
    "ted_main.head(5)"
   ]
  },
  {
   "cell_type": "code",
   "execution_count": 75,
   "metadata": {
    "colab": {
     "base_uri": "https://localhost:8080/",
     "height": 198
    },
    "id": "UgB_1a_dj19l",
    "outputId": "00a7337d-2cd7-4f98-a236-303a2cfdaedf"
   },
   "outputs": [
    {
     "data": {
      "text/html": [
       "<div>\n",
       "<style scoped>\n",
       "    .dataframe tbody tr th:only-of-type {\n",
       "        vertical-align: middle;\n",
       "    }\n",
       "\n",
       "    .dataframe tbody tr th {\n",
       "        vertical-align: top;\n",
       "    }\n",
       "\n",
       "    .dataframe thead th {\n",
       "        text-align: right;\n",
       "    }\n",
       "</style>\n",
       "<table border=\"1\" class=\"dataframe\">\n",
       "  <thead>\n",
       "    <tr style=\"text-align: right;\">\n",
       "      <th></th>\n",
       "      <th>comments</th>\n",
       "      <th>duration</th>\n",
       "      <th>languages</th>\n",
       "      <th>num_speaker</th>\n",
       "      <th>views</th>\n",
       "    </tr>\n",
       "  </thead>\n",
       "  <tbody>\n",
       "    <tr>\n",
       "      <th>comments</th>\n",
       "      <td>1.000000</td>\n",
       "      <td>0.140507</td>\n",
       "      <td>0.318831</td>\n",
       "      <td>-0.035564</td>\n",
       "      <td>0.530897</td>\n",
       "    </tr>\n",
       "    <tr>\n",
       "      <th>duration</th>\n",
       "      <td>0.140507</td>\n",
       "      <td>1.000000</td>\n",
       "      <td>-0.294214</td>\n",
       "      <td>0.022001</td>\n",
       "      <td>0.048489</td>\n",
       "    </tr>\n",
       "    <tr>\n",
       "      <th>languages</th>\n",
       "      <td>0.318831</td>\n",
       "      <td>-0.294214</td>\n",
       "      <td>1.000000</td>\n",
       "      <td>-0.063085</td>\n",
       "      <td>0.378027</td>\n",
       "    </tr>\n",
       "    <tr>\n",
       "      <th>num_speaker</th>\n",
       "      <td>-0.035564</td>\n",
       "      <td>0.022001</td>\n",
       "      <td>-0.063085</td>\n",
       "      <td>1.000000</td>\n",
       "      <td>-0.026474</td>\n",
       "    </tr>\n",
       "    <tr>\n",
       "      <th>views</th>\n",
       "      <td>0.530897</td>\n",
       "      <td>0.048489</td>\n",
       "      <td>0.378027</td>\n",
       "      <td>-0.026474</td>\n",
       "      <td>1.000000</td>\n",
       "    </tr>\n",
       "  </tbody>\n",
       "</table>\n",
       "</div>"
      ],
      "text/plain": [
       "             comments  duration  languages  num_speaker     views\n",
       "comments     1.000000  0.140507   0.318831    -0.035564  0.530897\n",
       "duration     0.140507  1.000000  -0.294214     0.022001  0.048489\n",
       "languages    0.318831 -0.294214   1.000000    -0.063085  0.378027\n",
       "num_speaker -0.035564  0.022001  -0.063085     1.000000 -0.026474\n",
       "views        0.530897  0.048489   0.378027    -0.026474  1.000000"
      ]
     },
     "execution_count": 75,
     "metadata": {},
     "output_type": "execute_result"
    }
   ],
   "source": [
    "ted_main.corr()"
   ]
  },
  {
   "cell_type": "code",
   "execution_count": 76,
   "metadata": {
    "id": "fTblQchpjzFk"
   },
   "outputs": [],
   "source": [
    "import seaborn as sns"
   ]
  },
  {
   "cell_type": "code",
   "execution_count": 77,
   "metadata": {
    "colab": {
     "base_uri": "https://localhost:8080/",
     "height": 326
    },
    "id": "ubpO2nJnj-CD",
    "outputId": "5054c018-7e94-415d-c323-678d0e424bc5"
   },
   "outputs": [
    {
     "data": {
      "image/png": "[encoded data removed]",
      "text/plain": [
       "<Figure size 432x288 with 2 Axes>"
      ]
     },
     "metadata": {
      "needs_background": "light"
     },
     "output_type": "display_data"
    }
   ],
   "source": [
    "sns.heatmap(ted_main.corr());"
   ]
  },
  {
   "cell_type": "code",
   "execution_count": 78,
   "metadata": {
    "colab": {
     "base_uri": "https://localhost:8080/",
     "height": 326
    },
    "id": "PMdMJNsnkCzU",
    "outputId": "36173ce1-508b-456a-f096-24c253846561"
   },
   "outputs": [
    {
     "data": {
      "image/png": "[encoded data removed]",
      "text/plain": [
       "<Figure size 432x288 with 2 Axes>"
      ]
     },
     "metadata": {
      "needs_background": "light"
     },
     "output_type": "display_data"
    }
   ],
   "source": [
    "sns.heatmap(ted_main.corr(), vmin=-1, vmax=1, cmap='seismic', linewidths=0.2, annot=True);"
   ]
  },
  {
   "cell_type": "markdown",
   "metadata": {
    "id": "0-VKk9QcBW9N"
   },
   "source": [
    "## Visualizing distributions"
   ]
  },
  {
   "cell_type": "code",
   "execution_count": 79,
   "metadata": {
    "colab": {
     "base_uri": "https://localhost:8080/",
     "height": 265
    },
    "id": "fr46ApODAo0X",
    "outputId": "2fa2f73c-6d72-446d-cbcd-c2c378d7be44"
   },
   "outputs": [
    {
     "data": {
      "image/png": "[encoded data removed]",
      "text/plain": [
       "<Figure size 432x288 with 1 Axes>"
      ]
     },
     "metadata": {
      "needs_background": "light"
     },
     "output_type": "display_data"
    }
   ],
   "source": [
    "ted_main['comments'].hist(bins=100);"
   ]
  },
  {
   "cell_type": "code",
   "execution_count": 80,
   "metadata": {
    "id": "Xarxj4RSXtw2"
   },
   "outputs": [],
   "source": [
    "import numpy as np"
   ]
  },
  {
   "cell_type": "code",
   "execution_count": 81,
   "metadata": {
    "colab": {
     "base_uri": "https://localhost:8080/",
     "height": 265
    },
    "id": "Bt9slz5TA9DX",
    "outputId": "5696bac0-34b9-4546-ebd4-9b38a4787fd9"
   },
   "outputs": [
    {
     "data": {
      "image/png": "[encoded data removed]",
      "text/plain": [
       "<Figure size 432x288 with 1 Axes>"
      ]
     },
     "metadata": {
      "needs_background": "light"
     },
     "output_type": "display_data"
    }
   ],
   "source": [
    "np.log(ted_main['comments']).hist(bins=100);"
   ]
  },
  {
   "cell_type": "code",
   "execution_count": 82,
   "metadata": {
    "colab": {
     "base_uri": "https://localhost:8080/",
     "height": 282
    },
    "id": "9GTsvRtgGmCl",
    "outputId": "cbc1f20d-e518-498b-8068-f170f082e539"
   },
   "outputs": [
    {
     "data": {
      "text/plain": [
       "<matplotlib.axes._subplots.AxesSubplot at 0x7fdf9cc12cd0>"
      ]
     },
     "execution_count": 82,
     "metadata": {},
     "output_type": "execute_result"
    },
    {
     "data": {
      "image/png": "[encoded data removed]",
      "text/plain": [
       "<Figure size 432x288 with 1 Axes>"
      ]
     },
     "metadata": {
      "needs_background": "light"
     },
     "output_type": "display_data"
    }
   ],
   "source": [
    "ted_main['comments'].hist(log=True, bins=100)"
   ]
  },
  {
   "cell_type": "markdown",
   "metadata": {
    "id": "ctYd4EMnBY8M"
   },
   "source": [
    "## Duration"
   ]
  },
  {
   "cell_type": "code",
   "execution_count": 83,
   "metadata": {
    "colab": {
     "base_uri": "https://localhost:8080/",
     "height": 265
    },
    "id": "vo_ChGuyBDqU",
    "outputId": "02351f7b-82e9-478a-ed9b-983ca9b80645"
   },
   "outputs": [
    {
     "data": {
      "image/png": "[encoded data removed]",
      "text/plain": [
       "<Figure size 432x288 with 1 Axes>"
      ]
     },
     "metadata": {
      "needs_background": "light"
     },
     "output_type": "display_data"
    }
   ],
   "source": [
    "ted_main['duration'].hist(bins=50);"
   ]
  },
  {
   "cell_type": "code",
   "execution_count": 84,
   "metadata": {
    "colab": {
     "base_uri": "https://localhost:8080/",
     "height": 265
    },
    "id": "7MzW-_xJBdpT",
    "outputId": "1d930508-7976-4df2-bb4d-fe70e8060a1b"
   },
   "outputs": [
    {
     "data": {
      "image/png": "[encoded data removed]",
      "text/plain": [
       "<Figure size 432x288 with 1 Axes>"
      ]
     },
     "metadata": {
      "needs_background": "light"
     },
     "output_type": "display_data"
    }
   ],
   "source": [
    "np.log(ted_main['duration']).hist(bins=50);"
   ]
  },
  {
   "cell_type": "markdown",
   "metadata": {
    "id": "MYaqjS5oBvIK"
   },
   "source": [
    "## Views"
   ]
  },
  {
   "cell_type": "code",
   "execution_count": 85,
   "metadata": {
    "colab": {
     "base_uri": "https://localhost:8080/",
     "height": 278
    },
    "id": "ZPZVm9P2BfqX",
    "outputId": "5397f24f-8290-4869-a1ab-d76a73f2cd7d"
   },
   "outputs": [
    {
     "data": {
      "image/png": "[encoded data removed]",
      "text/plain": [
       "<Figure size 432x288 with 1 Axes>"
      ]
     },
     "metadata": {
      "needs_background": "light"
     },
     "output_type": "display_data"
    }
   ],
   "source": [
    "ted_main['views'].hist(bins=50);"
   ]
  },
  {
   "cell_type": "code",
   "execution_count": 86,
   "metadata": {
    "colab": {
     "base_uri": "https://localhost:8080/",
     "height": 265
    },
    "id": "TmdCHVs7ByXV",
    "outputId": "99fe3db5-6be2-453f-cdad-5d452ab79247"
   },
   "outputs": [
    {
     "data": {
      "image/png": "[encoded data removed]",
      "text/plain": [
       "<Figure size 432x288 with 1 Axes>"
      ]
     },
     "metadata": {
      "needs_background": "light"
     },
     "output_type": "display_data"
    }
   ],
   "source": [
    "np.log(ted_main['views']).hist(bins=50);"
   ]
  },
  {
   "cell_type": "markdown",
   "metadata": {
    "id": "wRUPZdN2KXiM"
   },
   "source": [
    "# Predict label from Speaker's Profession"
   ]
  },
  {
   "cell_type": "code",
   "execution_count": 87,
   "metadata": {
    "colab": {
     "base_uri": "https://localhost:8080/",
     "height": 225
    },
    "id": "DVGbPKu2G3Qp",
    "outputId": "cc000bbf-08ff-413e-980a-bd58b7a57b97"
   },
   "outputs": [
    {
     "data": {
      "text/plain": [
       "Writer                                 45\n",
       "Artist                                 34\n",
       "Designer                               34\n",
       "Journalist                             33\n",
       "Entrepreneur                           31\n",
       "                                       ..\n",
       "Hacker, community manager               1\n",
       "Rabbi                                   1\n",
       "Cybercrime fighter                      1\n",
       "Founder, Transparency International     1\n",
       "Activist, volunteer firefighter         1\n",
       "Name: speaker_occupation, Length: 1458, dtype: int64"
      ]
     },
     "execution_count": 87,
     "metadata": {},
     "output_type": "execute_result"
    }
   ],
   "source": [
    "ted_main['speaker_occupation'].value_counts()"
   ]
  },
  {
   "cell_type": "code",
   "execution_count": 88,
   "metadata": {
    "id": "N_uZVrvUMYKf"
   },
   "outputs": [],
   "source": [
    "professions = ted_main['speaker_occupation']\n",
    "most_common_professions = list(professions.value_counts()[:50].index)\n",
    "test = ted_main['speaker_occupation'].apply(\\\n",
    "  lambda x: x if x in most_common_professions else 'Other')"
   ]
  },
  {
   "cell_type": "code",
   "execution_count": 89,
   "metadata": {
    "colab": {
     "base_uri": "https://localhost:8080/",
     "height": 915
    },
    "id": "1hg9OaOMHBm0",
    "outputId": "0f5ad9c8-a0b6-4a75-d6a1-e0dfb1f99b3b"
   },
   "outputs": [
    {
     "data": {
      "text/plain": [
       "Other                                   1848\n",
       "Writer                                    45\n",
       "Designer                                  34\n",
       "Artist                                    34\n",
       "Journalist                                33\n",
       "Entrepreneur                              31\n",
       "Architect                                 30\n",
       "Inventor                                  27\n",
       "Psychologist                              26\n",
       "Photographer                              25\n",
       "Filmmaker                                 21\n",
       "Neuroscientist                            20\n",
       "Author                                    20\n",
       "Educator                                  20\n",
       "Economist                                 20\n",
       "Roboticist                                16\n",
       "Philosopher                               16\n",
       "Biologist                                 15\n",
       "Physicist                                 14\n",
       "Marine biologist                          11\n",
       "Musician                                  11\n",
       "Activist                                  10\n",
       "Global health expert; data visionary      10\n",
       "Technologist                              10\n",
       "Philanthropist                             9\n",
       "Historian                                  9\n",
       "Behavioral economist                       9\n",
       "Singer/songwriter                          9\n",
       "Oceanographer                              9\n",
       "Poet                                       9\n",
       "Graphic designer                           9\n",
       "Astronomer                                 9\n",
       "Futurist                                   8\n",
       "Social psychologist                        8\n",
       "Computer scientist                         8\n",
       "Novelist                                   8\n",
       "Engineer                                   8\n",
       "Astrophysicist                             7\n",
       "Mathematician                              7\n",
       "Singer-songwriter                          6\n",
       "Social entrepreneur                        6\n",
       "Evolutionary biologist                     6\n",
       "Writer, activist                           6\n",
       "Comedian                                   6\n",
       "Photojournalist                            6\n",
       "Legal activist                             6\n",
       "Techno-illusionist                         6\n",
       "Performance poet, multimedia artist        6\n",
       "Climate advocate                           6\n",
       "Reporter                                   6\n",
       "Tech visionary                             5\n",
       "Name: speaker_occupation, dtype: int64"
      ]
     },
     "execution_count": 89,
     "metadata": {},
     "output_type": "execute_result"
    }
   ],
   "source": [
    "test.value_counts()"
   ]
  },
  {
   "cell_type": "code",
   "execution_count": 90,
   "metadata": {
    "colab": {
     "base_uri": "https://localhost:8080/",
     "height": 121
    },
    "id": "bue0jMH8-_at",
    "outputId": "3d416cdb-8800-4445-e0df-4fabf2766bc3"
   },
   "outputs": [
    {
     "data": {
      "text/plain": [
       "0                                   Other\n",
       "1                        Climate advocate\n",
       "2                                   Other\n",
       "3                                   Other\n",
       "4    Global health expert; data visionary\n",
       "Name: speaker_occupation, dtype: object"
      ]
     },
     "execution_count": 90,
     "metadata": {},
     "output_type": "execute_result"
    }
   ],
   "source": [
    "test.head()"
   ]
  },
  {
   "cell_type": "code",
   "execution_count": 91,
   "metadata": {
    "id": "bidMhDG_NeOC"
   },
   "outputs": [],
   "source": [
    "one_hot_vectors = pd.get_dummies(test)"
   ]
  },
  {
   "cell_type": "code",
   "execution_count": 92,
   "metadata": {
    "colab": {
     "base_uri": "https://localhost:8080/",
     "height": 496
    },
    "id": "U4X53nLNHPyw",
    "outputId": "565a9388-e5bd-42a0-9f56-c300c7fd99c8"
   },
   "outputs": [
    {
     "data": {
      "text/html": [
       "<div>\n",
       "<style scoped>\n",
       "    .dataframe tbody tr th:only-of-type {\n",
       "        vertical-align: middle;\n",
       "    }\n",
       "\n",
       "    .dataframe tbody tr th {\n",
       "        vertical-align: top;\n",
       "    }\n",
       "\n",
       "    .dataframe thead th {\n",
       "        text-align: right;\n",
       "    }\n",
       "</style>\n",
       "<table border=\"1\" class=\"dataframe\">\n",
       "  <thead>\n",
       "    <tr style=\"text-align: right;\">\n",
       "      <th></th>\n",
       "      <th>Activist</th>\n",
       "      <th>Architect</th>\n",
       "      <th>Artist</th>\n",
       "      <th>Astronomer</th>\n",
       "      <th>Astrophysicist</th>\n",
       "      <th>Author</th>\n",
       "      <th>Behavioral economist</th>\n",
       "      <th>Biologist</th>\n",
       "      <th>Climate advocate</th>\n",
       "      <th>Comedian</th>\n",
       "      <th>...</th>\n",
       "      <th>Roboticist</th>\n",
       "      <th>Singer-songwriter</th>\n",
       "      <th>Singer/songwriter</th>\n",
       "      <th>Social entrepreneur</th>\n",
       "      <th>Social psychologist</th>\n",
       "      <th>Tech visionary</th>\n",
       "      <th>Techno-illusionist</th>\n",
       "      <th>Technologist</th>\n",
       "      <th>Writer</th>\n",
       "      <th>Writer, activist</th>\n",
       "    </tr>\n",
       "  </thead>\n",
       "  <tbody>\n",
       "    <tr>\n",
       "      <th>0</th>\n",
       "      <td>0</td>\n",
       "      <td>0</td>\n",
       "      <td>0</td>\n",
       "      <td>0</td>\n",
       "      <td>0</td>\n",
       "      <td>0</td>\n",
       "      <td>0</td>\n",
       "      <td>0</td>\n",
       "      <td>0</td>\n",
       "      <td>0</td>\n",
       "      <td>...</td>\n",
       "      <td>0</td>\n",
       "      <td>0</td>\n",
       "      <td>0</td>\n",
       "      <td>0</td>\n",
       "      <td>0</td>\n",
       "      <td>0</td>\n",
       "      <td>0</td>\n",
       "      <td>0</td>\n",
       "      <td>0</td>\n",
       "      <td>0</td>\n",
       "    </tr>\n",
       "    <tr>\n",
       "      <th>1</th>\n",
       "      <td>0</td>\n",
       "      <td>0</td>\n",
       "      <td>0</td>\n",
       "      <td>0</td>\n",
       "      <td>0</td>\n",
       "      <td>0</td>\n",
       "      <td>0</td>\n",
       "      <td>0</td>\n",
       "      <td>1</td>\n",
       "      <td>0</td>\n",
       "      <td>...</td>\n",
       "      <td>0</td>\n",
       "      <td>0</td>\n",
       "      <td>0</td>\n",
       "      <td>0</td>\n",
       "      <td>0</td>\n",
       "      <td>0</td>\n",
       "      <td>0</td>\n",
       "      <td>0</td>\n",
       "      <td>0</td>\n",
       "      <td>0</td>\n",
       "    </tr>\n",
       "    <tr>\n",
       "      <th>2</th>\n",
       "      <td>0</td>\n",
       "      <td>0</td>\n",
       "      <td>0</td>\n",
       "      <td>0</td>\n",
       "      <td>0</td>\n",
       "      <td>0</td>\n",
       "      <td>0</td>\n",
       "      <td>0</td>\n",
       "      <td>0</td>\n",
       "      <td>0</td>\n",
       "      <td>...</td>\n",
       "      <td>0</td>\n",
       "      <td>0</td>\n",
       "      <td>0</td>\n",
       "      <td>0</td>\n",
       "      <td>0</td>\n",
       "      <td>0</td>\n",
       "      <td>0</td>\n",
       "      <td>0</td>\n",
       "      <td>0</td>\n",
       "      <td>0</td>\n",
       "    </tr>\n",
       "    <tr>\n",
       "      <th>3</th>\n",
       "      <td>0</td>\n",
       "      <td>0</td>\n",
       "      <td>0</td>\n",
       "      <td>0</td>\n",
       "      <td>0</td>\n",
       "      <td>0</td>\n",
       "      <td>0</td>\n",
       "      <td>0</td>\n",
       "      <td>0</td>\n",
       "      <td>0</td>\n",
       "      <td>...</td>\n",
       "      <td>0</td>\n",
       "      <td>0</td>\n",
       "      <td>0</td>\n",
       "      <td>0</td>\n",
       "      <td>0</td>\n",
       "      <td>0</td>\n",
       "      <td>0</td>\n",
       "      <td>0</td>\n",
       "      <td>0</td>\n",
       "      <td>0</td>\n",
       "    </tr>\n",
       "    <tr>\n",
       "      <th>4</th>\n",
       "      <td>0</td>\n",
       "      <td>0</td>\n",
       "      <td>0</td>\n",
       "      <td>0</td>\n",
       "      <td>0</td>\n",
       "      <td>0</td>\n",
       "      <td>0</td>\n",
       "      <td>0</td>\n",
       "      <td>0</td>\n",
       "      <td>0</td>\n",
       "      <td>...</td>\n",
       "      <td>0</td>\n",
       "      <td>0</td>\n",
       "      <td>0</td>\n",
       "      <td>0</td>\n",
       "      <td>0</td>\n",
       "      <td>0</td>\n",
       "      <td>0</td>\n",
       "      <td>0</td>\n",
       "      <td>0</td>\n",
       "      <td>0</td>\n",
       "    </tr>\n",
       "    <tr>\n",
       "      <th>...</th>\n",
       "      <td>...</td>\n",
       "      <td>...</td>\n",
       "      <td>...</td>\n",
       "      <td>...</td>\n",
       "      <td>...</td>\n",
       "      <td>...</td>\n",
       "      <td>...</td>\n",
       "      <td>...</td>\n",
       "      <td>...</td>\n",
       "      <td>...</td>\n",
       "      <td>...</td>\n",
       "      <td>...</td>\n",
       "      <td>...</td>\n",
       "      <td>...</td>\n",
       "      <td>...</td>\n",
       "      <td>...</td>\n",
       "      <td>...</td>\n",
       "      <td>...</td>\n",
       "      <td>...</td>\n",
       "      <td>...</td>\n",
       "      <td>...</td>\n",
       "    </tr>\n",
       "    <tr>\n",
       "      <th>2545</th>\n",
       "      <td>0</td>\n",
       "      <td>0</td>\n",
       "      <td>0</td>\n",
       "      <td>0</td>\n",
       "      <td>0</td>\n",
       "      <td>0</td>\n",
       "      <td>0</td>\n",
       "      <td>0</td>\n",
       "      <td>0</td>\n",
       "      <td>0</td>\n",
       "      <td>...</td>\n",
       "      <td>0</td>\n",
       "      <td>0</td>\n",
       "      <td>0</td>\n",
       "      <td>0</td>\n",
       "      <td>0</td>\n",
       "      <td>0</td>\n",
       "      <td>0</td>\n",
       "      <td>0</td>\n",
       "      <td>0</td>\n",
       "      <td>0</td>\n",
       "    </tr>\n",
       "    <tr>\n",
       "      <th>2546</th>\n",
       "      <td>0</td>\n",
       "      <td>0</td>\n",
       "      <td>0</td>\n",
       "      <td>0</td>\n",
       "      <td>0</td>\n",
       "      <td>0</td>\n",
       "      <td>0</td>\n",
       "      <td>0</td>\n",
       "      <td>0</td>\n",
       "      <td>0</td>\n",
       "      <td>...</td>\n",
       "      <td>0</td>\n",
       "      <td>0</td>\n",
       "      <td>0</td>\n",
       "      <td>0</td>\n",
       "      <td>0</td>\n",
       "      <td>0</td>\n",
       "      <td>0</td>\n",
       "      <td>0</td>\n",
       "      <td>0</td>\n",
       "      <td>0</td>\n",
       "    </tr>\n",
       "    <tr>\n",
       "      <th>2547</th>\n",
       "      <td>0</td>\n",
       "      <td>0</td>\n",
       "      <td>0</td>\n",
       "      <td>0</td>\n",
       "      <td>0</td>\n",
       "      <td>0</td>\n",
       "      <td>0</td>\n",
       "      <td>0</td>\n",
       "      <td>0</td>\n",
       "      <td>0</td>\n",
       "      <td>...</td>\n",
       "      <td>0</td>\n",
       "      <td>0</td>\n",
       "      <td>0</td>\n",
       "      <td>0</td>\n",
       "      <td>0</td>\n",
       "      <td>0</td>\n",
       "      <td>0</td>\n",
       "      <td>0</td>\n",
       "      <td>0</td>\n",
       "      <td>0</td>\n",
       "    </tr>\n",
       "    <tr>\n",
       "      <th>2548</th>\n",
       "      <td>0</td>\n",
       "      <td>0</td>\n",
       "      <td>0</td>\n",
       "      <td>0</td>\n",
       "      <td>0</td>\n",
       "      <td>0</td>\n",
       "      <td>0</td>\n",
       "      <td>0</td>\n",
       "      <td>0</td>\n",
       "      <td>0</td>\n",
       "      <td>...</td>\n",
       "      <td>0</td>\n",
       "      <td>0</td>\n",
       "      <td>0</td>\n",
       "      <td>0</td>\n",
       "      <td>0</td>\n",
       "      <td>0</td>\n",
       "      <td>0</td>\n",
       "      <td>0</td>\n",
       "      <td>0</td>\n",
       "      <td>0</td>\n",
       "    </tr>\n",
       "    <tr>\n",
       "      <th>2549</th>\n",
       "      <td>0</td>\n",
       "      <td>0</td>\n",
       "      <td>0</td>\n",
       "      <td>0</td>\n",
       "      <td>0</td>\n",
       "      <td>0</td>\n",
       "      <td>0</td>\n",
       "      <td>0</td>\n",
       "      <td>0</td>\n",
       "      <td>0</td>\n",
       "      <td>...</td>\n",
       "      <td>0</td>\n",
       "      <td>0</td>\n",
       "      <td>0</td>\n",
       "      <td>0</td>\n",
       "      <td>0</td>\n",
       "      <td>0</td>\n",
       "      <td>0</td>\n",
       "      <td>0</td>\n",
       "      <td>0</td>\n",
       "      <td>0</td>\n",
       "    </tr>\n",
       "  </tbody>\n",
       "</table>\n",
       "<p>2544 rows × 51 columns</p>\n",
       "</div>"
      ],
      "text/plain": [
       "      Activist  Architect  Artist  Astronomer  Astrophysicist  Author  \\\n",
       "0            0          0       0           0               0       0   \n",
       "1            0          0       0           0               0       0   \n",
       "2            0          0       0           0               0       0   \n",
       "3            0          0       0           0               0       0   \n",
       "4            0          0       0           0               0       0   \n",
       "...        ...        ...     ...         ...             ...     ...   \n",
       "2545         0          0       0           0               0       0   \n",
       "2546         0          0       0           0               0       0   \n",
       "2547         0          0       0           0               0       0   \n",
       "2548         0          0       0           0               0       0   \n",
       "2549         0          0       0           0               0       0   \n",
       "\n",
       "      Behavioral economist  Biologist  Climate advocate  Comedian  ...  \\\n",
       "0                        0          0                 0         0  ...   \n",
       "1                        0          0                 1         0  ...   \n",
       "2                        0          0                 0         0  ...   \n",
       "3                        0          0                 0         0  ...   \n",
       "4                        0          0                 0         0  ...   \n",
       "...                    ...        ...               ...       ...  ...   \n",
       "2545                     0          0                 0         0  ...   \n",
       "2546                     0          0                 0         0  ...   \n",
       "2547                     0          0                 0         0  ...   \n",
       "2548                     0          0                 0         0  ...   \n",
       "2549                     0          0                 0         0  ...   \n",
       "\n",
       "      Roboticist  Singer-songwriter  Singer/songwriter  Social entrepreneur  \\\n",
       "0              0                  0                  0                    0   \n",
       "1              0                  0                  0                    0   \n",
       "2              0                  0                  0                    0   \n",
       "3              0                  0                  0                    0   \n",
       "4              0                  0                  0                    0   \n",
       "...          ...                ...                ...                  ...   \n",
       "2545           0                  0                  0                    0   \n",
       "2546           0                  0                  0                    0   \n",
       "2547           0                  0                  0                    0   \n",
       "2548           0                  0                  0                    0   \n",
       "2549           0                  0                  0                    0   \n",
       "\n",
       "      Social psychologist  Tech visionary  Techno-illusionist  Technologist  \\\n",
       "0                       0               0                   0             0   \n",
       "1                       0               0                   0             0   \n",
       "2                       0               0                   0             0   \n",
       "3                       0               0                   0             0   \n",
       "4                       0               0                   0             0   \n",
       "...                   ...             ...                 ...           ...   \n",
       "2545                    0               0                   0             0   \n",
       "2546                    0               0                   0             0   \n",
       "2547                    0               0                   0             0   \n",
       "2548                    0               0                   0             0   \n",
       "2549                    0               0                   0             0   \n",
       "\n",
       "      Writer  Writer, activist  \n",
       "0          0                 0  \n",
       "1          0                 0  \n",
       "2          0                 0  \n",
       "3          0                 0  \n",
       "4          0                 0  \n",
       "...      ...               ...  \n",
       "2545       0                 0  \n",
       "2546       0                 0  \n",
       "2547       0                 0  \n",
       "2548       0                 0  \n",
       "2549       0                 0  \n",
       "\n",
       "[2544 rows x 51 columns]"
      ]
     },
     "execution_count": 92,
     "metadata": {},
     "output_type": "execute_result"
    }
   ],
   "source": [
    "one_hot_vectors"
   ]
  },
  {
   "cell_type": "code",
   "execution_count": 93,
   "metadata": {
    "colab": {
     "base_uri": "https://localhost:8080/",
     "height": 225
    },
    "id": "nB6IQJoTHpeo",
    "outputId": "ff338edc-6486-4013-9d29-79eeeaa2d6b5"
   },
   "outputs": [
    {
     "data": {
      "text/plain": [
       "0       [children, creativity, culture, dance, educati...\n",
       "1       [alternative energy, cars, climate change, cul...\n",
       "2       [computers, entertainment, interface design, m...\n",
       "3       [MacArthur grant, activism, business, cities, ...\n",
       "4       [Africa, Asia, Google, demo, economics, global...\n",
       "                              ...                        \n",
       "2545    [TED Residency, United States, community, fami...\n",
       "2546    [Mars, South America, TED Fellows, astrobiolog...\n",
       "2547    [AI, ants, fish, future, innovation, insects, ...\n",
       "2548    [Internet, TEDx, United States, community, com...\n",
       "2549    [cities, design, future, infrastructure, play,...\n",
       "Name: tags, Length: 2544, dtype: object"
      ]
     },
     "execution_count": 93,
     "metadata": {},
     "output_type": "execute_result"
    }
   ],
   "source": [
    "ted_main['tags']"
   ]
  },
  {
   "cell_type": "markdown",
   "metadata": {
    "id": "_mH16l09JbIR"
   },
   "source": [
    "## Splitting data into train and test sets"
   ]
  },
  {
   "cell_type": "code",
   "execution_count": 94,
   "metadata": {
    "id": "E42MGgzXOGNf"
   },
   "outputs": [],
   "source": [
    "from sklearn.metrics import accuracy_score\n",
    "from sklearn.model_selection import train_test_split\n",
    "\n",
    "X = one_hot_vectors\n",
    "y = ted_main['tags'].apply(lambda x: 'technology' in x)\n",
    "\n",
    "X_train, X_test, y_train, y_test = train_test_split(X, y, test_size=0.3)"
   ]
  },
  {
   "cell_type": "code",
   "execution_count": 95,
   "metadata": {
    "colab": {
     "base_uri": "https://localhost:8080/",
     "height": 35
    },
    "id": "nJ9fq3jbH1Fw",
    "outputId": "4293e5b6-2b4f-4d9f-c7f2-965da093f8be"
   },
   "outputs": [
    {
     "data": {
      "text/plain": [
       "(1780, 764)"
      ]
     },
     "execution_count": 95,
     "metadata": {},
     "output_type": "execute_result"
    }
   ],
   "source": [
    "len(X_train), len(X_test)"
   ]
  },
  {
   "cell_type": "code",
   "execution_count": 96,
   "metadata": {
    "colab": {
     "base_uri": "https://localhost:8080/",
     "height": 69
    },
    "id": "1rkm0TiAIBqu",
    "outputId": "89492734-e38a-4a1b-f6d1-0df16954f408"
   },
   "outputs": [
    {
     "data": {
      "text/plain": [
       "False    1821\n",
       "True      723\n",
       "Name: tags, dtype: int64"
      ]
     },
     "execution_count": 96,
     "metadata": {},
     "output_type": "execute_result"
    }
   ],
   "source": [
    "y.value_counts()"
   ]
  },
  {
   "cell_type": "markdown",
   "metadata": {
    "id": "qXJGOQXUJkCy"
   },
   "source": [
    "## Importing a logistic regression classifier and using it to predict whether the talk has the Technology tag"
   ]
  },
  {
   "cell_type": "code",
   "execution_count": 97,
   "metadata": {
    "colab": {
     "base_uri": "https://localhost:8080/",
     "height": 121
    },
    "id": "243_tQswaMlx",
    "outputId": "bde4803b-2e4b-4e87-a9e1-dfdcdb89b9b3"
   },
   "outputs": [
    {
     "name": "stdout",
     "output_type": "stream",
     "text": [
      "Predicting if the talk is related to Technology using a Logistic Regression classifier:\n",
      "\n",
      "The classifier's accuracy is... *drum roll*\n",
      "\n",
      "70.81 percent!\n",
      "\n"
     ]
    }
   ],
   "source": [
    "from sklearn.linear_model import LogisticRegression\n",
    "\n",
    "clf = LogisticRegression(solver='lbfgs')\n",
    "clf.fit(X_train, y_train)\n",
    "preds = clf.predict(X_test)\n",
    "\n",
    "print(\"Predicting if the talk is related to Technology using a Logistic Regression classifier:\")\n",
    "print(\"\\nThe classifier's accuracy is... *drum roll*\\n\\n%s percent!\\n\" % round(100*accuracy_score(y_test, preds), 2))"
   ]
  },
  {
   "cell_type": "code",
   "execution_count": 98,
   "metadata": {
    "id": "azaeJuRcIwKp"
   },
   "outputs": [],
   "source": [
    "accuracy_score?"
   ]
  },
  {
   "cell_type": "code",
   "execution_count": 99,
   "metadata": {
    "id": "T8PCifRN9VdE"
   },
   "outputs": [],
   "source": [
    "from sklearn.metrics import classification_report"
   ]
  },
  {
   "cell_type": "code",
   "execution_count": 100,
   "metadata": {
    "colab": {
     "base_uri": "https://localhost:8080/",
     "height": 173
    },
    "id": "YfeFau6V9YA1",
    "outputId": "321cd906-fc03-4d5f-cd52-1804ad4eb643"
   },
   "outputs": [
    {
     "name": "stdout",
     "output_type": "stream",
     "text": [
      "              precision    recall  f1-score   support\n",
      "\n",
      "       False       0.71      0.98      0.82       529\n",
      "        True       0.71      0.09      0.15       235\n",
      "\n",
      "    accuracy                           0.71       764\n",
      "   macro avg       0.71      0.53      0.49       764\n",
      "weighted avg       0.71      0.71      0.62       764\n",
      "\n"
     ]
    }
   ],
   "source": [
    "print(classification_report(y_test, preds))"
   ]
  },
  {
   "cell_type": "markdown",
   "metadata": {
    "id": "cJKRyAhFJwtx"
   },
   "source": [
    "## Importing a decision tree classifier and using it to predict whether the talk has the Technology tag"
   ]
  },
  {
   "cell_type": "code",
   "execution_count": 101,
   "metadata": {
    "colab": {
     "base_uri": "https://localhost:8080/",
     "height": 121
    },
    "id": "O1glOTtfbDlI",
    "outputId": "4e89ca1e-1229-48d5-f33e-705af76bb8a9"
   },
   "outputs": [
    {
     "name": "stdout",
     "output_type": "stream",
     "text": [
      "Predicting if the talk is related to Technology using a Logistic Regression classifier:\n",
      "\n",
      "The classifier's accuracy is... *drum roll*\n",
      "\n",
      "70.81 percent!\n",
      "\n"
     ]
    }
   ],
   "source": [
    "from sklearn.tree import DecisionTreeClassifier\n",
    "\n",
    "clf2 = DecisionTreeClassifier()\n",
    "clf2.fit(X_train, y_train)\n",
    "preds = clf2.predict(X_test)\n",
    "\n",
    "print(\"Predicting if the talk is related to Technology using a Logistic Regression classifier:\")\n",
    "# print(classification_report(y_test, preds))\n",
    "print(\"\\nThe classifier's accuracy is... *drum roll*\\n\\n%s percent!\\n\" % round(100*accuracy_score(y_test, preds), 2))"
   ]
  },
  {
   "cell_type": "markdown",
   "metadata": {
    "id": "BF74iWPnQYOf"
   },
   "source": []
  },
  {
   "cell_type": "code",
   "execution_count": null,
   "metadata": {
    "id": "81w2Qpmc9O1B"
   },
   "outputs": [],
   "source": []
  }
 ],
 "metadata": {
  "colab": {
   "collapsed_sections": [],
   "name": "Python for Data Science.ipynb",
   "provenance": []
  },
  "kernelspec": {
   "display_name": "Python 3",
   "language": "python",
   "name": "python3"
  },
  "language_info": {
   "codemirror_mode": {
    "name": "ipython",
    "version": 3
   },
   "file_extension": ".py",
   "mimetype": "text/x-python",
   "name": "python",
   "nbconvert_exporter": "python",
   "pygments_lexer": "ipython3",
   "version": "3.8.3"
  }
 },
 "nbformat": 4,
 "nbformat_minor": 1
}
